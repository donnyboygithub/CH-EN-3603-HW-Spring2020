{
 "cells": [
  {
   "cell_type": "markdown",
   "metadata": {},
   "source": [
    "<div class=\"alert alert-block alert-info\">\n",
    "\n",
    "__8/8__ Ananya Sriram"
   ]
  },
  {
   "cell_type": "markdown",
   "metadata": {},
   "source": [
    "# Donovan Feist\n",
    "\n",
    "# CH EN 3603\n",
    "\n",
    "# Homework 5\n",
    "\n",
    "# Problem 3"
   ]
  },
  {
   "cell_type": "markdown",
   "metadata": {},
   "source": [
    "Determine an average diffusivity of $H_2S$ in water, using penetration theory, from the data below for\n",
    "absorption of $H_2S$ into a laminar jet of water at 20°C. Jet diameter=1 cm, jet length=7 cm, and solubility\n",
    "of $H_2S$ in water is $100 \\frac{mol}{m^3}$. Assume the contact time is the time of exposure of the jet."
   ]
  },
  {
   "cell_type": "markdown",
   "metadata": {},
   "source": [
    "| Jet Flow Rate, cm^3/s | Rate of Absorption, mol/s x 10^6 |\n",
    "|-----------------------|----------------------------------|\n",
    "| 0.143                 | 1.5                              |\n",
    "| 0.568                 | 3.0                              |\n",
    "| 1.278                 | 4.25                             |\n",
    "| 2.372                 | 6.15                             |\n",
    "| 3.571                 | 7.20                             |\n",
    "| 5.142                 | 8.75                             |"
   ]
  },
  {
   "cell_type": "markdown",
   "metadata": {},
   "source": [
    "# Solution"
   ]
  },
  {
   "cell_type": "markdown",
   "metadata": {},
   "source": [
    "Using film theory, with no bulk flow:\n",
    "\n",
    "$N_{H_2S}=-c\\frac{D_{AB}}{\\delta}(x_{H_2S_{fluid}}-x_{H_2S_{gas}})=ck_c(x_{H_2S_{gas}}-x_{H_2S_{fluid}})$.\n",
    "\n",
    "Applying Higbies penetration theory:\n",
    "\n",
    "$k_c=2\\sqrt{\\frac{D_{AB}}{\\pi t_c}} \\Rightarrow$\n",
    "\n",
    "$N_{H_2S}=c2\\sqrt{\\frac{D_{AB}}{\\pi t_c}}(x_{H_2S_{gas}}-x_{H_2S_{fluid}})=2\\sqrt{\\frac{D_{AB}}{\\pi t_c}}(c_{H_2S_{gas}}-c_{H_2S_{fluid}}).$\n",
    "\n",
    "Solving for $D_{AB} \\Rightarrow$\n",
    "\n",
    "$D_{AB}=\\pi t_c \\left (\\frac{N}{2(c_{H_2S_{gas}}-c_{H_2S_{fluid}})} \\right )^2$"
   ]
  },
  {
   "cell_type": "code",
   "execution_count": 3,
   "metadata": {},
   "outputs": [
    {
     "name": "stdout",
     "output_type": "stream",
     "text": [
      "[1.40484515e-05 1.41473843e-05 1.26191175e-05 1.42369685e-05\n",
      " 1.29615554e-05 1.32943164e-05]\n",
      "1.3551298939836563e-05\n"
     ]
    }
   ],
   "source": [
    "from numpy import pi,array,mean\n",
    "\n",
    "d=1 #cm\n",
    "l=7 #cm\n",
    "A=pi*d*l #cm2\n",
    "V=(pi*(d/2)**2)*l #cm3\n",
    "cg_gas=100*(1/100)**3 #mol/cm3\n",
    "cg_fluid=0 #mol/cm^3\n",
    "flowrate=array([0.143,0.568,1.278,2.372,3.571,5.142]) #cm3/s\n",
    "absorption=10**(-6)*array([1.5,3.0,4.25,6.15,7.20,8.75]) #mol/s\n",
    "flux=absorption/A #mol/(cm2*s)\n",
    "tc=V/flowrate #s\n",
    "\n",
    "Dab=pi*tc*(flux/(2*(cg_gas-cg_fluid)))**2 #cm2/s\n",
    "\n",
    "print(Dab)\n",
    "\n",
    "print(mean(Dab))"
   ]
  },
  {
   "cell_type": "markdown",
   "metadata": {},
   "source": [
    "The average diffusivity of $H_2S$ in water is $\\boxed{1.355 \\cdot 10^{-5} \\frac{cm^2}{s}}$."
   ]
  }
 ],
 "metadata": {
  "kernelspec": {
   "display_name": "Python 3",
   "language": "python",
   "name": "python3"
  },
  "language_info": {
   "codemirror_mode": {
    "name": "ipython",
    "version": 3
   },
   "file_extension": ".py",
   "mimetype": "text/x-python",
   "name": "python",
   "nbconvert_exporter": "python",
   "pygments_lexer": "ipython3",
   "version": "3.6.7"
  }
 },
 "nbformat": 4,
 "nbformat_minor": 2
}
