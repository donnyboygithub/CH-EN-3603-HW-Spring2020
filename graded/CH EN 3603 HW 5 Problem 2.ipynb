{
 "cells": [
  {
   "cell_type": "markdown",
   "metadata": {},
   "source": [
    "<div class=\"alert alert-block alert-info\">\n",
    "\n",
    "__6/6__ Ananya Sriram"
   ]
  },
  {
   "cell_type": "markdown",
   "metadata": {},
   "source": [
    "# Donovan Feist\n",
    "\n",
    "# CH EN 3603\n",
    "\n",
    "# Homework 5\n",
    "\n",
    "# Problem 2"
   ]
  },
  {
   "cell_type": "markdown",
   "metadata": {},
   "source": [
    "Water is used to remove $CO_2$ from air by absorption in a column packed with Pall rings described in\n",
    "Chapter 6. At a region of the column where the partial pressure of $CO_2$ at the interface is $150 psia$\n",
    "and the concentration in the bulk liquid is negligible, the absorption rate is $0.017 \\frac{lbmol}{h\\cdot ft^2}$. The $CO_2$ diffusivity in water is $2.0 \\times 10^{-5} \\frac{cm2}{s}$. Henry’s law for $CO_2$ is $p = Hx$, where $H = 9,000 psia$.\n",
    "\n",
    "Calculate:\n",
    "\n",
    "(a) liquid-phase mass-transfer coefficient and film thickness;\n",
    "\n",
    "(b) contact time for the penetration theory; and\n",
    "\n",
    "(c) average eddy residence time and the probability distribution for the surface-renewal theory.\n",
    "\n",
    "For part (c), just calculate s - the surface renewal rate."
   ]
  },
  {
   "cell_type": "markdown",
   "metadata": {},
   "source": [
    "## Solution\n",
    "\n",
    "### part a"
   ]
  },
  {
   "cell_type": "markdown",
   "metadata": {},
   "source": [
    "Because there is no bulk flow of $CO_2$,\n",
    "\n",
    "$N_{CO_2}=J_{CO_2}=-cD_{AB} \\nabla x_{CO_2}=-cD_{AB} \\frac{d x_{CO_2}}{dz}$.\n",
    "\n",
    "Using film theory this leads to\n",
    "\n",
    "$N_{CO_2}=-c\\frac{D_{AB}}{\\delta}(x_{CO_{2_{fluid}}}-x_{CO_{2_{gas}}})$.\n",
    "\n",
    "The concentration of water in the fluid is\n",
    "\n",
    "$c=\\frac{\\rho}{MW_{water}}$\n",
    "\n",
    "This leads to\n",
    "\n",
    "$N_{CO_2}=(\\frac{\\rho_{water}}{MW_{water}})\\frac{D_{AB}}{\\delta}(x_{CO_{2_{gas}}}-x_{CO_{2_{fluid}}})$.\n",
    "\n",
    "Let $k_c=\\frac{D_{AB}}{\\delta} \\Rightarrow\n",
    "\n",
    "$N_{CO_2}=(\\frac{\\rho_{water}}{MW_{water}})k_c(x_{CO_{2_{gas}}}-x_{CO_{2_{fluid}}})$.\n",
    "\n",
    "Solving for $k_c \\Rightarrow$\n",
    "\n",
    "$k_c=\\frac{N_{CO_2} MW_{water}}{\\rho_{water} (x_{CO_{2_{gas}}}-x_{CO_{2_{fluid}}})}$"
   ]
  },
  {
   "cell_type": "code",
   "execution_count": 8,
   "metadata": {},
   "outputs": [
    {
     "name": "stdout",
     "output_type": "stream",
     "text": [
      "The mass transfer coefficient = 0.002492 cm/s.\n",
      "The film thickness = 0.008025 cm.\n"
     ]
    }
   ],
   "source": [
    "NCO2=0.017 #lbmol/(h ft2)\n",
    "NCO2metric=NCO2*453.59237/(3600*12**2*2.54**2) #mol/(s cm2)\n",
    "MWwater=18.01528 #g/mol\n",
    "ρwater=1 #g/cm3\n",
    "Dab=2*10**(-5) #cm2/s\n",
    "p=150 #psia\n",
    "H=9000 #psia\n",
    "xCO2gas=p/H\n",
    "xCO2fluid=0\n",
    "\n",
    "kc=NCO2metric*MWwater/(ρwater*(xCO2gas-xCO2fluid))\n",
    "\n",
    "print('The mass transfer coefficient = {0:1.4} cm/s.'.format(kc))\n",
    "\n",
    "δ=Dab/kc\n",
    "\n",
    "print('The film thickness = {0:1.4} cm.'.format(δ))"
   ]
  },
  {
   "cell_type": "markdown",
   "metadata": {},
   "source": [
    "$\\boxed{k_c = 0.002492 cm/s}$\n",
    "\n",
    "$\\boxed{\\delta = 0.008025 cm}$"
   ]
  },
  {
   "cell_type": "markdown",
   "metadata": {},
   "source": [
    "### part b"
   ]
  },
  {
   "cell_type": "markdown",
   "metadata": {},
   "source": [
    "Using the Higie penetration theory\n",
    "\n",
    "$k_c=2\\sqrt{\\frac{D_{AB}}{\\pi t_c}} \\Rightarrow t_c=\\frac{D_{AB}}{\\pi (\\frac{k_c}{2})^2}$"
   ]
  },
  {
   "cell_type": "code",
   "execution_count": 14,
   "metadata": {},
   "outputs": [
    {
     "name": "stdout",
     "output_type": "stream",
     "text": [
      "The contact time = 4.1001 s.\n"
     ]
    }
   ],
   "source": [
    "from numpy import pi\n",
    "\n",
    "tc=Dab/(pi*(kc/2)**2)\n",
    "\n",
    "print('The contact time = {0:1.5} s.'.format(tc))"
   ]
  },
  {
   "cell_type": "markdown",
   "metadata": {},
   "source": [
    "$\\boxed{t_c=4.1001 s}$"
   ]
  },
  {
   "cell_type": "markdown",
   "metadata": {},
   "source": [
    "### part c"
   ]
  },
  {
   "cell_type": "markdown",
   "metadata": {},
   "source": [
    "From the surface renewal model\n",
    "\n",
    "$k_c=\\sqrt{D_{AB} s} \\Rightarrow s=\\frac{k_c^2}{D_{AB}}$"
   ]
  },
  {
   "cell_type": "code",
   "execution_count": 15,
   "metadata": {},
   "outputs": [
    {
     "name": "stdout",
     "output_type": "stream",
     "text": [
      "0.3105410447215787\n"
     ]
    }
   ],
   "source": [
    "s=kc**2/Dab\n",
    "\n",
    "print(s)"
   ]
  },
  {
   "cell_type": "markdown",
   "metadata": {},
   "source": [
    "$\\boxed{surface \\space renewal \\space time = s=0.3105 \\frac{1}{s}}$"
   ]
  }
 ],
 "metadata": {
  "kernelspec": {
   "display_name": "Python 3",
   "language": "python",
   "name": "python3"
  },
  "language_info": {
   "codemirror_mode": {
    "name": "ipython",
    "version": 3
   },
   "file_extension": ".py",
   "mimetype": "text/x-python",
   "name": "python",
   "nbconvert_exporter": "python",
   "pygments_lexer": "ipython3",
   "version": "3.6.7"
  }
 },
 "nbformat": 4,
 "nbformat_minor": 2
}
