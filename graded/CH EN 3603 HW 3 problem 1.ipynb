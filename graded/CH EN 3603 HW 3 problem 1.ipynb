{
 "cells": [
  {
   "cell_type": "markdown",
   "metadata": {},
   "source": [
    "<div class=\"alert alert-block alert-info\">\n",
    "\n",
    "__10/10__  Elizabeth\n",
    "\n"
   ]
  },
  {
   "cell_type": "markdown",
   "metadata": {},
   "source": [
    "# Donovan Feist"
   ]
  },
  {
   "cell_type": "markdown",
   "metadata": {},
   "source": [
    "# CH EN 3603"
   ]
  },
  {
   "cell_type": "markdown",
   "metadata": {},
   "source": [
    "# Homework 3 Problem 1"
   ]
  },
  {
   "cell_type": "markdown",
   "metadata": {},
   "source": [
    "Consider flow in a pipe where the axial velocity profile varies radially as\n",
    "\n",
    "\\begin{equation}\n",
    "v_z=\\frac{\\Delta p R^2}{4\\mu L} \\left [1-\\left (\\frac{r}{R} \\right)^2 \\right ] = v_z^{max} \\left [1-\\left (\\frac{r}{R} \\right)^2 \\right].\n",
    "\\end{equation}\n",
    "\n",
    "Assuming that the molar concentration of species A varies as\n",
    "\n",
    "\\begin{equation}\n",
    "c_A=c_{A_0} \\left (\\frac{r}{R} \\right ),\n",
    "\\end{equation}\n",
    "\n",
    "with $c_{A0}=25 \\%$ of the total concentration, $c$, answer the questions below."
   ]
  },
  {
   "cell_type": "markdown",
   "metadata": {},
   "source": [
    "1. Plot the mole fraction of species A and the normalized molar flux of species A, $\\tilde N_A=\\frac{N_A}{c_{A_0}v_z^{max}}$, as a function of the normalized radial position, $\\tilde r=\\frac{r}{R}$. You also need to show how you obtain these quantities.\n",
    "2. Determine the radial location of the maximum molar flux of species A, $\\tilde N_A$. Express your answer in terms of the normalized radius, $\\tilde r=\\frac{r}{R}$.\n",
    "3. Determine the total molar flow rate of species A ($N_A$) and the total volumetric flowrate of the system ($\\dot V$). Express your answer in terms of $v_z^{max}$, $c_{A_0}$ and $R$."
   ]
  },
  {
   "cell_type": "markdown",
   "metadata": {},
   "source": [
    "## Part 1 Solution"
   ]
  },
  {
   "cell_type": "markdown",
   "metadata": {},
   "source": [
    "### finding equation for mole fraction"
   ]
  },
  {
   "cell_type": "markdown",
   "metadata": {},
   "source": [
    "mole fraction of A = $y_A= \\frac{moles \\space of \\space A}{total \\space moles}= \\frac {c_A \\dot V}{c \\dot V}=\\frac{c_A}{c}$\n",
    "\n",
    "$c_A=c_{A_0} \\left (\\frac{r}{R} \\right ) \\Rightarrow$\n",
    "\n",
    "$y_A=\\frac{c_{A_0} \\left (\\frac{r}{R} \\right )}{c}$\n",
    "\n",
    "$c_{A_0}= 0.25 c \\Rightarrow$\n",
    "\n",
    "$y_A=\\frac{0.25 c \\left (\\frac{r}{R} \\right )}{c} = 0.25 \\frac{r}{R}$\n",
    "\n",
    "$\\tilde r=\\frac{r}{R} \\Rightarrow $\n",
    "\n",
    "$ \\fbox { $y_A= 0.25 \\tilde r $}$"
   ]
  },
  {
   "cell_type": "markdown",
   "metadata": {},
   "source": [
    "### finding equation for normalized molar flux"
   ]
  },
  {
   "cell_type": "markdown",
   "metadata": {},
   "source": [
    "normalized molar flux of A = $\\tilde N_A=\\frac{N_A}{c_{A_0}v_z^{max}}$\n",
    "\n",
    "$N_A= \\overrightarrow{N_A} \\cdot \\hat k = v_z c_A \\Rightarrow$\n",
    "\n",
    "$\\tilde N_A=\\frac{v_z c_A}{c_{A_0}v_z^{max}}=\\frac{c_A v_z^{max} \\left [1-\\left (\\frac{r}{R} \\right)^2 \\right]}{c_{A_0}v_z^{max}}= \\frac{c_{A_0} \\left (\\frac{r}{R} \\right ) v_z^{max} \\left [1-\\left (\\frac{r}{R} \\right)^2 \\right]}{c_{A_0}v_z^{max}}=\\frac{r}{R} \\left [1-\\left (\\frac{r}{R} \\right)^2 \\right]$\n",
    "\n",
    "$\\tilde r=\\frac{r}{R} \\Rightarrow $\n",
    "\n",
    "$\\tilde N_A=\\tilde r (1- \\tilde r^2) \\Rightarrow$\n",
    "\n",
    "$\\fbox{ $\\tilde N_A=\\tilde r- \\tilde r^3$}$\n"
   ]
  },
  {
   "cell_type": "markdown",
   "metadata": {},
   "source": [
    "### graphing"
   ]
  },
  {
   "cell_type": "code",
   "execution_count": 2,
   "metadata": {},
   "outputs": [
    {
     "data": {
      "image/png": "[encoded data removed]",
      "text/plain": [
       "<Figure size 432x288 with 2 Axes>"
      ]
     },
     "metadata": {
      "needs_background": "light"
     },
     "output_type": "display_data"
    }
   ],
   "source": [
    "import numpy as np\n",
    "import matplotlib.pyplot as plt\n",
    "\n",
    "r̃=np.linspace(0,1,100)\n",
    "y=0.25*r̃\n",
    "Ñ=r̃-r̃**3\n",
    "\n",
    "ax1=plt.plot()\n",
    "plt.plot(r̃,y,'g',label='concentration')\n",
    "plt.xlabel('r̃')\n",
    "plt.ylabel('y',color='g')\n",
    "plt.grid()\n",
    "\n",
    "ax2=plt.gca().twinx()\n",
    "plt.plot(r̃,Ñ,'b',label='normalized molar flux')\n",
    "plt.ylabel('Na',color='b')\n",
    "\n",
    "plt.show()"
   ]
  },
  {
   "cell_type": "markdown",
   "metadata": {},
   "source": [
    "## Part 2 Solution"
   ]
  },
  {
   "cell_type": "markdown",
   "metadata": {},
   "source": [
    "The radial location of maximum molar flux is at the point when $\\frac{d \\tilde N_A}{dt}=0$.\n",
    "\n",
    "$\\frac{d \\tilde N_A}{dt}=1-3 \\tilde r^2=0 \\Rightarrow$\n",
    "\n",
    "$\\frac {1}{3}= \\tilde r^2 \\Rightarrow$\n",
    "\n",
    "$ \\fbox{ $\\tilde r = \\sqrt{\\frac{1}{3}}$ } $"
   ]
  },
  {
   "cell_type": "markdown",
   "metadata": {},
   "source": [
    "## Part 3 Solution"
   ]
  },
  {
   "cell_type": "markdown",
   "metadata": {},
   "source": [
    "### finding total molar flow rate"
   ]
  },
  {
   "cell_type": "markdown",
   "metadata": {},
   "source": [
    "The total molar flow rate =\n",
    "\n",
    "$ \\sum N_A A=\\int_A \\overrightarrow{N_A} \\cdot \\hat a \\space dA = \\int_A c_A v_z \\space dA$=\n",
    "\n",
    "$\\int_A c_{A_0} \\left (\\frac{r}{R} \\right ) v_z^{max} \\left [1- \\left (\\frac{r}{R} \\right )^2 \\right ] \\space dA , dA=2 \\pi r dr \\Rightarrow$\n",
    "\n",
    "total molar flow rate = $\\int_0^R 2 \\pi c_{A_0} v_z^{max} \\left (\\frac{r^2}{R} \\right ) \\left [1- \\left (\\frac{r}{R} \\right )^2 \\right ] dr = \\frac{2 \\pi c_{A_0} v_z^{max}}{R} \\int_0^R r^2 \\left (1-\\frac{r^2}{R^2} \\right ) dr=$\n",
    "\n",
    "$\\frac{2 \\pi c_{A_0} v_z^{max}}{R} \\left (\\frac{R^3}{3}-\\frac{R^5}{5 R^2} \\right )=\\frac{2 \\pi c_{A_0} v_z^{max}}{R} \\left (\\frac{5 R^3}{15}-\\frac{3 R^3}{15} \\right )=2 \\pi c_{A_0} v_z^{max} \\left (\\frac{2 R^2}{15} \\right ) \\Rightarrow$\n",
    "\n",
    "$\\fbox {total molar flow rate = $\\frac{4 \\pi c_{A_0} v_z^{max} R^2}{15} \\left (\\frac {mol}{s} \\right )$}$"
   ]
  },
  {
   "cell_type": "markdown",
   "metadata": {},
   "source": [
    "### finding total volumetric flow rate"
   ]
  },
  {
   "cell_type": "markdown",
   "metadata": {},
   "source": [
    "$d \\dot V=v_z \\space dA \\Rightarrow$\n",
    "\n",
    "$\\int d \\dot V = \\int_A v_z \\space dA = \\int_A v_z^{max} \\left [1- \\left (\\frac{r}{R} \\right )^2 \\right ] \\space dA$\n",
    "\n",
    "$dA=2 \\pi r dr \\Rightarrow \\dot V = 2 \\pi v_z^{max} \\int_0^R r \\left [1- \\left (\\frac{r}{R} \\right )^2 \\right ] dr \\Rightarrow $\n",
    "\n",
    "$\\dot V = 2 \\pi v_z^{max} \\int_0^R r- \\frac{r^3}{R^2} dr \\Rightarrow =2 \\pi v_z^{max} \\left (\\frac{R^2}{2}-\\frac{R^4}{4 R^2} \\right ) = 2 \\pi v_z^{max} \\left (\\frac{2 R^2}{4}-\\frac{R^2}{4} \\right ) = 2 \\pi v_z^{max} \\frac{R^2}{4} \\Rightarrow$\n",
    "\n",
    "$\\fbox {$\\dot V = \\frac {\\pi v_z^{max} R^2}{2} $}$"
   ]
  }
 ],
 "metadata": {
  "kernelspec": {
   "display_name": "Python 3",
   "language": "python",
   "name": "python3"
  },
  "language_info": {
   "codemirror_mode": {
    "name": "ipython",
    "version": 3
   },
   "file_extension": ".py",
   "mimetype": "text/x-python",
   "name": "python",
   "nbconvert_exporter": "python",
   "pygments_lexer": "ipython3",
   "version": "3.6.8"
  },
  "latex_envs": {
   "LaTeX_envs_menu_present": true,
   "autoclose": false,
   "autocomplete": true,
   "bibliofile": "biblio.bib",
   "cite_by": "apalike",
   "current_citInitial": 1,
   "eqLabelWithNumbers": true,
   "eqNumInitial": 1,
   "hotkeys": {
    "equation": "Ctrl-E",
    "itemize": "Ctrl-I"
   },
   "labels_anchors": false,
   "latex_user_defs": false,
   "report_style_numbering": false,
   "user_envs_cfg": false
  }
 },
 "nbformat": 4,
 "nbformat_minor": 2
}
