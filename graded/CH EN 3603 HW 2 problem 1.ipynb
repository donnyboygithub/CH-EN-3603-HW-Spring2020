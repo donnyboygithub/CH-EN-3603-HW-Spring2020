{
 "cells": [
  {
   "cell_type": "markdown",
   "metadata": {},
   "source": [
    "<div class=\"alert alert-block alert-info\">\n",
    "\n",
    "__8/8__  Elizabeth\n",
    "\n"
   ]
  },
  {
   "cell_type": "markdown",
   "metadata": {},
   "source": [
    "# Table of Contents\n",
    "<p><div class=\"lev1 toc-item\"><a href=\"#Solution\" data-toc-modified-id=\"Solution-1\"><span class=\"toc-item-num\">1&nbsp;&nbsp;</span>Solution</a></div><div class=\"lev2 toc-item\"><a href=\"#Part-1\" data-toc-modified-id=\"Part-1-11\"><span class=\"toc-item-num\">1.1&nbsp;&nbsp;</span>Part 1</a></div><div class=\"lev2 toc-item\"><a href=\"#Part-2\" data-toc-modified-id=\"Part-2-12\"><span class=\"toc-item-num\">1.2&nbsp;&nbsp;</span>Part 2</a></div>"
   ]
  },
  {
   "cell_type": "markdown",
   "metadata": {},
   "source": [
    "$\\def\\pder#1#2{\\frac{\\partial#1}{\\partial#2}}$\n",
    "\n",
    "<div style=\"text-align: center\">\n",
    "<b><font size=6>ChEn 6703 Homework 2 Problem 1\n",
    "    </font></b>\n",
    "</div>"
   ]
  },
  {
   "cell_type": "markdown",
   "metadata": {},
   "source": [
    "For an incompressible fluid, $\\nabla\\cdot\\mathbf{v}=0$.  Consider a two-dimensional velocity field with the $x$-velocity component given as \n",
    "\\begin{equation}\n",
    "u = A \\beta \\cos\\left(\\alpha x\\right)\\sin\\left(\\beta y\\right)e^{-\\left(\\alpha^{2}+\\beta^{2}\\right)\\nu t},\n",
    "\\end{equation}\n",
    "where $A$, $\\alpha$ and $\\beta$ are constants and $\\nu$ is the fluid's kinematic velocity.\n",
    "\n",
    " 1. Find the implied $y$-velocity component ($v$) for an incompressible fluid.\n",
    " 1. Produce contour plots of the velocity magnitude that can be interactively controlled via a time slider.  Use unity for all constants and allow the interactive slider over the time interval $t=[0,1]$.  For any constants of integration, take their values to be 0.\n",
    " \n",
    "__Plotting Tips:__\n",
    "   * Look at the [numpy.meshgrid](https://docs.scipy.org/doc/numpy-1.15.0/reference/generated/numpy.meshgrid.html) function\n",
    "   * Look at the [matplotlib.pyplot.contourf](https://matplotlib.org/api/_as_gen/matplotlib.pyplot.contour.html) function\n",
    "   * Look at the [ipywidgets.interact](https://ipywidgets.readthedocs.io/en/stable/examples/Using%20Interact.html) function and documentation on the [float slider](https://ipywidgets.readthedocs.io/en/stable/examples/Widget%20List.html#FloatSlider) widget. I suggest that you get your plotting working by itself first, then wrap that into a function that takes the time as an argument and generates the plot for use with the interact function."
   ]
  },
  {
   "cell_type": "markdown",
   "metadata": {},
   "source": [
    "# Solution"
   ]
  },
  {
   "cell_type": "markdown",
   "metadata": {},
   "source": [
    "## Part 1\n",
    "\n",
    "Because the fluid is incompressible, $\\nabla\\cdot\\mathbf{v}=0$. This can be expanded to\n",
    "\\begin{equation}\n",
    "\\frac{du}{dx}+\\frac{dv}{dy}=0\n",
    "\\end{equation}\n",
    "where u and v are the x and y components of $\\mathbf{v}$, respectively.\n",
    "\n",
    "Because\n",
    "\\begin{equation}\n",
    "u = A \\beta \\cos\\left(\\alpha x\\right)\\sin\\left(\\beta y\\right)e^{-\\left(\\alpha^{2}+\\beta^{2}\\right)\\nu t},\n",
    "\\end{equation}\n",
    "the derivative of u with respect to x would give\n",
    "\\begin{equation}\n",
    "\\frac{du}{dx}=-\\alpha A \\beta \\sin(\\alpha x) \\sin(\\beta y) e^{-(\\alpha^2+\\beta^2) \\nu t}.\n",
    "\\end{equation}\n",
    "\n",
    "Rearranging the original equation gives\n",
    "\\begin{equation}\n",
    "dv=-\\frac{du}{dx} dy.\n",
    "\\end{equation}\n",
    "\n",
    "Integrating both sides, the equation for v is\n",
    "\\begin{equation}\n",
    "v=-\\alpha A \\sin(\\alpha x) \\cos(\\beta y) e^{-(\\alpha^2+\\beta^2) \\nu t}+C,\n",
    "\\end{equation}\n",
    "where C is the constant of integration."
   ]
  },
  {
   "cell_type": "markdown",
   "metadata": {},
   "source": [
    "## Part 2"
   ]
  },
  {
   "cell_type": "code",
   "execution_count": 1,
   "metadata": {},
   "outputs": [],
   "source": [
    "import matplotlib.pyplot as plt\n",
    "import numpy as np\n",
    "\n",
    "def plot_it(t):\n",
    "    nx = 50\n",
    "    ny = 50\n",
    "    Lx = 1.0\n",
    "    Ly = 1.0\n",
    "    x,y = np.meshgrid( np.linspace(0,Lx,nx), np.linspace(0,Ly,ny) )\n",
    "    C = 0.0\n",
    "    A = 1.0\n",
    "    α = 1.0\n",
    "    β = 1.0\n",
    "    ν = 1.0\n",
    "    \n",
    "    u = A*β*np.cos(α*x)*np.sin(β*y)*np.e**(-(α**2+β**2)*ν*t)\n",
    "    v = -α*A*np.sin(α*x)*np.cos(β*y)*np.e**(-(α**2+β**2)*ν*t)\n",
    "    \n",
    "    velmag = np.sqrt(u**2+v**2)\n",
    "    \n",
    "    nlevels = 20\n",
    "    \n",
    "    plt.contourf(x,y,velmag,nlevels,vmin=0,vmax=1)\n",
    "    plt.colorbar()\n",
    "    plt.xlabel('x')\n",
    "    plt.ylabel('y')\n",
    "    plt.title('Velocity Magnitude')"
   ]
  },
  {
   "cell_type": "code",
   "execution_count": 2,
   "metadata": {},
   "outputs": [
    {
     "data": {
      "application/vnd.jupyter.widget-view+json": {
       "model_id": "6cb103c3877c4f7fa9c5121becb2f141",
       "version_major": 2,
       "version_minor": 0
      },
      "text/plain": [
       "interactive(children=(FloatSlider(value=0.0, description='t', max=1.0), Output()), _dom_classes=('widget-inter…"
      ]
     },
     "metadata": {},
     "output_type": "display_data"
    },
    {
     "data": {
      "text/plain": [
       "<function __main__.plot_it(t)>"
      ]
     },
     "execution_count": 2,
     "metadata": {},
     "output_type": "execute_result"
    }
   ],
   "source": [
    "%matplotlib inline\n",
    "import ipywidgets as widgets\n",
    "\n",
    "tslider = widgets.FloatSlider(value=0.0,min=0,max=1,step=0.1,continuous_update=True)\n",
    "widgets.interact( plot_it, t=tslider )"
   ]
  }
 ],
 "metadata": {
  "kernelspec": {
   "display_name": "Python 3",
   "language": "python",
   "name": "python3"
  },
  "language_info": {
   "codemirror_mode": {
    "name": "ipython",
    "version": 3
   },
   "file_extension": ".py",
   "mimetype": "text/x-python",
   "name": "python",
   "nbconvert_exporter": "python",
   "pygments_lexer": "ipython3",
   "version": "3.6.8"
  },
  "latex_envs": {
   "LaTeX_envs_menu_present": true,
   "autoclose": false,
   "autocomplete": true,
   "bibliofile": "biblio.bib",
   "cite_by": "apalike",
   "current_citInitial": 1,
   "eqLabelWithNumbers": true,
   "eqNumInitial": 1,
   "hotkeys": {
    "equation": "Ctrl-E",
    "itemize": "Ctrl-I"
   },
   "labels_anchors": false,
   "latex_user_defs": false,
   "report_style_numbering": false,
   "user_envs_cfg": false
  }
 },
 "nbformat": 4,
 "nbformat_minor": 2
}
