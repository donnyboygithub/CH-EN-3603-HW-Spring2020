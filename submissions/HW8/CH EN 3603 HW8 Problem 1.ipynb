{
 "cells": [
  {
   "cell_type": "markdown",
   "metadata": {},
   "source": [
    "# Donovan Feist\n",
    "\n",
    "# CH EN 3603\n",
    "\n",
    "# Homework 8\n",
    "\n",
    "# Problem 1"
   ]
  },
  {
   "cell_type": "markdown",
   "metadata": {},
   "source": [
    "Assuming that Raoult’s law (for ideal mixtures) holds, and starting from the Rachford-Rice equation,\n",
    "\n",
    "1. Derive the equation for the bubble point pressure given a system temperature T. Express your answer in terms of $z_i$ and $P_i^s$.\n",
    "2. Derive the equation for the dew point pressure given a system temperature T. Express your answer in terms of $z_i$ and $P_i^s$."
   ]
  },
  {
   "cell_type": "markdown",
   "metadata": {},
   "source": [
    "# Solution\n",
    "\n",
    "## Part 1"
   ]
  },
  {
   "cell_type": "markdown",
   "metadata": {},
   "source": [
    "The Rachford-Rice equation is\n",
    "\n",
    "## $\\sum_{i=1}^C \\frac{z_i (K_i-1)}{1+(K_i-1)\\Psi}=0$"
   ]
  },
  {
   "cell_type": "markdown",
   "metadata": {},
   "source": [
    "If Roult's Law for ideal mixtures holds, then\n",
    "\n",
    "$K_i=\\frac{P_i^s}{P} \\Rightarrow$\n",
    "\n",
    "## $\\sum_{i=1}^C \\frac{z_i \\left (\\frac{P_i^s}{P}-1 \\right)}{1+ \\left (\\frac{P_i^s}{P}-1 \\right )\\Psi}=0$"
   ]
  },
  {
   "cell_type": "markdown",
   "metadata": {},
   "source": [
    "At the bubble point, $V=0 \\Rightarrow \\Psi=\\frac{V}{F}=0 \\Rightarrow$\n",
    "\n",
    "## $\\sum_{i=1}^C z_i \\left (\\frac{P_i^s}{P}-1 \\right)=0 \\Rightarrow$\n",
    "\n",
    "## $\\sum_{i=1}^C z_i \\frac{P_i^s}{P}=1 \\Rightarrow$\n",
    "\n",
    "## $\\sum_{i=1}^C z_i P_i^s=P$"
   ]
  },
  {
   "cell_type": "markdown",
   "metadata": {},
   "source": [
    "If T is known, then $P_i^s$ is known, and $P=P_{bubble}$.\n",
    "\n",
    "The equation for the bubble point pressures is\n",
    "\n",
    "## $\\boxed{\\sum_{i=1}^C z_i P_i^s=P_{bubble}}$"
   ]
  },
  {
   "cell_type": "markdown",
   "metadata": {},
   "source": [
    "## Part 2"
   ]
  },
  {
   "cell_type": "markdown",
   "metadata": {},
   "source": [
    "The Rachford-Rice equation is\n",
    "\n",
    "## $\\sum_{i=1}^C \\frac{z_i (K_i-1)}{1+(K_i-1)\\Psi}=0$"
   ]
  },
  {
   "cell_type": "markdown",
   "metadata": {},
   "source": [
    "If Roult's Law for ideal mixtures holds, then\n",
    "\n",
    "$K_i=\\frac{P_i^s}{P} \\Rightarrow$\n",
    "\n",
    "## $\\sum_{i=1}^C \\frac{z_i \\left (\\frac{P_i^s}{P}-1 \\right)}{1+ \\left (\\frac{P_i^s}{P}-1 \\right )\\Psi}=0$"
   ]
  },
  {
   "cell_type": "markdown",
   "metadata": {},
   "source": [
    "At the dew point, $V=F \\Rightarrow \\Psi=\\frac{V}{F}=1 \\Rightarrow$\n",
    "\n",
    "## $\\sum_{i=1}^C \\frac{z_i \\left (\\frac{P_i^s}{P}-1 \\right)}{1+ \\left (\\frac{P_i^s}{P}-1 \\right )}=\\sum_{i=1}^C \\frac{z_i \\left (\\frac{P_i^s}{P}-1 \\right)}{1+ \\frac{P_i^s}{P}-1}=\\sum_{i=1}^C \\frac{z_i \\left (\\frac{P_i^s}{P}-1 \\right)}{\\frac{P_i^s}{P}}=\\sum_{i=1}^C \\left (z_i-\\frac{z_i P}{P_i^s}\\right )=0 \\Rightarrow$"
   ]
  },
  {
   "cell_type": "markdown",
   "metadata": {},
   "source": [
    "## $\\sum_{i=1}^C z_i -\\sum_{i=1}^C \\frac{z_i P}{P_i^s}=0 \\Rightarrow$"
   ]
  },
  {
   "cell_type": "markdown",
   "metadata": {},
   "source": [
    "## $\\sum_{i=1}^C z_i = \\sum_{i=1}^C \\frac{z_i P}{P_i^s}=1 \\Rightarrow$"
   ]
  },
  {
   "cell_type": "markdown",
   "metadata": {},
   "source": [
    "## $\\sum_{i=1}^C \\frac{P_i^s}{z_i}=P$"
   ]
  },
  {
   "cell_type": "markdown",
   "metadata": {},
   "source": [
    "If T is known, then $P_i^s$ is known, and $P=P_{dew}$.\n",
    "\n",
    "The equation for the dew point pressures is\n",
    "\n",
    "## $\\boxed{\\sum_{i=1}^C \\frac{P_i^s}{z_i}=P_{dew}}$"
   ]
  }
 ],
 "metadata": {
  "kernelspec": {
   "display_name": "Python 3",
   "language": "python",
   "name": "python3"
  },
  "language_info": {
   "codemirror_mode": {
    "name": "ipython",
    "version": 3
   },
   "file_extension": ".py",
   "mimetype": "text/x-python",
   "name": "python",
   "nbconvert_exporter": "python",
   "pygments_lexer": "ipython3",
   "version": "3.7.3"
  }
 },
 "nbformat": 4,
 "nbformat_minor": 2
}
