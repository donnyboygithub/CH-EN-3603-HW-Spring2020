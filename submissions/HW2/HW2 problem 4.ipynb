{
 "cells": [
  {
   "cell_type": "markdown",
   "metadata": {},
   "source": [
    "<div style=\"text-align: center\">\n",
    "<b><font size=6>ChEn 6703 Homework 2 Problem 4\n",
    "    </font></b>\n",
    "</div>"
   ]
  },
  {
   "cell_type": "markdown",
   "metadata": {},
   "source": [
    "Consider a tank of length $L$ with a parabolic cross-section such that the tank's width is related to its height as \n",
    "\\begin{equation}\n",
    "    h=aw^{2}+bw+c.\n",
    "    \\label{eq:tank-h-w-general}\n",
    "\\end{equation}\n",
    "The width of the tank at its top is $W$, and that the width of the tank at $\\frac{H}{4}$ is $\\frac{W}{2}$.\n",
    "The length of the tank varies linearly with its height. At h=0 (the bottom of the tank), $\\ell=0$ whereas at the top of the tank, $\\ell=L$.\n",
    "\n",
    "Find the volume of the tank.\n",
    "Express your answer in terms of $L$, $W$ and $H$."
   ]
  },
  {
   "cell_type": "markdown",
   "metadata": {},
   "source": [
    "# Solution"
   ]
  },
  {
   "cell_type": "markdown",
   "metadata": {},
   "source": [
    "Because the length and width of the tank are related to the height, if we find equations relating $w$ to $h$ and $l$ to $h$, we can integrate the differential volume element with respect to the differential height element."
   ]
  },
  {
   "cell_type": "markdown",
   "metadata": {},
   "source": [
    "## Relating $w$ to $h$"
   ]
  },
  {
   "cell_type": "markdown",
   "metadata": {},
   "source": [
    "Starting with the equation $h=aw^2+bw+c$, and using the the conditions that $h(w=0)=0$, $h(w=W)=H$, and $h(w=\\frac{W}{2})=\\frac{H}{4}$, leads to the three equations"
   ]
  },
  {
   "cell_type": "markdown",
   "metadata": {},
   "source": [
    "\\begin{equation}\n",
    "0=a(0)^2+b(0)+c\n",
    "\\\\\n",
    "H=aW^2+bW+c\n",
    "\\\\and\\\\\n",
    "\\frac{H}{4}=a \\left (\\frac{W}{2} \\right)^2+b \\left (\\frac{W}{2} \\right)+c.\n",
    "\\end{equation}"
   ]
  },
  {
   "cell_type": "markdown",
   "metadata": {},
   "source": [
    "There are three unknowns (a, b, anc c) and three equations."
   ]
  },
  {
   "cell_type": "markdown",
   "metadata": {},
   "source": [
    "Examining the first equation gives\n",
    "\\begin{equation}\n",
    "c=0.\n",
    "\\end{equation}"
   ]
  },
  {
   "cell_type": "markdown",
   "metadata": {},
   "source": [
    "After plugging $c=0$ into the second equation, we then solve for $a$, then plug $a$ into the third equation to find $b$. Solving the second equation for $a$ gives"
   ]
  },
  {
   "cell_type": "markdown",
   "metadata": {},
   "source": [
    "\\begin{equation}\n",
    "a=\\frac{H-bW}{W^2}.\n",
    "\\end{equation}"
   ]
  },
  {
   "cell_type": "markdown",
   "metadata": {},
   "source": [
    "Plugging $a$ and $c$ into the third equation gives\n",
    "\\begin{equation}\n",
    "\\frac{H}{4}=\\left(\\frac{H-bW}{W^2}\\right) \\left (\\frac{W}{2} \\right)^2+b \\left (\\frac{W}{2} \\right)\n",
    "\\end{equation}\n",
    "which when simplified yields\n",
    "\\begin{equation}\n",
    "b=0.\n",
    "\\end{equation}"
   ]
  },
  {
   "cell_type": "markdown",
   "metadata": {},
   "source": [
    "Plugging $b=c=0$ into the second equation gives\n",
    "\\begin{equation}\n",
    "H=aW^2\n",
    "\\end{equation}\n",
    "which simplifies to\n",
    "\\begin{equation}\n",
    "a=\\frac{H}{W^2}.\n",
    "\\end{equation}"
   ]
  },
  {
   "cell_type": "markdown",
   "metadata": {},
   "source": [
    "Plugging these vales for $a$, $b$, and $c$ into the original equation $h=aw^2+bw+c$ leads to\n",
    "\\begin{equation}\n",
    "h=\\left(\\frac{H}{W^2}\\right)w^2.\n",
    "\\end{equation}\n",
    "Solving this equation for $w$ gives\n",
    "\\begin{equation}\n",
    "w=\\sqrt{\\frac{hW^2}{H}}.\n",
    "\\end{equation}\n",
    "This is the correct relationship of $w$ to $h$."
   ]
  },
  {
   "cell_type": "markdown",
   "metadata": {},
   "source": [
    "## Relating $l$ to $h$"
   ]
  },
  {
   "cell_type": "markdown",
   "metadata": {},
   "source": [
    "We are told that the length of the tank varies linearly with its height, with $l(h=0)=0$ and $l(h=H)=L$. Being told that this is a linear relationship means the form of the equation is\n",
    "\\begin{equation}\n",
    "l=mh.\n",
    "\\end{equation}\n",
    "Using the knowledge that $l(h=H)=L$ leads to\n",
    "\\begin{equation}\n",
    "m=\\frac{L}{H}.\n",
    "\\end{equation}\n",
    "Plugging this value of $m$ into the original equation $l=mh$ leads to\n",
    "\\begin{equation}\n",
    "l=\\left(\\frac{L}{H}\\right)h\n",
    "\\end{equation}\n",
    "which is the correct relationship of $l$ to $h$."
   ]
  },
  {
   "cell_type": "markdown",
   "metadata": {},
   "source": [
    "## Forming the Integral"
   ]
  },
  {
   "cell_type": "markdown",
   "metadata": {},
   "source": [
    "A differential volume element is equal to the width of the element, time the length of the element, times the differential height element. This takes the form\n",
    "\\begin{equation}\n",
    "dV=lwdh.\n",
    "\\end{equation}\n",
    "Plugging in the relationships derived in the previous two sections leads to\n",
    "\\begin{equation}\n",
    "dV=\\left(\\frac{L}{H}\\right)h\\sqrt{\\frac{hW^2}{H}}dh.\n",
    "\\end{equation}"
   ]
  },
  {
   "cell_type": "markdown",
   "metadata": {},
   "source": [
    "Simplifying this equation gives us\n",
    "\\begin{equation}\n",
    "dV=\\left(\\frac{LW}{H^{3/2}}\\right)h^{3/2} dh.\n",
    "\\end{equation}\n",
    "Integrating this equation with respect to $h$, from $h=0$ to $h=H$ leads to\n",
    "\\begin{equation}\n",
    "V=\\int_{0}^{H} \\left(\\frac{LW}{H^{3/2}}\\right)h^{3/2} dh=\\left(\\frac{LW}{H^{3/2}}\\right) \\int_{0}^{H}h^{3/2} dh\\Rightarrow\n",
    "\\end{equation}"
   ]
  },
  {
   "cell_type": "markdown",
   "metadata": {},
   "source": [
    "\\begin{equation}\n",
    "V=\\left(\\frac{LW}{H^{3/2}}\\right)\\times \\frac{2}{5}h^{5/2}\\Big|_{0}^{H}=\\left(\\frac{2LW}{5H^{3/2}}\\right)\\left (H^{5/2}-0^{5/2} \\right )\\Rightarrow\n",
    "\\end{equation}"
   ]
  },
  {
   "cell_type": "markdown",
   "metadata": {},
   "source": [
    "The final answer being\n",
    "\\begin{equation}\n",
    "V=\\frac{2LWH}{5}.\n",
    "\\end{equation}"
   ]
  }
 ],
 "metadata": {
  "hide_input": false,
  "kernelspec": {
   "display_name": "Python 3",
   "language": "python",
   "name": "python3"
  },
  "language_info": {
   "codemirror_mode": {
    "name": "ipython",
    "version": 3
   },
   "file_extension": ".py",
   "mimetype": "text/x-python",
   "name": "python",
   "nbconvert_exporter": "python",
   "pygments_lexer": "ipython3",
   "version": "3.6.3"
  },
  "latex_envs": {
   "LaTeX_envs_menu_present": true,
   "autocomplete": false,
   "bibliofile": "biblio.bib",
   "cite_by": "apalike",
   "current_citInitial": 1,
   "eqLabelWithNumbers": true,
   "eqNumInitial": 1,
   "hotkeys": {
    "equation": "Ctrl-E",
    "itemize": "Ctrl-I"
   },
   "labels_anchors": false,
   "latex_user_defs": false,
   "report_style_numbering": false,
   "user_envs_cfg": false
  },
  "toc": {
   "colors": {
    "hover_highlight": "#DAA520",
    "navigate_num": "#000000",
    "navigate_text": "#333333",
    "running_highlight": "#FF0000",
    "selected_highlight": "#FFD700",
    "sidebar_border": "#EEEEEE",
    "wrapper_background": "#FFFFFF"
   },
   "moveMenuLeft": true,
   "nav_menu": {
    "height": "102px",
    "width": "252px"
   },
   "navigate_menu": true,
   "number_sections": false,
   "sideBar": true,
   "threshold": 4,
   "toc_cell": false,
   "toc_section_display": "block",
   "toc_window_display": true,
   "widenNotebook": false
  },
  "varInspector": {
   "cols": {
    "lenName": 16,
    "lenType": 16,
    "lenVar": 40
   },
   "kernels_config": {
    "python": {
     "delete_cmd_postfix": "",
     "delete_cmd_prefix": "del ",
     "library": "var_list.py",
     "varRefreshCmd": "print(var_dic_list())"
    },
    "r": {
     "delete_cmd_postfix": ") ",
     "delete_cmd_prefix": "rm(",
     "library": "var_list.r",
     "varRefreshCmd": "cat(var_dic_list()) "
    }
   },
   "types_to_exclude": [
    "module",
    "function",
    "builtin_function_or_method",
    "instance",
    "_Feature"
   ],
   "window_display": false
  }
 },
 "nbformat": 4,
 "nbformat_minor": 4
}
