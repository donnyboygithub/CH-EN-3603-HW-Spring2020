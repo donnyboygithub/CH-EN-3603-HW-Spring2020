{
 "cells": [
  {
   "cell_type": "markdown",
   "metadata": {},
   "source": [
    "# Donovan Feist"
   ]
  },
  {
   "cell_type": "markdown",
   "metadata": {},
   "source": [
    "# CH EN 3603"
   ]
  },
  {
   "cell_type": "markdown",
   "metadata": {},
   "source": [
    "# Homework 3 Problem 2"
   ]
  },
  {
   "cell_type": "markdown",
   "metadata": {},
   "source": [
    "Consider a gravity-drained tank of height $H$ and length $L$, and with a parabolic profile such that\n",
    "the tank’s width is related to its height as $h = aw^2 + bw + c$. The width of the tank at its top is $W$, and that the width of the tank at $\\frac{H}{4}$ is $\\frac{W}{2}$."
   ]
  },
  {
   "cell_type": "markdown",
   "metadata": {},
   "source": [
    "1. Derive an expression for the rate of change of liquid height, $\\frac{dh}{dt}$, in terms of $h$, $H$, $L$, $W$, as well as the inlet flow rate $\\dot V_{in}$, and the radius of the hole in the bottom of the tank, $r$.\n",
    "\n",
    "\n",
    "2. Determine the radius of the outlet hole such that the tank will remain half-full by volume (not height) at steady-state. Express your answer in terms of $H$, $W$, $L$, $\\dot V_{in}$, and the tank total volume $V$.\n",
    "\n",
    "\n",
    "3. For $H = W = 0.1 m$, $L = 1 m$, $r = 5 mm$ and $\\dot V_{in} = 2 \\times 10^{-3} \\frac{m^3}{min}$, and assuming that the tank starts full,\n",
    "\n",
    "    (a) What is the steady-state liquid level? Determine this analytically.\n",
    "\n",
    "    (b) Plot $h(t)$ for $t = [0, 3]$ minutes.\n",
    "\n",
    "    (c) Report the liquid level in the tank after 3 minutes."
   ]
  },
  {
   "cell_type": "markdown",
   "metadata": {},
   "source": [
    "## Part 1 Solution"
   ]
  },
  {
   "cell_type": "markdown",
   "metadata": {},
   "source": [
    "We start with the integral mole balance equation,\n",
    "\n",
    "\\begin{equation}\n",
    "\\frac{d}{dt} \\int_V c_i \\space dV=-\\int_S \\vec{N_i} \\cdot \\hat a \\space dS +\\int_V S_i \\space dS.\n",
    "\\end{equation}"
   ]
  },
  {
   "cell_type": "markdown",
   "metadata": {},
   "source": [
    "Because there is no reaction in this problem, $S_i=0$ $\\Rightarrow$ the generation term goes to zero. The integral mole balance equation now takes the form\n",
    "\n",
    "\\begin{equation}\n",
    "\\frac{d}{dt} \\int_V c_i \\space dV=-\\int_S \\vec{N_i} \\cdot \\hat a \\space dS.\n",
    "\\end{equation}"
   ]
  },
  {
   "cell_type": "markdown",
   "metadata": {},
   "source": [
    "Because the concentration of species $i$ does not change based on the location in the tank,\n",
    "\n",
    "\\begin{equation}\n",
    "\\int_V c_i \\space dV=c_i V \\Rightarrow \\frac{d}{dt} \\int_V c_i \\space dV= \\frac{d}{dt}[c_i V].\n",
    "\\end{equation}\n"
   ]
  },
  {
   "cell_type": "markdown",
   "metadata": {},
   "source": [
    "Distributing the derivative via the product rule,\n",
    "\n",
    "\\begin{equation}\n",
    "\\frac{d}{dt}[c_i V]=c_i \\frac{dV}{dt}+V \\frac{dc_i}{dt}.\n",
    "\\end{equation}"
   ]
  },
  {
   "cell_type": "markdown",
   "metadata": {},
   "source": [
    "As for the right hand side of the equation,\n",
    "\n",
    "\\begin{equation}\n",
    "-\\int_S \\vec N_i \\cdot \\hat a \\space dS,\n",
    "\\end{equation}\n",
    "\n",
    "this represents the total molar flow rate of species i entering the tank. Because the molar flux of species i is perpendicular to the surface of the control volume (entering through the opening at the top of the tank, and exiting through the hole at the bottom of the tank), this leads to\n",
    "\n",
    "\\begin{equation}\n",
    "-\\int_S \\vec N_i \\cdot \\hat a \\space dS = c_i^{in} \\dot V_{in}-c_i \\dot V_{out}\n",
    "\\end{equation}"
   ]
  },
  {
   "cell_type": "markdown",
   "metadata": {},
   "source": [
    "Additionally,\n",
    "\n",
    "$\\frac{dV}{dt}=\\dot V_{in} - \\dot V_{out}=\\frac{dV}{dh} \\frac{dh}{dt} \\Rightarrow$\n",
    "\n",
    "$\\frac{dh}{dt}= \\frac{\\dot V_{in} - \\dot V_{out}}{\\left (\\frac{dV}{dh} \\right )}$\n",
    "\n",
    "so expressions for $\\dot V_{out}$ and $\\frac{dV}{dh}$ must be substituted ($\\dot V_{in}$ is already known).\n"
   ]
  },
  {
   "cell_type": "markdown",
   "metadata": {},
   "source": [
    "### finding $\\dot V_{out}$"
   ]
  },
  {
   "cell_type": "markdown",
   "metadata": {},
   "source": [
    "$\\dot V_{out}=\\pi r^2 u$\n",
    "\n",
    "Because the tank is gravity-drained,\n",
    "\n",
    "$u=\\sqrt{2 g h} \\Rightarrow$\n",
    "\n",
    "$\\dot V_{out}=\\pi r^2 \\sqrt{2 g h}$"
   ]
  },
  {
   "cell_type": "markdown",
   "metadata": {},
   "source": [
    "### finding $\\frac{dV}{dh}$"
   ]
  },
  {
   "cell_type": "markdown",
   "metadata": {},
   "source": [
    "$dV=L w dh$\n",
    "\n",
    "$L$ is constant for the entire height of the tank. $w$ must now be put in terms of $h$."
   ]
  },
  {
   "cell_type": "markdown",
   "metadata": {},
   "source": [
    "We are told that\n",
    "\n",
    "$h = aw^2 + bw + c$\n",
    "\n",
    "with the conditions that the width of the tank at its top is $W$, and the width of the tank at $\\frac{H}{4}$ is $\\frac{W}{2}$. The constants $a$, $b$ and $c$ must now be determined.\n",
    "\n",
    "$h(w=0)=0 \\Rightarrow$\n",
    "\n",
    "$0=a 0^2+b 0+c \\Rightarrow$\n",
    "\n",
    "$c=0$\n",
    "\n",
    "$h = aw^2 + bw$\n",
    "\n",
    "$h(w=W)=H \\Rightarrow$\n",
    "\n",
    "$H=a W^2+b W$\n",
    "\n",
    "$h(w=\\frac{W}{2})=\\frac{H}{4} \\Rightarrow$\n",
    "\n",
    "$\\frac{H}{4}=a (\\frac{W}{2})^2 + b (\\frac{W}{2}) \\Rightarrow \\frac{H}{4}=a \\frac{W^2}{4} + b (\\frac{W}{2}) \\Rightarrow H=a W^2+2 b W$\n",
    "\n",
    "We now have two equations and two unknowns. Solving these equations leads to\n",
    "\n",
    "$a=\\frac{H}{W^2}, b=0$\n",
    "\n",
    "Plugging $a$, $b$ and $c$ back into the original equation leads to\n",
    "\n",
    "$h=\\frac{H w^2}{W^2} \\Rightarrow$\n",
    "\n",
    "$w=W \\sqrt{\\frac{h}{H}} \\Rightarrow$\n",
    "\n",
    "$dV=LW\\sqrt{\\frac{h}{H}} dh \\Rightarrow$\n",
    "\n",
    "$\\frac{dV}{dh}= \\frac{LW\\sqrt{h}}{\\sqrt{H}}$"
   ]
  },
  {
   "cell_type": "markdown",
   "metadata": {},
   "source": [
    "### substituting terms"
   ]
  },
  {
   "cell_type": "markdown",
   "metadata": {},
   "source": [
    "Plugging $\\dot V_{out}$ and $\\frac{dV}{dh}$ into the equation for $\\frac{dh}{dt} \\Rightarrow$\n",
    "\n",
    "$\\fbox {$\\frac{dh}{dt}= \\frac{\\dot V_{in} - \\pi r^2 \\sqrt{2 g h}}{\\frac{LW\\sqrt{h}}{\\sqrt{H}}}$} $"
   ]
  },
  {
   "cell_type": "markdown",
   "metadata": {},
   "source": [
    "## Part 2 Solution"
   ]
  },
  {
   "cell_type": "markdown",
   "metadata": {},
   "source": [
    "To determine the radius of the outlet hole such that the tank will remain half-full by volume, the full volume of the tank must first be calculated.\n",
    "\n",
    "$dV=LW\\sqrt{\\frac{h}{H}} dh \\Rightarrow$\n",
    "\n",
    "$V=\\int_0^h LW\\frac{\\sqrt{h}}{\\sqrt{H}} dh =\\frac{LW}{\\sqrt{H}}\\int_0^h h^{\\frac{1}{2}} dh \\Rightarrow$\n",
    "\n",
    "$V=\\left (\\frac{LW}{\\sqrt{H}} \\right ) \\left (\\frac{h^{\\frac{3}{2}}}{\\frac{3}{2}} \\right ) \\Big |_0^h \\Rightarrow $\n",
    "\n",
    "$V=\\frac{2LWh^{3/2}}{3\\sqrt{H}}$\n",
    "\n",
    "This means that when $h=H$,\n",
    "\n",
    "$V(h=H)=V_{full}=\\frac{2 L W H}{3}$\n",
    "\n",
    "So the volume of half the tank would be\n",
    "\n",
    "$V_{half}=\\frac{LWH}{3}$\n",
    "\n",
    "Now the height of the liquid in the tank when the tank is half full by volume needs to be determined.\n",
    "\n",
    "$\\frac{2LWh^{3/2}}{3\\sqrt{H}}=\\frac{LWH}{3} \\Rightarrow$\n",
    "\n",
    "$h=\\frac{H}{\\sqrt[3]{4}}$ when the tank is half full by volume.\n",
    "\n",
    "Now using the equation for $\\frac{dh}{dt}$, where $\\frac{dh}{dt}=0$, and plugging in known term will give r.\n",
    "\n",
    "## $\\frac{dh}{dt}=0=\\frac{\\dot V_{in} - \\pi r^2 \\sqrt{2 g \\frac{H}{\\sqrt[3]{4}}}}{\\frac{LW\\sqrt{\\frac{H}{\\sqrt[3]{4}}}}{\\sqrt{H}}} \\Rightarrow $\n",
    "\n",
    "$0=\\dot V_{in} - \\pi r^2 \\sqrt{2 g \\frac{H}{\\sqrt[3]{4}}} \\Rightarrow$\n",
    "\n",
    "## $\\fbox {$r=\\sqrt{\\frac{\\dot V_{in}}{\\pi \\sqrt{2 g \\frac{H}{\\sqrt[3]{4}}}}}$} $"
   ]
  },
  {
   "cell_type": "markdown",
   "metadata": {},
   "source": [
    "## Part 3 Solution"
   ]
  },
  {
   "cell_type": "markdown",
   "metadata": {},
   "source": [
    "### Part a"
   ]
  },
  {
   "cell_type": "markdown",
   "metadata": {},
   "source": [
    "Steady state liquid level is when $\\frac{dh}{dt}=0$,\n",
    "\n",
    "$\\frac{dh}{dt}= 0=\\frac{\\dot V_{in} - \\pi r^2 \\sqrt{2 g h}}{\\frac{LW\\sqrt{h}}{\\sqrt{H}}} \\Rightarrow$\n",
    "\n",
    "$0=\\dot V_{in} - \\pi r^2 \\sqrt{2 g h} \\Rightarrow$\n",
    "\n",
    "$\\pi r^2 \\sqrt{2 g h}=\\dot V_{in} \\Rightarrow$\n",
    "\n",
    "## $\\fbox {$h=\\frac{\\left ( \\frac{\\dot V_{in}}{\\pi r^2} \\right )^2}{2 g}=\\frac{\\left (\\frac{\\left (2 \\times 10^{-3} \\frac{m^3}{min} \\right ) \\left (\\frac{1 min}{60 s} \\right )}{\\pi (5 mm)^2 \\left (\\frac{1 m}{1000 m} \\right )^2} \\right )^2}{2 \\left (9.81 \\frac{m}{s^2} \\right )} = 0.00918 \\space m$} $"
   ]
  },
  {
   "cell_type": "markdown",
   "metadata": {},
   "source": [
    "## Part b"
   ]
  },
  {
   "cell_type": "code",
   "execution_count": 3,
   "metadata": {},
   "outputs": [
    {
     "data": {
      "image/png": "[encoded data removed]",
      "text/plain": [
       "<Figure size 432x288 with 1 Axes>"
      ]
     },
     "metadata": {
      "needs_background": "light"
     },
     "output_type": "display_data"
    }
   ],
   "source": [
    "import numpy as np\n",
    "from matplotlib import pyplot as plt\n",
    "\n",
    "H=0.1 #m\n",
    "W=0.1 #m\n",
    "L=1 #m\n",
    "r=5 #mm\n",
    "Vin=2*10**(-3) #m^3/min\n",
    "g=9.81 #m/s^2\n",
    "\n",
    "def func(v,t):\n",
    "    h=v[0]\n",
    "    dhdt=(Vin*(1/60)-np.pi*(r/1000)**2*np.sqrt(2*g*h))/(L*W*np.sqrt(h)/np.sqrt(H))\n",
    "    dvdt=[dhdt]\n",
    "    return dvdt\n",
    "\n",
    "v0=H\n",
    "\n",
    "t=np.linspace(0,180,360) #s\n",
    "\n",
    "from scipy.integrate import odeint\n",
    "sol=odeint(func,v0,t)\n",
    "\n",
    "plt.plot(t,sol,'b')\n",
    "plt.xlabel('time (s)')\n",
    "plt.ylabel('height (m)')\n",
    "plt.grid()\n",
    "plt.show()"
   ]
  },
  {
   "cell_type": "markdown",
   "metadata": {},
   "source": [
    "## Part c"
   ]
  },
  {
   "cell_type": "code",
   "execution_count": 6,
   "metadata": {},
   "outputs": [
    {
     "name": "stdout",
     "output_type": "stream",
     "text": [
      "The height of liquid in the tank at t=3 min=180 s is [0.01030169] m.\n"
     ]
    }
   ],
   "source": [
    "print('The height of liquid in the tank at t=3 min=180 s is', sol[359], 'm.')"
   ]
  }
 ],
 "metadata": {
  "kernelspec": {
   "display_name": "Python 3",
   "language": "python",
   "name": "python3"
  },
  "language_info": {
   "codemirror_mode": {
    "name": "ipython",
    "version": 3
   },
   "file_extension": ".py",
   "mimetype": "text/x-python",
   "name": "python",
   "nbconvert_exporter": "python",
   "pygments_lexer": "ipython3",
   "version": "3.7.3"
  }
 },
 "nbformat": 4,
 "nbformat_minor": 2
}
