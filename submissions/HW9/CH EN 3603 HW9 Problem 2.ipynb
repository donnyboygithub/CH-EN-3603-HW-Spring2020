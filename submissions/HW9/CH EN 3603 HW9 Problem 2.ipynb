{
 "cells": [
  {
   "cell_type": "markdown",
   "metadata": {},
   "source": [
    "# Donovan Feist\n",
    "\n",
    "# CH EN 3603\n",
    "\n",
    "# Homework 9\n",
    "\n",
    "# Problem 2"
   ]
  },
  {
   "cell_type": "markdown",
   "metadata": {},
   "source": [
    "Given the data in problem 1 and the same desired recovery of $CO_2$,\n",
    "\n",
    "1. Determine the minimum value of $\\frac{L^{'}}{V^{'}}$ to achieve the desired separation.\n",
    "\n",
    "2. If the solvent flow rate is twice the minimum, how many theoretical stages are required?\n",
    "\n",
    "3. If each stage has an efficiency of 40%, how many actual trays are required?"
   ]
  },
  {
   "cell_type": "markdown",
   "metadata": {},
   "source": [
    "## part 1 solution"
   ]
  },
  {
   "cell_type": "code",
   "execution_count": 1,
   "metadata": {},
   "outputs": [],
   "source": [
    "#imports\n",
    "import numpy as np\n",
    "import matplotlib.pyplot as plt\n",
    "from scipy.optimize import fsolve\n",
    "\n",
    "\n",
    "#data\n",
    "y7=0.10 #mole fraction of CO2 in air-CO2 mixture that is to be absorbed\n",
    "normality=5.0 #mole equivalents/L; normality of absorbing solution of triethanolamine\n",
    "X0=0.04 #moles of CO2 per mole of amine solution\n",
    "T=298 #K (=25 C); isothermal operating temperature of the column\n",
    "α=0.784 #exit liquid contains 78.4% of the CO2 in the feed gas to the absorber (desired recovery)\n",
    "plates=6 #number of theoretical plates\n",
    "Y=np.array([0.003,0.008,0.015,0.023,0.032,0.043,0.055,0.068,0.083,0.099,0.12])\n",
    "X=np.array([0.01,0.02,0.03,0.04,0.05,0.06,0.07,0.08,0.09,0.10,0.11])"
   ]
  },
  {
   "cell_type": "markdown",
   "metadata": {},
   "source": [
    "$Y_7$ is found with the equation\n",
    "\n",
    "$Y_7=\\frac{y_7}{1-y_7}$"
   ]
  },
  {
   "cell_type": "code",
   "execution_count": 2,
   "metadata": {},
   "outputs": [
    {
     "name": "stdout",
     "output_type": "stream",
     "text": [
      "Y7= 0.11111111111111112\n"
     ]
    }
   ],
   "source": [
    "Y7=y7/(1-y7)\n",
    "print('Y7=',Y7)"
   ]
  },
  {
   "cell_type": "markdown",
   "metadata": {},
   "source": [
    "$Y_7$ is then used with the equilibrium data to interpotate a value for $X_7$"
   ]
  },
  {
   "cell_type": "code",
   "execution_count": 3,
   "metadata": {},
   "outputs": [
    {
     "name": "stdout",
     "output_type": "stream",
     "text": [
      "X7= 0.10576719576719577\n"
     ]
    }
   ],
   "source": [
    "X7=np.interp(Y7,Y,X)\n",
    "print('X7=',X7)"
   ]
  },
  {
   "cell_type": "markdown",
   "metadata": {},
   "source": [
    "$Y_1$ is found with the equation\n",
    "\n",
    "### $Y_1=(1-\\alpha) \\cdot Y_7$"
   ]
  },
  {
   "cell_type": "code",
   "execution_count": 4,
   "metadata": {},
   "outputs": [
    {
     "name": "stdout",
     "output_type": "stream",
     "text": [
      "Y1= 0.023999999999999997\n"
     ]
    }
   ],
   "source": [
    "Y1=(1-α)*Y7\n",
    "print('Y1=',Y1)"
   ]
  },
  {
   "cell_type": "markdown",
   "metadata": {},
   "source": [
    "Now that $X_7$, $Y_7$, $X_0$, and $Y_1$ are known, that minimum value for $\\frac{L^{'}}{V^{'}}$ can be calculated."
   ]
  },
  {
   "cell_type": "code",
   "execution_count": 5,
   "metadata": {},
   "outputs": [
    {
     "name": "stdout",
     "output_type": "stream",
     "text": [
      "1.3245374094931617\n"
     ]
    }
   ],
   "source": [
    "LpminoVp=(Y7-Y1)/(X7-X0)\n",
    "print(LpminoVp)"
   ]
  },
  {
   "cell_type": "markdown",
   "metadata": {},
   "source": [
    "$\\boxed{\\frac{L_{min}^{'}}{V^{'}}=1.32}$"
   ]
  },
  {
   "cell_type": "markdown",
   "metadata": {},
   "source": [
    "## part 2 solution"
   ]
  },
  {
   "cell_type": "markdown",
   "metadata": {},
   "source": [
    "The value for $\\frac{L^{'}}{V^{'}}$ in this part is two times the minimum value."
   ]
  },
  {
   "cell_type": "code",
   "execution_count": 6,
   "metadata": {},
   "outputs": [
    {
     "name": "stdout",
     "output_type": "stream",
     "text": [
      "2.6490748189863234\n"
     ]
    }
   ],
   "source": [
    "LpoVp=2*LpminoVp\n",
    "print(LpoVp)"
   ]
  },
  {
   "cell_type": "markdown",
   "metadata": {},
   "source": [
    "Now that the slope is known, $X_1$ can be found through interpolation with $Y_1$ and the equilibrium data. Once $X_1$ is known, the equation for the operating line,\n",
    "\n",
    "### $Y_2=(X_1-X_0)\\cdot \\frac{L^{'}}{V^{'}} +Y_1$\n",
    "\n",
    "can be used to find the value for $Y_2$.\n",
    "\n",
    "The iterative process of interpolating, then using the operating line to find the next value of Y, is repeated until the value of $Y_{N+1}$ is greater than or equal to the desired value of $Y_{N+1}$. When this condition is met, the number of theoretical stages required is equal to N."
   ]
  },
  {
   "cell_type": "code",
   "execution_count": 7,
   "metadata": {},
   "outputs": [
    {
     "name": "stdout",
     "output_type": "stream",
     "text": [
      "Y_desired= 0.11111111111111112\n",
      "X0= 0.04\n",
      "Y1= 0.023999999999999997\n",
      "X1= 0.04111111111111111\n",
      "Y2= 0.026943416465540358\n",
      "X2= 0.044381573850600396\n",
      "Y3= 0.03560711695515445\n",
      "X3= 0.05327919723195859\n",
      "Y4= 0.059177587003534385\n",
      "X4= 0.07321352846425722\n",
      "Y5= 0.11198512190434927\n"
     ]
    }
   ],
   "source": [
    "print('Y_desired=',Y7)\n",
    "print('X0=',X0)\n",
    "print('Y1=',Y1)\n",
    "X1=np.interp(Y1,Y,X)\n",
    "print('X1=',X1)\n",
    "Y2=(X1-X0)*LpoVp+Y1\n",
    "print('Y2=',Y2)\n",
    "X2=np.interp(Y2,Y,X)\n",
    "print('X2=',X2)\n",
    "Y3=(X2-X0)*LpoVp+Y1\n",
    "print('Y3=',Y3)\n",
    "X3=np.interp(Y3,Y,X)\n",
    "print('X3=',X3)\n",
    "Y4=(X3-X0)*LpoVp+Y1\n",
    "print('Y4=',Y4)\n",
    "X4=np.interp(Y4,Y,X)\n",
    "print('X4=',X4)\n",
    "Y5=(X4-X0)*LpoVp+Y1\n",
    "print('Y5=',Y5)"
   ]
  },
  {
   "cell_type": "markdown",
   "metadata": {},
   "source": [
    "$Y_5$ is greater than the desired value for $Y_{N+1}$, which means that $\\fbox{4 stages are required}$"
   ]
  },
  {
   "cell_type": "markdown",
   "metadata": {},
   "source": [
    "## part 3 solution"
   ]
  },
  {
   "cell_type": "markdown",
   "metadata": {},
   "source": [
    "The number of actual stages is given by the equation\n",
    "\n",
    "$N_a=\\frac{N_t}{\\eta}$"
   ]
  },
  {
   "cell_type": "code",
   "execution_count": 9,
   "metadata": {},
   "outputs": [
    {
     "name": "stdout",
     "output_type": "stream",
     "text": [
      "10.0\n"
     ]
    }
   ],
   "source": [
    "η=0.40\n",
    "\n",
    "Na=4/η\n",
    "print(Na)"
   ]
  },
  {
   "cell_type": "markdown",
   "metadata": {},
   "source": [
    "$\\fbox{10 actual stages}$"
   ]
  }
 ],
 "metadata": {
  "kernelspec": {
   "display_name": "Python 3",
   "language": "python",
   "name": "python3"
  },
  "language_info": {
   "codemirror_mode": {
    "name": "ipython",
    "version": 3
   },
   "file_extension": ".py",
   "mimetype": "text/x-python",
   "name": "python",
   "nbconvert_exporter": "python",
   "pygments_lexer": "ipython3",
   "version": "3.7.3"
  }
 },
 "nbformat": 4,
 "nbformat_minor": 2
}
