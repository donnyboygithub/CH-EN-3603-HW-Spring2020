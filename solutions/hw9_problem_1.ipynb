{
 "cells": [
  {
   "cell_type": "markdown",
   "metadata": {},
   "source": [
    "<div style=\"text-align: center\">\n",
    "<b><font size=6>ChEn 3603 Homework 9 Problem 1\n",
    "    </font></b>\n",
    "</div>\n",
    "\n",
    "<div class=\"alert alert-block alert-danger\">\n",
    "\n",
    "&copy; 2020 This material is copyright protected. Distributing this material in any form without written permission from Professor Sutherland is prohibited and may result in academic discipline."
   ]
  },
  {
   "cell_type": "code",
   "execution_count": 1,
   "metadata": {},
   "outputs": [],
   "source": [
    "import numpy as np\n",
    "import matplotlib.pyplot as plt"
   ]
  },
  {
   "cell_type": "markdown",
   "metadata": {},
   "source": [
    "# Part (a)\n",
    "\n",
    "Let $\\alpha=0.784$ be the fraction of CO$_{2}$ recovered from the feed gas stream into the _liquid_ solvent. \n",
    "Therefore, \n",
    "\\begin{align}\n",
    "    Y_{1}V^{\\prime}\t&=\t\\left(1-\\alpha\\right)Y_{N+1}V^{\\prime} \\\\\n",
    "    Y_{1}\t&=\t\\left(1-\\alpha\\right)Y_{N+1}. \\label{eq:co2-Y1}\n",
    "\\end{align}\n",
    "From a mole balance on the CO$_{2}$ we have \n",
    "\\begin{equation}\n",
    "    \\label{eq:co2-mole-bal}\n",
    "    X_{0}L^{\\prime} + Y_{1}V^{\\prime} = Y_{n+1}V^{\\prime}+X_{n}L^{\\prime} \n",
    "\\end{equation}\n",
    "for arbitrary stage $n$. \n",
    "After substituting \\eqref{eq:co2-Y1}, \\eqref{eq:co2-mole-bal} simplifies to\n",
    "\\begin{align}\n",
    "    X_{0} L^{\\prime} + \\left( 1 - \\alpha \\right) Y_{N+1} V^{\\prime}\t&=\tY_{n+1} V^{\\prime} + X_{n} L^{\\prime}, \\\\\n",
    "    Y_{n+1}\t&=\t\\left( X_{n} - X_{0} \\right) \\frac{L^{\\prime}}{V^{\\prime}} + \\left( 1 - \\alpha \\right) Y_{N+1} \\label{eq:co2-operating-line}\n",
    "\\end{align}\n",
    "which is the operating line. However, in this case we do not know $\\frac{L^{\\prime}}{V^{\\prime}}$ - we only know the number of stages, $N$. \n",
    "Therefore, we do the following:\n",
    "  1. Guess $\\frac{L^{\\prime}}{V^{\\prime}}$.\n",
    "  2. From $Y_{1}$ obtained from \\eqref{eq:co2-Y1}, determine $X_{1}$ by interpolating in the data given.\n",
    "  3. From $X_{1}$, use \\eqref{eq:co2-operating-line} with the guessed value of $\\frac{L^{\\prime}}{V^{\\prime}}$ to obtain $Y_{2}$. Repeat these two steps up to $Y_{7}$\n",
    "  4. See if $Y_{7}$ is equal to the desired value. If not, then return to step 1."
   ]
  },
  {
   "cell_type": "code",
   "execution_count": 2,
   "metadata": {},
   "outputs": [],
   "source": [
    "alpha = 0.784  # Fraction CO2 recovered from feed into solvent\n",
    "\n",
    "# feed gas:\n",
    "ynp1 = 0.1\n",
    "YNP1 = ynp1/(1-ynp1)\n",
    "\n",
    "# feed liquid:\n",
    "X0 = 0.04  # mole CO2 / mol amine\n",
    "\n",
    "# exit vapor:\n",
    "Y1 = (1-alpha)*YNP1\n",
    "\n",
    "\n",
    "# equilibrium data\n",
    "Y = np.array([ 0.003, 0.008, 0.015, 0.023, 0.032, 0.043, 0.055, 0.068, 0.083, 0.099, 0.12 ])\n",
    "X = np.array([ 0.01,  0.02,  0.03,  0.04,  0.05,  0.06,  0.07,  0.08,  0.09,  0.10,  0.11 ])"
   ]
  },
  {
   "cell_type": "code",
   "execution_count": 3,
   "metadata": {},
   "outputs": [
    {
     "name": "stdout",
     "output_type": "stream",
     "text": [
      "\n",
      "\n",
      "Target Y6 = 0.1111\n",
      "actual Y6 = 0.1111\n",
      "L'/V' = 1.8524\n",
      "# stages = 6\n",
      "\n"
     ]
    },
    {
     "data": {
      "image/png": "[encoded data removed]",
      "text/plain": [
       "<Figure size 432x288 with 1 Axes>"
      ]
     },
     "metadata": {
      "needs_background": "light"
     },
     "output_type": "display_data"
    }
   ],
   "source": [
    "#---------------------------------------------------\n",
    "# operating line slope (L'/V')\n",
    "# CHANGE THIS NUMBER UNTIL CONVERGENCE IS ACHIEVED!\n",
    "slope = 1.852355\n",
    "#---------------------------------------------------\n",
    "\n",
    "# operating line\n",
    "Xop = np.linspace(X0,max(X))\n",
    "Yop = (Xop-X0)*slope + Y1\n",
    "\n",
    "plt.plot(X,Y,'b-')\n",
    "plt.plot(Xop,Yop,'r-')\n",
    "plt.plot(X, YNP1*np.ones_like(X),'k-')\n",
    "plt.grid()\n",
    "plt.xlabel('X')\n",
    "plt.ylabel('Y')\n",
    "plt.axis([X0-0.01,0.1,Y1-0.01,YNP1+0.01])\n",
    "\n",
    "\n",
    "# plot up stage results.  This is a bit tricky.\n",
    "nstage = 6\n",
    "Xstage = np.zeros(nstage+1)\n",
    "Ystage = np.zeros_like(Xstage)\n",
    "Xstage[0] = X0\n",
    "Ystage[0] = Y1\n",
    "\n",
    "for i in range(0,nstage):\n",
    "\n",
    "    # liquid leaving stage i\n",
    "    Xstage[i+1] = np.interp(Ystage[i],Y,X)\n",
    "\n",
    "    # vapor entering stage i from i+1\n",
    "    Ystage[i+1] = ( Xstage[i+1] - X0 ) * slope + Y1\n",
    "\n",
    "    plt.plot([Xstage[i+1],Xstage[i+1]], [Ystage[i],Ystage[i+1]],'ko-')\n",
    "    plt.plot([Xstage[i],Xstage[i+1]],[Ystage[i],Ystage[i]],'ko-')\n",
    "    plt.text(Xstage[i+1]+0.001,Ystage[i]-0.001,str(i))\n",
    "\n",
    "    \n",
    "plt.axis([X0-0.01,0.1,Y1-0.01,YNP1+0.01])\n",
    "\n",
    "print('\\n\\nTarget Y{:d} = {:.4f}'.format(nstage,YNP1))\n",
    "print('actual Y{:d} = {:.4f}'.format(nstage,Ystage[-1]))\n",
    "print('L\\'/V\\' = {:.4f}'.format(slope))\n",
    "print('# stages = {:d}\\n'.format(nstage))\n",
    "\n",
    "plt.show()"
   ]
  },
  {
   "cell_type": "markdown",
   "metadata": {},
   "source": [
    "The figure above shows the results of this procedure after $\\frac{L^{\\prime}}{V^{\\prime}}$ has converged.\n",
    "\n",
    "Below is some other information from this process:"
   ]
  },
  {
   "cell_type": "code",
   "execution_count": 4,
   "metadata": {},
   "outputs": [
    {
     "name": "stdout",
     "output_type": "stream",
     "text": [
      "vapor mole RATIO    leaving stage 1: Y1 = 0.024\n",
      "vapor mole FRACTION leaving stage 1: y1 = 0.023\n",
      "\n"
     ]
    }
   ],
   "source": [
    "print('vapor mole RATIO    leaving stage 1: Y1 = {:.3f}'.format(Ystage[0]))\n",
    "print('vapor mole FRACTION leaving stage 1: y1 = {:.3f}\\n'.format(Ystage[0]/(1+Ystage[0]) ))\n"
   ]
  },
  {
   "cell_type": "markdown",
   "metadata": {},
   "source": [
    "Here are the conditions at the bottom of the column:"
   ]
  },
  {
   "cell_type": "code",
   "execution_count": 5,
   "metadata": {},
   "outputs": [
    {
     "name": "stdout",
     "output_type": "stream",
     "text": [
      "\n",
      "Mole RATIOS at the bottom of the column:\n",
      "\tX6 = 0.087\n",
      "\tY7 = 0.111\n",
      "\n",
      "Mole FRACTIONS at the bottom of the column:\n",
      "\tx6 = 0.080\n",
      "\ty7 = 0.100\n",
      "\n"
     ]
    }
   ],
   "source": [
    "print('\\nMole RATIOS at the bottom of the column:')\n",
    "print('\\tX{:d} = {:.3f}'.format(nstage,Xstage[-1]))\n",
    "print('\\tY{:d} = {:.3f}'.format(nstage+1,Ystage[-1]))\n",
    "\n",
    "print('\\nMole FRACTIONS at the bottom of the column:')\n",
    "print('\\tx{:d} = {:.3f}'.format(nstage,Xstage[-1]/(1+Xstage[-1])))\n",
    "print('\\ty{:d} = {:.3f}\\n'.format(nstage+1,Ystage[-1]/(1+Ystage[-1])))\n"
   ]
  },
  {
   "cell_type": "markdown",
   "metadata": {},
   "source": [
    "# Part (b)\n",
    "\n",
    "We need $\\frac{L}{V}$ (moles amine solution per mole of feed gas), not $\\frac{L^{\\prime}}{V^{\\prime}}.$ \n",
    "For the gas feed, \n",
    "\\begin{align}\n",
    "    V\t&=\tV^{\\prime}+Y_{7}V^{\\prime}, \\nonumber \\\\\n",
    "    V^{\\prime}\t&=\t\\frac{V}{Y_{7}+1}. \n",
    "\\end{align}\n",
    "Similarly, for the amine solution, \n",
    "\\begin{align}\n",
    "    L\t&=\tL^{\\prime}+X_{0}L^{\\prime} \\nonumber \\\\\n",
    "    L^{\\prime}\t&=\t\\frac{L}{X_{0}+1}\n",
    "\\end{align}\n",
    "Substituting these equations for $L^{\\prime}$ and $V^{\\prime}$, we find \n",
    "\\begin{align*}\n",
    "    \\frac{L^{\\prime}}{V^{\\prime}}\t&=\t\\frac{L}{V}\\frac{Y_{7}+1}{X_{0}+1} \\\\\n",
    "    \\frac{L}{V}\t&=\t\\frac{L^{\\prime}}{V^{\\prime}}\\frac{X_{0}+1}{Y_{7}+1}\n",
    "\\end{align*}"
   ]
  },
  {
   "cell_type": "code",
   "execution_count": 6,
   "metadata": {},
   "outputs": [
    {
     "name": "stdout",
     "output_type": "stream",
     "text": [
      "\n",
      "L/V = 1.734\n",
      "\n"
     ]
    }
   ],
   "source": [
    "print('\\nL/V = {:.3f}\\n'.format(slope*(1+Xstage[0])/(1+Ystage[-1])))"
   ]
  }
 ],
 "metadata": {
  "hide_input": false,
  "kernelspec": {
   "display_name": "Python 3",
   "language": "python",
   "name": "python3"
  },
  "language_info": {
   "codemirror_mode": {
    "name": "ipython",
    "version": 3
   },
   "file_extension": ".py",
   "mimetype": "text/x-python",
   "name": "python",
   "nbconvert_exporter": "python",
   "pygments_lexer": "ipython3",
   "version": "3.7.6"
  },
  "latex_envs": {
   "LaTeX_envs_menu_present": true,
   "autocomplete": false,
   "bibliofile": "biblio.bib",
   "cite_by": "apalike",
   "current_citInitial": 1,
   "eqLabelWithNumbers": true,
   "eqNumInitial": 1,
   "hotkeys": {
    "equation": "Ctrl-E",
    "itemize": "Ctrl-I"
   },
   "labels_anchors": false,
   "latex_user_defs": false,
   "report_style_numbering": false,
   "user_envs_cfg": false
  },
  "toc": {
   "colors": {
    "hover_highlight": "#DAA520",
    "navigate_num": "#000000",
    "navigate_text": "#333333",
    "running_highlight": "#FF0000",
    "selected_highlight": "#FFD700",
    "sidebar_border": "#EEEEEE",
    "wrapper_background": "#FFFFFF"
   },
   "moveMenuLeft": true,
   "nav_menu": {
    "height": "48px",
    "width": "252px"
   },
   "navigate_menu": true,
   "number_sections": false,
   "sideBar": true,
   "threshold": 4,
   "toc_cell": false,
   "toc_section_display": "block",
   "toc_window_display": false,
   "widenNotebook": false
  },
  "varInspector": {
   "cols": {
    "lenName": 16,
    "lenType": 16,
    "lenVar": 40
   },
   "kernels_config": {
    "python": {
     "delete_cmd_postfix": "",
     "delete_cmd_prefix": "del ",
     "library": "var_list.py",
     "varRefreshCmd": "print(var_dic_list())"
    },
    "r": {
     "delete_cmd_postfix": ") ",
     "delete_cmd_prefix": "rm(",
     "library": "var_list.r",
     "varRefreshCmd": "cat(var_dic_list()) "
    }
   },
   "types_to_exclude": [
    "module",
    "function",
    "builtin_function_or_method",
    "instance",
    "_Feature"
   ],
   "window_display": false
  }
 },
 "nbformat": 4,
 "nbformat_minor": 2
}
