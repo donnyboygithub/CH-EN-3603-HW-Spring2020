{
 "cells": [
  {
   "cell_type": "markdown",
   "metadata": {},
   "source": [
    "<div style=\"text-align: center\">\n",
    "<b><font size=6>ChEn 3603 Homework 8 Problem 1\n",
    "    </font></b>\n",
    "</div>\n",
    "\n",
    "<div class=\"alert alert-block alert-danger\">\n",
    "\n",
    "&copy; 2020 This material is copyright protected. Distributing this material in any form without written permission from Professor Sutherland is prohibited and may result in academic discipline."
   ]
  },
  {
   "cell_type": "markdown",
   "metadata": {},
   "source": [
    "# Part 1 - Bubble Point Pressure\n",
    "\n",
    "The Rachford-Rice equation is \n",
    "\\begin{equation}\n",
    "    \\label{eq:rachford-rice}\n",
    "    \\sum_{i=1}^{C} \\frac{ z_{i} \\left( K_{i} - 1 \\right) }{ 1 + \\left( K_{i} - 1 \\right) \\Psi } = 0\n",
    "\\end{equation}\n",
    "\n",
    "At the bubble point, we know that $\\Psi = \\frac{V}{F} = 0$. \n",
    "Therefore, \\eqref{eq:rachford-rice} becomes \n",
    "\\begin{align}\n",
    "    \\sum_{i=1}^{C} z_{i} \\left( K_{i} - 1 \\right)\t&= 0 \\nonumber \\\\\n",
    "    \\sum_{i=1}^{C} z_{i} K_{i}-\\sum_{i=1}^{C}z_{i}\t&= 0 \\nonumber \\\\\n",
    "    \\sum_{i=1}^{C} z_{i} K_{i}\t&= 1 \\label{eq:bubblepoint}\n",
    "\\end{align}\n",
    "Equation \\eqref{eq:bubblepoint} is the bubble point equation. \n",
    "For Raoult's law, $K_{i} = \\frac{P_{i}^{s}}{P}$. \n",
    "If $T$ is known then $P_{i}^{s}$ is known and we can rewrite \\eqref{eq:bubblepoint} as \n",
    "\\begin{align}\n",
    "    \\sum_{i=1}^{C}\\frac{z_{i}P_{i}^{s}}{P}\t&= 1 \\nonumber \\\\\n",
    "    P\t&= \\sum_{i=1}^{C}z_{i}P_{i}^{s} \\label{eq:Pbubble}\n",
    "\\end{align}\n",
    "Equation \\eqref{eq:Pbubble} is the equation for bubble point pressure for Raoult's law."
   ]
  },
  {
   "cell_type": "markdown",
   "metadata": {},
   "source": [
    "# Part 2 - Dew Point Pressure\n",
    "\n",
    "At the dew point, we know that $\\Psi = \\frac{V}{F} = 1$.\n",
    "Therefore, \\eqref{eq:rachford-rice} becomes\n",
    "\\begin{align}\n",
    "    \\sum_{i=1}^{C} \\frac{ z_{i} \\left( K_{i} - 1 \\right) }{ 1 + \\left( K_{i} - 1 \\right) }\t&= 0 \\nonumber \\\\\n",
    "    \\sum_{i=1}^{C} \\frac{ z_{i} K_{i} - z_{i} }{ K_{i} }\t&= 0 \\nonumber \\\\\n",
    "    \\sum_{i=1}^{C} z_{i} - \\sum_{i=1}^{C} \\frac{ z_{i} }{ K_{i} }\t&= 0 \\nonumber \\\\\n",
    "    \\sum_{i=1}^{C} \\frac{z_{i}}{K_{i}}\t= 1. \\label{eq:dewpoint}\n",
    "\\end{align}\n",
    "Equation \\eqref{eq:dewpoint} is the dew point equation. \n",
    "For Raoult's law, $K_{i}=\\frac{P_{i}^{s}}{P}$. \n",
    "If $T$ is known then $P_{i}^{s}$ is known and we can rewrite \\eqref{eq:dewpoint} as \n",
    "\\begin{align}\n",
    "    \\sum_{i=1}^{C}\\frac{z_{i}P}{P_{i}^{s}}\t&= 1 \\nonumber \\\\\n",
    "    P\\sum_{i=1}^{C}\\frac{z_{i}}{P_{i}^{s}}\t&= 1 \\nonumber \\\\\n",
    "    P\t&= \\left(\\sum_{i=1}^{C}\\frac{z_{i}}{P_{i}^{s}}\\right)^{-1}. \\label{eq:Pdew}\n",
    "\\end{align}\n",
    "Equation \\eqref{eq:Pdew} is the equation for dew point pressure for Raoult's law."
   ]
  }
 ],
 "metadata": {
  "hide_input": false,
  "kernelspec": {
   "display_name": "Python 3",
   "language": "python",
   "name": "python3"
  },
  "language_info": {
   "codemirror_mode": {
    "name": "ipython",
    "version": 3
   },
   "file_extension": ".py",
   "mimetype": "text/x-python",
   "name": "python",
   "nbconvert_exporter": "python",
   "pygments_lexer": "ipython3",
   "version": "3.7.6"
  },
  "latex_envs": {
   "LaTeX_envs_menu_present": true,
   "autocomplete": false,
   "bibliofile": "biblio.bib",
   "cite_by": "apalike",
   "current_citInitial": 1,
   "eqLabelWithNumbers": true,
   "eqNumInitial": 1,
   "hotkeys": {
    "equation": "Ctrl-E",
    "itemize": "Ctrl-I"
   },
   "labels_anchors": false,
   "latex_user_defs": false,
   "report_style_numbering": false,
   "user_envs_cfg": false
  },
  "toc": {
   "colors": {
    "hover_highlight": "#DAA520",
    "navigate_num": "#000000",
    "navigate_text": "#333333",
    "running_highlight": "#FF0000",
    "selected_highlight": "#FFD700",
    "sidebar_border": "#EEEEEE",
    "wrapper_background": "#FFFFFF"
   },
   "moveMenuLeft": true,
   "nav_menu": {
    "height": "48px",
    "width": "252px"
   },
   "navigate_menu": true,
   "number_sections": false,
   "sideBar": false,
   "threshold": 4,
   "toc_cell": false,
   "toc_position": {
    "height": "458px",
    "left": "1px",
    "right": "20px",
    "top": "182px",
    "width": "212px"
   },
   "toc_section_display": "block",
   "toc_window_display": false,
   "widenNotebook": false
  },
  "varInspector": {
   "cols": {
    "lenName": 16,
    "lenType": 16,
    "lenVar": 40
   },
   "kernels_config": {
    "python": {
     "delete_cmd_postfix": "",
     "delete_cmd_prefix": "del ",
     "library": "var_list.py",
     "varRefreshCmd": "print(var_dic_list())"
    },
    "r": {
     "delete_cmd_postfix": ") ",
     "delete_cmd_prefix": "rm(",
     "library": "var_list.r",
     "varRefreshCmd": "cat(var_dic_list()) "
    }
   },
   "types_to_exclude": [
    "module",
    "function",
    "builtin_function_or_method",
    "instance",
    "_Feature"
   ],
   "window_display": false
  }
 },
 "nbformat": 4,
 "nbformat_minor": 2
}
