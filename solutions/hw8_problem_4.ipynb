{
 "cells": [
  {
   "cell_type": "markdown",
   "metadata": {},
   "source": [
    "<div style=\"text-align: center\">\n",
    "<b><font size=6>ChEn 3603 Homework 9 Problem 4\n",
    "    </font></b>\n",
    "</div>\n",
    "\n",
    "<div class=\"alert alert-block alert-danger\">\n",
    "\n",
    "&copy; 2019 This material is copyright protected. Distributing this material in any form without written permission from Professor Sutherland is prohibited and may result in academic discipline including dismissal from the chemical engineering program and potentially from the university."
   ]
  },
  {
   "cell_type": "markdown",
   "metadata": {},
   "source": [
    "This is a solution to SHR 4.46 (4th ed)\n",
    "Denote the ethylene glycol-water solution as $F=45$ kg with $\\omega_{B}^{(F)}=0.3$, $\\omega_{A}^{(F)}=0.7$ "
   ]
  },
  {
   "cell_type": "markdown",
   "metadata": {},
   "source": [
    "# Part (a)\n",
    "\n",
    "The maximum and minimum furfural mass will be dictated by the limits for which a two-phase mixture will form. \n",
    "The figure below shows the relevant mass balance line. \n",
    "The minimum solvent corresponds to location $M_{1}$. \n",
    "From inverse lever arm rule, \n",
    "\\begin{align*}\n",
    "    \\frac{ \\overline{M_{1}F} }{ \\overline{SM_{1}} } &= \\frac{S}{F} \\\\\n",
    "    S &= F \\frac{\\overline{M_{1}F}}{\\overline{SM_{1}}} = 45 \\cdot 0.097 = \\boxed{4.4\\,\\mathrm{kg}}.\n",
    "\\end{align*}\n",
    "Here, no raffinate is produced, but it if any more furfural is added, a two-phase mixture will result."
   ]
  },
  {
   "cell_type": "markdown",
   "metadata": {},
   "source": [
    "# Part (b)\n",
    "\n",
    "The maximum solvent for a two-phase mixture to result corresponds to location $M_{2}$ on the figure below. \n",
    "From the inverse lever arm rule,\n",
    "\\begin{align*}\n",
    "    \\frac{\\overline{M_{2}F}}{\\overline{SM_{2}}} &= \\frac{S}{F} \\\\\n",
    "    S &= F \\frac{\\overline{M_{2}F}}{\\overline{SM_{2}}} = 45 \\cdot 11.2 = \\boxed{504\\,\\mathrm{kg}}.\n",
    "\\end{align*}\n",
    "Here, no extract is produced, but if any less furfural is used, a two-phase mixture will result."
   ]
  },
  {
   "cell_type": "markdown",
   "metadata": {},
   "source": [
    "![parts (a) and (b)](shr_4_46_ab.png)"
   ]
  },
  {
   "cell_type": "markdown",
   "metadata": {},
   "source": [
    "# Part (c)\n",
    "\n",
    "If 45 kg of solvent is used, then $M$ is located at the midpoint of the $\\overline{SF}$ lines segment, as shown in the figure below.\n",
    "\n",
    "The resulting raffinate composition is then \n",
    "\\begin{align*}\n",
    "    \\omega_{A}^{(R)}\t&=\t0.66, \\\\\n",
    "    \\omega_{B}^{(R)}\t&=\t0.25, \\\\\n",
    "    \\omega_{C}^{(R)}\t&=\t0.09,\n",
    "\\end{align*}\n",
    "and the extract composition is \n",
    "\\begin{align*}\n",
    "    \\omega_{A}^{(E)}\t&=\t0.04, \\\\\n",
    "    \\omega_{B}^{(E)}\t&=\t0.06, \\\\\n",
    "    \\omega_{C}^{(E)}\t&=\t0.90.\n",
    "\\end{align*}\n",
    "\n",
    "From an overall mass balance, \n",
    "\\begin{equation}\n",
    "    F + S = E + R = 90\\,\\mathrm{kg},\n",
    "\\end{equation}\n",
    "so that from inverse lever arm rule, \n",
    "\\begin{align}\n",
    "    \\frac{\\overline{MR}}{\\overline{ER}}\t&=\t\\frac{E}{E+R} \\\\\n",
    "    E\t&=\t\\frac{90\\,\\mathrm{kg}}{1.94}=46.4\\,\\mathrm{kg}, \\nonumber \\\\\n",
    "    R\t&=\t90-46.4=43.6\\,\\mbox{kg} \\nonumber. \n",
    "\\end{align}\n",
    "\n",
    "We want the solute-free extract amount. \n",
    "We know that the amount of solvent in the raffinate is \n",
    "$\n",
    "    \\omega_{C}^{(R)}R\n",
    "$ \n",
    "so the solvent-free raffinate mass is\n",
    "$$\n",
    "    R - \\omega_{C}^{(R)}R = R \\left( 1 - \\omega_{C}^{(R)} \\right) = 43.6 \\left( 1 - 0.09 \\right) = \\boxed{ \\mathbf{40\\,\\mathrm{kg}} }.\n",
    "$$\n",
    "\n",
    "For the solute-free extract, we have \n",
    "$$\n",
    "    E - \\omega_{C}^{(E)} E = E \\left( 1 - \\omega_{C}^{(E)} \\right) = 46.4 ( 1 - 0.9 ) = \\boxed{\\mathbf{4.6\\,\\mathrm{kg}}}.\n",
    "$$\n",
    "The percent ethylene glycol extracted is \n",
    "$$\n",
    "    \\frac{\\omega_{B}^{(E)} E}{\\omega_{B}^{(F)}F} \\times 100 = \\frac{ 0.06 \\cdot 46.4 }{ 0.3 \\cdot 45 } = \\boxed{\\mathbf{20\\%}}.\n",
    "$$"
   ]
  },
  {
   "cell_type": "markdown",
   "metadata": {},
   "source": [
    "![part c](shr_4_46_c.png)"
   ]
  },
  {
   "cell_type": "markdown",
   "metadata": {},
   "source": [
    "# Part (d)\n",
    "\n",
    "The maximum purity of glycol in the extract occurs when we add just enough solvent to achieve phase separation, corresponding to location $M_{1}$ in the figure below. \n",
    "The composition of the extract is location $E_{1}$, where we find that \n",
    "$$\n",
    "    \\boxed{\\omega_{B}^{(E)}=0.06}.\n",
    "$$\n",
    "Similarly, the maximum purity of water in the raffinate corresponds to $M_{2}$, with composition at $E_{2}$ as \n",
    "$$\n",
    "    \\boxed{\\omega_{A}^{(R)}=0.86}.\n",
    "$$"
   ]
  },
  {
   "cell_type": "markdown",
   "metadata": {},
   "source": [
    "![part d](shr_4_46_d.png)"
   ]
  }
 ],
 "metadata": {
  "hide_input": false,
  "kernelspec": {
   "display_name": "Python 3",
   "language": "python",
   "name": "python3"
  },
  "language_info": {
   "codemirror_mode": {
    "name": "ipython",
    "version": 3
   },
   "file_extension": ".py",
   "mimetype": "text/x-python",
   "name": "python",
   "nbconvert_exporter": "python",
   "pygments_lexer": "ipython3",
   "version": "3.7.6"
  },
  "latex_envs": {
   "LaTeX_envs_menu_present": true,
   "autocomplete": false,
   "bibliofile": "biblio.bib",
   "cite_by": "apalike",
   "current_citInitial": 1,
   "eqLabelWithNumbers": true,
   "eqNumInitial": 1,
   "hotkeys": {
    "equation": "Ctrl-E",
    "itemize": "Ctrl-I"
   },
   "labels_anchors": false,
   "latex_user_defs": false,
   "report_style_numbering": false,
   "user_envs_cfg": false
  },
  "toc": {
   "colors": {
    "hover_highlight": "#DAA520",
    "navigate_num": "#000000",
    "navigate_text": "#333333",
    "running_highlight": "#FF0000",
    "selected_highlight": "#FFD700",
    "sidebar_border": "#EEEEEE",
    "wrapper_background": "#FFFFFF"
   },
   "moveMenuLeft": true,
   "nav_menu": {
    "height": "84px",
    "width": "252px"
   },
   "navigate_menu": true,
   "number_sections": false,
   "sideBar": true,
   "threshold": 4,
   "toc_cell": false,
   "toc_section_display": "block",
   "toc_window_display": false,
   "widenNotebook": false
  },
  "varInspector": {
   "cols": {
    "lenName": 16,
    "lenType": 16,
    "lenVar": 40
   },
   "kernels_config": {
    "python": {
     "delete_cmd_postfix": "",
     "delete_cmd_prefix": "del ",
     "library": "var_list.py",
     "varRefreshCmd": "print(var_dic_list())"
    },
    "r": {
     "delete_cmd_postfix": ") ",
     "delete_cmd_prefix": "rm(",
     "library": "var_list.r",
     "varRefreshCmd": "cat(var_dic_list()) "
    }
   },
   "types_to_exclude": [
    "module",
    "function",
    "builtin_function_or_method",
    "instance",
    "_Feature"
   ],
   "window_display": false
  }
 },
 "nbformat": 4,
 "nbformat_minor": 2
}
