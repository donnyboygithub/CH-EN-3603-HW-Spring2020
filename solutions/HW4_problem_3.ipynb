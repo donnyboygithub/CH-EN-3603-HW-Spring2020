{
 "cells": [
  {
   "cell_type": "markdown",
   "metadata": {},
   "source": [
    "$\\def\\del#1#2{\\frac{\\partial#1}{\\partial#2}}$\n",
    "$\\def\\d#1#2{\\frac{\\mathrm{d}#1}{\\mathrm{d}#2}}$\n",
    "$\\def\\VolInt#1{\\int_{\\mathsf{V}}#1\\,\\mathrm{d}\\mathsf{V}}$\n",
    "$\\def\\SurfInt#1{\\int_{\\mathsf{S}}#1\\cdot\\mathbf{a}\\,\\mathrm{d}\\mathsf{S}}$\n",
    "\n",
    "<div style=\"text-align: center\">\n",
    "<b><font size=6>ChEn 3603 Homework 4 Problem 3\n",
    "    </font></b>\n",
    "</div>\n",
    "\n",
    "<div class=\"alert alert-block alert-danger\">\n",
    "\n",
    "&copy; 2020 This material is copyright protected. Distributing this material in any form without written permission from Professor Sutherland is prohibited and may result in academic discipline including dismissal from the chemical engineering program and potentially from the university."
   ]
  },
  {
   "cell_type": "markdown",
   "metadata": {},
   "source": [
    "# Part 1\n",
    "\n",
    "From the lecture notes, we have \n",
    "\\begin{equation}\n",
    "    x_{A}^{0} = x_{A}^{\\infty} + \\left( x_{A,0}^{0} - x_{A}^{\\infty} \\right) \\exp\\left( -\\beta D_{AB} t \\right), \\label{eq:xa-bulb0}\n",
    "\\end{equation}\n",
    "where\n",
    "$$\n",
    "    \\beta \\equiv \\frac{ A_{c} }{ V_{0} L } \\left( 1 + \\frac{V_{0}}{V_{L}} \\right).\n",
    "$$\n",
    "From an overall mole balance, we also know that \n",
    "\\begin{equation}\n",
    "    x_A^\\infty = \\frac{x_A^0 V_0 + x_A^L V_L}{V_0+V_L}.\n",
    "    \\label{eq:xainf}\n",
    "\\end{equation}"
   ]
  },
  {
   "cell_type": "markdown",
   "metadata": {},
   "source": [
    "We are interested in solving \\eqref{eq:xa-bulb0} for $t$. \n",
    "Doing so, we find \n",
    "\\begin{equation}\n",
    "    t = \\frac{-1}{\\beta D_{AB}} \\ln\\left[ \\frac{ \\left( x_{A}^{0} - x_{A}^{\\infty} \\right) }{ \\left( x_{A,0}^{0} - x_{A}^{\\infty} \\right) } \\right]. \n",
    "    \\label{eq:t-bulb0}\n",
    "\\end{equation}\n",
    "Similarly for the bulb at $z=L$ we have\n",
    "\\begin{align}\n",
    "    x_{A}^{L}\t&=\tx_{A}^{\\infty} \\left( 1 + \\frac{V_{0}}{V_{L}} \\right) - \\frac{V_{0}}{V_{L}} x_{A}^{0} \\\\\n",
    "        &=\tx_{A}^{\\infty} + \\frac{V_{0}}{V_{L}} \\left( x_{A}^{\\infty} - x_{A,0}^{0} \\right) \\exp\\left( -\\beta D_{AB} t \\right) \\label{eq:xaL}\n",
    "\\end{align}\n",
    "which can be solved for $t$ to find\n",
    "\\begin{equation}\n",
    "    t = \\frac{-1}{\\beta D_{AB}} \\ln\\left[ \\frac{V_{L}}{V_{0}} \\frac{x_{A}^{L} - x_{A}^{\\infty}}{x_{A}^{\\infty} - x_{A,0}^{0}} \\right] \n",
    "    \\label{eq:t-bulbL}\n",
    "\\end{equation}"
   ]
  },
  {
   "cell_type": "code",
   "execution_count": 1,
   "metadata": {},
   "outputs": [],
   "source": [
    "import numpy as np\n",
    "\n",
    "# denote A as argon, B as xenon\n",
    "#\n",
    "# Initially, bulb 0 contains argon and bulb L contains xenon\n",
    "\n",
    "dbulb = 0.15            # bulb diameter, m\n",
    "r     = 1e-3            # tube radius, m\n",
    "L     = 0.1             # tube length, m\n",
    "Dab   = 0.18 / 100**2   # diffusivity, m^2/s\n",
    "Ac  = np.pi * r**2      # tube cross-sectional area\n",
    "\n",
    "# bulb volumes\n",
    "V0  = np.pi*4/3*(dbulb/2)**3 # left bulb volume, m^3\n",
    "VL  = V0 # right bulb volume, m^3\n",
    "\n",
    "β   = Ac/(V0*L) * (1+V0/VL)  # geometry factor\n",
    "\n",
    "xa0_0 = 1  # initial argon in left  bulb\n",
    "xaL_0 = 0  # initial argon in right bulb\n",
    "\n",
    "# the equilibrium composition\n",
    "xa_inf = (xa0_0*V0 + xaL_0*VL)/(V0+VL)"
   ]
  },
  {
   "cell_type": "markdown",
   "metadata": {},
   "source": [
    "Using \\eqref{eq:t-bulb0} and \\eqref{eq:t-bulbL} with $x_A^0 = 0.7$ and $x_A^L = 0.25$, respectively, we find:"
   ]
  },
  {
   "cell_type": "code",
   "execution_count": 2,
   "metadata": {},
   "outputs": [
    {
     "name": "stdout",
     "output_type": "stream",
     "text": [
      "For the left  bulb to reach xA=0.70, t = 398 hours\n",
      "For the right bulb to reach xA=0.25, t = 301 hours\n"
     ]
    }
   ],
   "source": [
    "xa0 = 0.7\n",
    "xaL = 0.25\n",
    "\n",
    "tLeft   = -1/(β*Dab) * np.log( (xa0-xa_inf) / (xa0_0 - xa_inf))\n",
    "tRight = -1/(β*Dab) * np.log( (xaL-xa_inf) / (xa_inf - xa0_0) * V0/VL)\n",
    "\n",
    "print('For the left  bulb to reach xA={:.2f}, t = {:.0f} hours'.format(xa0,tLeft/60/60))\n",
    "print('For the right bulb to reach xA={:.2f}, t = {:.0f} hours'.format(xaL,tRight/60/60))\n"
   ]
  },
  {
   "cell_type": "markdown",
   "metadata": {},
   "source": [
    "# Part 2\n",
    "\n",
    "We are looking for $N_A$ and $N_B$ at $t=75$ hours.\n",
    "\n",
    "Note that \n",
    "\\begin{align*}\n",
    "    N_{A} &= J_{A}, \\\\\n",
    "    N_{B} &= J_{B}, \\\\\n",
    "    N_{B} &=-N_{A}\n",
    "\\end{align*}\n",
    "for this problem. \n",
    "\n",
    "From the lecture notes, \n",
    "\\begin{equation}\n",
    "    N_{A} = \\frac{-c D_{AB}}{L}\\left(x_{A}^{L} - x_{A}^{0}\\right)\n",
    "    \\label{eq:species-molar-flux}\n",
    "\\end{equation}\n",
    "We can find $x_A^0$ from \\eqref{eq:xa-bulb0} and then $x_A^L$ from one of two ways:\n",
    "  1. from rearranging \\eqref{eq:xainf} to find: $$x_A^L = \\frac{x_A^0(V_0+V_L) - x_A^0 V_0}{V_L}$$\n",
    "  1. from \\eqref{eq:xaL}\n",
    "  \n",
    "We can use the gas law to get $c=\\frac{P}{RT}$.\n",
    "Calculating numbers, we obtain:"
   ]
  },
  {
   "cell_type": "code",
   "execution_count": 3,
   "metadata": {},
   "outputs": [
    {
     "name": "stdout",
     "output_type": "stream",
     "text": [
      "The molar flux of argon at t=75 hours is 48.8 mol/cm^2/s\n",
      "The molar flux of xenon at t=75 hours is -48.8 mol/cm^2/s\n"
     ]
    }
   ],
   "source": [
    "p = 101325     # pressure, Pa\n",
    "R = 8.314      # gas constant, J/mol/K\n",
    "T = 105+273.15 # temperature, K\n",
    "c = p/(R*T)\n",
    "\n",
    "t = 75*3600   # time (s)\n",
    "xa0 = xa_inf + (xa0_0 - xa_inf) * np.exp(-β*Dab * t)\n",
    "xaL = xa_inf + V0/VL * (xa_inf - xa0_0) * np.exp(-β*Dab * t)\n",
    "\n",
    "Na = -c*Dab/L*(xaL-xa0)\n",
    "Nb = -Na\n",
    "\n",
    "print('The molar flux of argon at t={:.0f} hours is {:.1f} mol/cm^2/s'.format(t/3600,Na*100**2) )\n",
    "print('The molar flux of xenon at t={:.0f} hours is {:.1f} mol/cm^2/s'.format(t/3600,Nb*100**2) )"
   ]
  },
  {
   "cell_type": "markdown",
   "metadata": {},
   "source": [
    "# Part 3\n",
    "\n",
    "We want to plot $v_A$ and $v_B$ at $t=75$ hours and report the value of $v_A$ and $v_B$ at $z=L$ at $t=100$ hours.\n",
    "\n",
    "In terms of fluxes, we can compute species velocities as $$v_{i}=\\frac{N_{i}}{c_{i}},$$ \n",
    "\n",
    "The mole fraction profiles are linear. \n",
    "This is easily shown by noting that $N_{A}=-cD_{AB}\\d{x_{A}}{z}$ and that $N_{A}$, $c$ and $D_{AB}$ are all constant, which implies that $\\d{x_{A}}{z}$ is constant, or $x_{A}(z)$ is linear. \n",
    "\n",
    "The figure below shows the species velocity profiles through the tube. Note that, although the species fluxes are constant, the velocities are not. This is because the mole fraction profiles are not constant. "
   ]
  },
  {
   "cell_type": "code",
   "execution_count": 4,
   "metadata": {},
   "outputs": [
    {
     "data": {
      "image/png": "[encoded data removed]",
      "text/plain": [
       "<Figure size 432x288 with 1 Axes>"
      ]
     },
     "metadata": {
      "needs_background": "light"
     },
     "output_type": "display_data"
    },
    {
     "name": "stdout",
     "output_type": "stream",
     "text": [
      "At t=75 hours:\n",
      "\tArgon velocity (m/s) at z=L: 1.909 mm/s\n",
      "\tXenon velocity (m/s) at z=L: -0.1645 mm/s\n",
      "\n"
     ]
    }
   ],
   "source": [
    "%matplotlib inline\n",
    "import matplotlib.pyplot as plt\n",
    "\n",
    "z  = np.linspace(0,L)\n",
    "xa = np.linspace(xa0,xaL)  # mole fraction profiles are linear\n",
    "\n",
    "# calculate species velocity.  Note that this is equal to the species\n",
    "# diffusion velocity since there is no molar averaged velocity\n",
    "Na = -c * Dab / L * (xaL-xa0)\n",
    "va =  Na / (c * xa)\n",
    "vb = -Na / (c*(1-xa))\n",
    "\n",
    "plt.plot(z,va*1e3,label='Argon')\n",
    "plt.plot(z,vb*1e3,label='Xenon')\n",
    "plt.xlabel('z (m)') \n",
    "plt.ylabel('species velocity (mm/s)')\n",
    "plt.legend() \n",
    "plt.grid()\n",
    "# plt.savefig('specvel.png')\n",
    "plt.show()\n",
    "\n",
    "print('At t={:.0f} hours:'.format(t/3600))\n",
    "print('\\tArgon velocity (m/s) at z=L: {:.3f} mm/s'.format(va[-1]*1e3))\n",
    "print('\\tXenon velocity (m/s) at z=L: {:.4f} mm/s\\n'.format(vb[-1]*1e3))"
   ]
  },
  {
   "cell_type": "markdown",
   "metadata": {},
   "source": [
    "# Part 4\n",
    "\n",
    "At $t=100$ hours, we want the molar averaged velocity:\n",
    "$$v_{M} = \\frac{N}{c}$$ \n",
    "but since $N=0$ (equimolar counter-diffusion)\n",
    "\\begin{equation}\n",
    "    \\boxed{v_{M}=0}.\n",
    "\\end{equation}"
   ]
  },
  {
   "cell_type": "markdown",
   "metadata": {},
   "source": [
    "# Part 5\n",
    "\n",
    "At $t=75$ hours, we want to plot the mass-averaged velocity, $v$ and report its value at $z=L$.\n",
    "\n",
    "The molar averaged velocity is:\n",
    "\\begin{align}\n",
    "    v &= \\omega_{A} v_{A} + ( 1 - \\omega_{A} ) v_{B} \\\\\n",
    "      &= \\omega_{A} \\frac{N_{A}}{c_{A}} + ( 1 - \\omega_{A} ) \\frac{N_{B}}{c_{B}}\n",
    "\\end{align}\n",
    "and\n",
    "$\n",
    "    \\omega_{i}=\\frac{x_{i}M_{i}}{M}\n",
    "$\n",
    "with\n",
    "$\n",
    "    M=\\sum_{i=1}^{C}x_{i}M_{i}.\n",
    "$\n",
    "For the binary mixture we have here, this simplifies to\n",
    "\\begin{equation}\n",
    "    \\omega_{A}=\\frac{x_{A}M_{A}}{x_{A}M_{A}+(1-x_{A})M_{B}}\n",
    "\\end{equation}"
   ]
  },
  {
   "cell_type": "code",
   "execution_count": 5,
   "metadata": {},
   "outputs": [
    {
     "data": {
      "image/png": "[encoded data removed]",
      "text/plain": [
       "<Figure size 432x288 with 1 Axes>"
      ]
     },
     "metadata": {
      "needs_background": "light"
     },
     "output_type": "display_data"
    },
    {
     "name": "stdout",
     "output_type": "stream",
     "text": [
      "mass-averaged velocity at z=L: -1.11e-01 mm/s\n",
      "\n"
     ]
    }
   ],
   "source": [
    "# calculate the mass-averaged velocity\n",
    "M  = [ 40, 131 ]  # molecular weight of argon, xenon, g/mol\n",
    "wa = xa * M[0] / (xa*M[0]+ (1-xa)*M[1])\n",
    "v  = wa*Na/(c*xa) + (1-wa)*(-Na/(c*(1-xa)))\n",
    "\n",
    "plt.plot(z,v*1e3)\n",
    "plt.xlabel('z (m)') \n",
    "plt.ylabel('Mass-averaged velocity (mm/s)')\n",
    "plt.grid()\n",
    "plt.show()\n",
    "\n",
    "print('mass-averaged velocity at z=L: {:.2e} mm/s\\n'.format(v[-1]*1e3))"
   ]
  }
 ],
 "metadata": {
  "hide_input": false,
  "kernelspec": {
   "display_name": "Python 3",
   "language": "python",
   "name": "python3"
  },
  "language_info": {
   "codemirror_mode": {
    "name": "ipython",
    "version": 3
   },
   "file_extension": ".py",
   "mimetype": "text/x-python",
   "name": "python",
   "nbconvert_exporter": "python",
   "pygments_lexer": "ipython3",
   "version": "3.7.6"
  },
  "latex_envs": {
   "LaTeX_envs_menu_present": true,
   "autoclose": false,
   "autocomplete": false,
   "bibliofile": "biblio.bib",
   "cite_by": "apalike",
   "current_citInitial": 1,
   "eqLabelWithNumbers": true,
   "eqNumInitial": 1,
   "hotkeys": {
    "equation": "Ctrl-E",
    "itemize": "Ctrl-I"
   },
   "labels_anchors": false,
   "latex_user_defs": false,
   "report_style_numbering": false,
   "user_envs_cfg": false
  },
  "toc": {
   "base_numbering": 1,
   "colors": {
    "hover_highlight": "#DAA520",
    "navigate_num": "#000000",
    "navigate_text": "#333333",
    "running_highlight": "#FF0000",
    "selected_highlight": "#FFD700",
    "sidebar_border": "#EEEEEE",
    "wrapper_background": "#FFFFFF"
   },
   "moveMenuLeft": true,
   "nav_menu": {
    "height": "102px",
    "width": "252px"
   },
   "navigate_menu": true,
   "number_sections": false,
   "sideBar": false,
   "skip_h1_title": false,
   "threshold": 4,
   "title_cell": "Table of Contents",
   "title_sidebar": "Contents",
   "toc_cell": false,
   "toc_position": {
    "height": "470px",
    "left": "1px",
    "right": "20px",
    "top": "158px",
    "width": "212px"
   },
   "toc_section_display": "block",
   "toc_window_display": false,
   "widenNotebook": false
  },
  "varInspector": {
   "cols": {
    "lenName": 16,
    "lenType": 16,
    "lenVar": 40
   },
   "kernels_config": {
    "python": {
     "delete_cmd_postfix": "",
     "delete_cmd_prefix": "del ",
     "library": "var_list.py",
     "varRefreshCmd": "print(var_dic_list())"
    },
    "r": {
     "delete_cmd_postfix": ") ",
     "delete_cmd_prefix": "rm(",
     "library": "var_list.r",
     "varRefreshCmd": "cat(var_dic_list()) "
    }
   },
   "types_to_exclude": [
    "module",
    "function",
    "builtin_function_or_method",
    "instance",
    "_Feature"
   ],
   "window_display": false
  }
 },
 "nbformat": 4,
 "nbformat_minor": 2
}
