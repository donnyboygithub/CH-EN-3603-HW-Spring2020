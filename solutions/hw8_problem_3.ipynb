{
 "cells": [
  {
   "cell_type": "markdown",
   "metadata": {},
   "source": [
    "<div style=\"text-align: center\">\n",
    "<b><font size=6>ChEn 3603 Homework 8 Problem 3\n",
    "    </font></b>\n",
    "</div>\n",
    "\n",
    "<div class=\"alert alert-block alert-danger\">\n",
    "\n",
    "&copy; 2020 This material is copyright protected. Distributing this material in any form without written permission from Professor Sutherland is prohibited and may result in academic discipline."
   ]
  },
  {
   "cell_type": "markdown",
   "metadata": {},
   "source": [
    "A feed of 13,500 $\\mathrm{\\frac{kg}{h}}$ is 8 wt% acetic acid (B) in water (A). \n",
    "Removal of acetic acid is to be by liquid–liquid extraction at 25°C, as shown schematically in the figure below. \n",
    "\n",
    "![schematic](problem_4_schematic.png)\n",
    "\n",
    "The raffinate is to contain 1 wt% acetic acid. \n",
    "The following four solvents, with accompanying distribution (partition) coefficients in mass-fraction units, are candidates. \n",
    "Water and each solvent (C) can be considered immiscible. \n",
    "For each solvent, estimate the $\\mathrm{\\frac{kg}{h}}$ required if one equilibrium stage is used. \n",
    "The partition coefficients, \n",
    "\\begin{equation}\n",
    "    \\label{eq:partition-coefficient}\n",
    "    K_{D_{B}} \\equiv \\frac{\\omega_{B}^{(E)}}{\\omega_{B}^{(R)}},\n",
    "\\end{equation}\n",
    "are given as\n",
    "\n",
    "| Solvent         | K_{D} |\n",
    "| --------------- | ----- |\n",
    "| Methyl Acetate  | 1.273 |\n",
    "| Isopropyl Ether | 0.429 |\n",
    "| Heptadecanol    | 0.312 |\n",
    "| Chloroform      | 0.178 |\n"
   ]
  },
  {
   "cell_type": "markdown",
   "metadata": {},
   "source": [
    "# Solution\n",
    "\n",
    "We know that $F=13,500\\,\\mathrm{\\frac{kg}{h}}$ and $\\omega_{B}^{(F)} = 0.08$ (8 wt% acetic acid, C$_{2}$H$_{4}$O$_{2}$)\n",
    "We are assuming that water and the solvents (hydrocarbons in the table below) are immiscible. \n",
    "\n",
    "Given this information, we are looking for the solvent feed rate, $S$ required to achieve a weight percent of $\\omega_{B}^{(R)} = 0.01$ in the raffinate."
   ]
  },
  {
   "cell_type": "markdown",
   "metadata": {},
   "source": [
    "First, let's write down the species mass balances, recalling that the solvent (C) and carrier (A) are insoluble and that there is no solvent in the feed or carrier in the solvent streams:\n",
    "\\begin{align}\n",
    "    \\omega_{A}^{(F)}F\t&=\t\\omega_{A}^{(R)}R, \\label{eq:shr445-Abal} \\\\\n",
    "    \\omega_{B}^{(F)}F\t&=\t\\omega_{B}^{(E)}E + \\omega_{B}^{(R)}R, \\label{eq:shr445-Bbal} \\\\\n",
    "    S\t&=\t\\omega_{C}^{(E)}E \\label{eq:shr445-Cbal}\n",
    "\\end{align}\n",
    "From \\eqref{eq:shr445-Abal}, we find\n",
    "$$\n",
    "    R = \\frac{\\omega_A^{(F)}}{\\omega_{A}^{(R)}} F = \\frac{1 - 0.08}{1 - 0.01} \\left(13,500 \\mathrm{\\frac{kg}{h}} \\right) = 12,545\\,\\mathrm{\\frac{kg}{h}}. \n",
    "$$"
   ]
  },
  {
   "cell_type": "code",
   "execution_count": 1,
   "metadata": {},
   "outputs": [
    {
     "name": "stdout",
     "output_type": "stream",
     "text": [
      "\n",
      "Raffinate mass flow rate R = 12545 (kg/h)\n",
      "\n"
     ]
    }
   ],
   "source": [
    "import numpy as np\n",
    "\n",
    "solvents = ('Methyl Acetate','Isopropyl Ether','Heptadecanol','Chloroform')\n",
    "\n",
    "wB_F = 0.08   # mass fraction acetic acid in feed\n",
    "wB_R = 0.01   # mass fraction acetic acid in raffinate\n",
    "F    = 13500  # Feed mass flow rate, kg/h\n",
    "\n",
    "wA_F = 1 - wB_F\n",
    "wA_R = 1 - wB_R\n",
    "\n",
    "# raffinate mass flow rate\n",
    "R = F * wA_F / wA_R\n",
    "print('\\nRaffinate mass flow rate R = {:.0f} (kg/h)\\n'.format(R))"
   ]
  },
  {
   "cell_type": "markdown",
   "metadata": {},
   "source": [
    "Now solving \\eqref{eq:shr445-Bbal} for $E$, we find \n",
    "\\begin{equation}\n",
    "    E=\\frac{1}{\\omega_{B}^{(E)}}\\left(\\omega_{B}^{(F)}F-\\omega_{B}^{(R)}R\\right).  \\label{eq:shr-4-45-E}\n",
    "\\end{equation}\n",
    "Substituting \\eqref{eq:shr-4-45-E} into \\eqref{eq:shr445-Cbal} (and noting that $\\omega_{C}^{(E)} = 1 - \\omega_{B}^{(E)}$), we find:\n",
    "\\begin{equation}\n",
    "    S = \\left( 1 - \\omega_{B}^{(E)} \\right) \\frac{ \\omega_{B}^{(F)} F - \\omega_{B}^{(R)}R }{ \\omega_{B}^{(E)} } = \\left( \\omega_{B}^{(F)} F - \\omega_{B}^{(R) } R \\right) \\left( \\frac{1}{\\omega_{B}^{(E)}} - 1 \\right)  \\label{eq:shr_4_45_S}\n",
    "\\end{equation}\n",
    "Note that everything except $\\omega_{B}^{(E)}$ is known here. \n",
    "But we can use \\eqref{eq:partition-coefficient} to eliminate $\\omega_{B}^{(E)}$ from \\eqref{eq:shr_4_45_S} to obtain \n",
    "\\begin{equation}\n",
    "    S=\\left(\\omega_{B}^{(F)}F-\\omega_{B}^{(R)}R\\right)\\left(\\frac{1}{\\omega_{B}^{(R)}K_{D_{B}}}-1\\right). \\label{eq:shr-4-45-S-final}\n",
    "\\end{equation}\n",
    "\n",
    "Steps to get the results:\n",
    " 1. Evaluate \\eqref{eq:shr-4-45-S-final} for each $K_{D_{B}}$ from the table above to obtain $S$. \n",
    " 1. Evaluate \\eqref{eq:partition-coefficient} to obtain $\\omega_{B}^{(E)}$, and then \\eqref{eq:shr-4-45-E} to obtain $E$. \n",
    "\n",
    "The results are summarized below"
   ]
  },
  {
   "cell_type": "code",
   "execution_count": 2,
   "metadata": {},
   "outputs": [
    {
     "name": "stdout",
     "output_type": "stream",
     "text": [
      "----------------|----------|--------|----------\n",
      "  Solvent       | S (kg/s) | w_B^E  | E (kg/s)\n",
      "----------------|----------|--------|----------\n",
      "Methyl Acetate  | 7.40e+04 | 0.0127 | 7.50e+04\n",
      "Isopropyl Ether | 2.22e+05 | 0.0043 | 2.23e+05\n",
      "Heptadecanol    | 3.05e+05 | 0.0031 | 3.06e+05\n",
      "Chloroform      | 5.35e+05 | 0.0018 | 5.36e+05\n",
      "----------------|----------|--------|----------\n"
     ]
    }
   ],
   "source": [
    "KD = np.array([ 1.273, 0.429, 0.312, 0.178 ])\n",
    "\n",
    "S = ( wB_F * F - wB_R * R ) * ( 1/(KD * wB_R) - 1 )\n",
    "\n",
    "wB_E = KD*wB_R\n",
    "E = ( wB_F*F - wB_R*R ) / wB_E\n",
    "\n",
    "print('----------------|----------|--------|----------')\n",
    "print('  Solvent       | S (kg/s) | w_B^E  | E (kg/s)')\n",
    "print('----------------|----------|--------|----------')\n",
    "for name,s,w,e in zip(solvents,S,wB_E,E):\n",
    "    print('{:15.17s} | {:8.2e} | {:6.4f} | {:8.2e}'.format(name,s,w,e))\n",
    "print('----------------|----------|--------|----------')"
   ]
  }
 ],
 "metadata": {
  "hide_input": false,
  "kernelspec": {
   "display_name": "Python 3",
   "language": "python",
   "name": "python3"
  },
  "language_info": {
   "codemirror_mode": {
    "name": "ipython",
    "version": 3
   },
   "file_extension": ".py",
   "mimetype": "text/x-python",
   "name": "python",
   "nbconvert_exporter": "python",
   "pygments_lexer": "ipython3",
   "version": "3.7.6"
  },
  "latex_envs": {
   "LaTeX_envs_menu_present": true,
   "autocomplete": false,
   "bibliofile": "biblio.bib",
   "cite_by": "apalike",
   "current_citInitial": 1,
   "eqLabelWithNumbers": true,
   "eqNumInitial": 1,
   "hotkeys": {
    "equation": "Ctrl-E",
    "itemize": "Ctrl-I"
   },
   "labels_anchors": false,
   "latex_user_defs": false,
   "report_style_numbering": false,
   "user_envs_cfg": false
  },
  "toc": {
   "colors": {
    "hover_highlight": "#DAA520",
    "navigate_num": "#000000",
    "navigate_text": "#333333",
    "running_highlight": "#FF0000",
    "selected_highlight": "#FFD700",
    "sidebar_border": "#EEEEEE",
    "wrapper_background": "#FFFFFF"
   },
   "moveMenuLeft": true,
   "nav_menu": {
    "height": "30px",
    "width": "252px"
   },
   "navigate_menu": true,
   "number_sections": false,
   "sideBar": true,
   "threshold": 4,
   "toc_cell": false,
   "toc_section_display": "block",
   "toc_window_display": false,
   "widenNotebook": false
  },
  "varInspector": {
   "cols": {
    "lenName": 16,
    "lenType": 16,
    "lenVar": 40
   },
   "kernels_config": {
    "python": {
     "delete_cmd_postfix": "",
     "delete_cmd_prefix": "del ",
     "library": "var_list.py",
     "varRefreshCmd": "print(var_dic_list())"
    },
    "r": {
     "delete_cmd_postfix": ") ",
     "delete_cmd_prefix": "rm(",
     "library": "var_list.r",
     "varRefreshCmd": "cat(var_dic_list()) "
    }
   },
   "types_to_exclude": [
    "module",
    "function",
    "builtin_function_or_method",
    "instance",
    "_Feature"
   ],
   "window_display": false
  }
 },
 "nbformat": 4,
 "nbformat_minor": 2
}
