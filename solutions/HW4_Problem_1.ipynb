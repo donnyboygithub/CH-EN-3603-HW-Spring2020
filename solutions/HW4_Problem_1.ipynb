{
 "cells": [
  {
   "cell_type": "markdown",
   "metadata": {},
   "source": [
    "$\\def\\d#1#2{\\frac{\\mathrm{d}#1}{\\mathrm{d}#2}}$\n",
    "\n",
    "<div style=\"text-align: center\">\n",
    "<b><font size=6>ChEn 3603 Homework 4 Problem 1\n",
    "    </font></b>\n",
    "</div>\n",
    "\n",
    "<div class=\"alert alert-block alert-danger\">\n",
    "\n",
    "&copy; 2020 This material is copyright protected. Distributing this material in any form without written permission from Professor Sutherland is prohibited and may result in academic discipline including dismissal from the chemical engineering program and potentially from the university."
   ]
  },
  {
   "cell_type": "markdown",
   "metadata": {},
   "source": [
    "Beginning with the definition of the total molar flux for species “A” in a binary system \n",
    "\\begin{equation}\n",
    "    N_{A} = x_{A} \\left( N_{A} + N_{B} \\right) + J_{A}\n",
    "    \\label{eq:molar-flux}\n",
    "\\end{equation}"
   ]
  },
  {
   "cell_type": "markdown",
   "metadata": {},
   "source": [
    "# Part 1 - diffusion between concentric spheres\n",
    "\n",
    "We want to derive the expression for the molar flow rate when we have diffusion between concentric spheres but no bulk flow: \n",
    "\\begin{equation}\n",
    "    n_{A}=-4\\pi r_{1}r_{2}D_{AB}\\left(\\frac{c_{A_{2}}-c_{A_{1}}}{r_{2}-r_{1}}\\right)\n",
    "\\end{equation}"
   ]
  },
  {
   "cell_type": "markdown",
   "metadata": {},
   "source": [
    "Since we have no bulk flow, $N_{A} + N_{B} = 0$. \n",
    "Substituting into \\eqref{eq:molar-flux} we find\n",
    "\\begin{align}\n",
    "    N_{A}\t&= J_{A}=-D_{AB} \\d{c_{A}}{r} \\\\\n",
    "    n_{A}\t&= -4\\pi r^{2}D_{AB} \\d{c_{A}}{r}\n",
    "\\end{align}\n",
    "Substituting Fick's law for $J_A$,\n",
    "Separating this ODE and integrating we find \n",
    "\\begin{align}\n",
    "    n_{A}\\int_{r_{1}}^{r_{2}}\\frac{dr}{r^{2}}\t&=\t-4\\pi D_{AB}\\int_{c_{A_{1}}}^{c_{A_{2}}}dc_{A}, \\\\\n",
    "    -n_{A}\\left(\\frac{1}{r_{2}}-\\frac{1}{r_{1}}\\right)\t&=\t-4\\pi D_{AB}\\left(c_{A_{2}}-c_{A_{1}}\\right), \\nonumber \\\\\n",
    "    n_{A}\\left(\\frac{r_{2}-r_{1}}{r_{1}r_{2}}\\right)\t&=\t-4\\pi D_{AB}\\left(c_{A_{2}}-c_{A_{1}}\\right) \\nonumber \\\\\n",
    "    n_{A}\t&=\t\\boxed{-4\\pi D_{AB}r_{1}r_{2}\\frac{c_{A_{2}}-c_{A_{1}}}{r_{2}-r_{1}}}. \\label{eq:molar-flowrate-A}\n",
    "\\end{align}\n",
    "This is the equation for the molar flow rate of $A$. "
   ]
  },
  {
   "cell_type": "markdown",
   "metadata": {},
   "source": [
    "# Part 2\n",
    "We want to show that $$ N_{A}=-\\frac{D_{AB}r_{1}r_{2}}{r^{2}}\\frac{c_{A_{2}}-c_{A_{1}}}{r_{2}-r_{1}}.$$"
   ]
  },
  {
   "cell_type": "markdown",
   "metadata": {},
   "source": [
    "To obtain the flux at a given radius, we divide \\eqref{eq:molar-flowrate-A} by the area of the spherical shell at that radius, $A=4\\pi r^{2}$ to find\n",
    "\\begin{equation}\n",
    "    \\boxed{N_{A}=-\\frac{D_{AB}r_{1}r_{2}}{r^{2}}\\frac{c_{A_{2}}-c_{A_{1}}}{r_{2}-r_{1}}}. \n",
    "\\end{equation}"
   ]
  },
  {
   "cell_type": "markdown",
   "metadata": {},
   "source": [
    "# Part 3\n",
    "What is $n_{B}$ and $N_{B}$?\n",
    "\n",
    "Since the total molar flow rate is zero (no bulk flow), we conclude that \n",
    "\\begin{equation}\n",
    "    n_{B} = -n_{A} = 4 \\pi D_{AB} r_1 r_2 \\frac{c_{A_{2}} - c_{A_{1}} }{r_{2} - r_{1}}\n",
    "\\end{equation}\n",
    "Dividing by the area of a spherical shell at radius $r$ we find\n",
    "\\begin{equation}\n",
    "    N_{B} = \\frac{D_{AB} r_{1} r_{2}}{ r^{2} } \\frac{c_{A_{2}} - c_{A_{1}}}{r_{2} - r_{1}} = -N_{A}.\n",
    "\\end{equation}"
   ]
  }
 ],
 "metadata": {
  "hide_input": false,
  "kernelspec": {
   "display_name": "Python 3",
   "language": "python",
   "name": "python3"
  },
  "language_info": {
   "codemirror_mode": {
    "name": "ipython",
    "version": 3
   },
   "file_extension": ".py",
   "mimetype": "text/x-python",
   "name": "python",
   "nbconvert_exporter": "python",
   "pygments_lexer": "ipython3",
   "version": "3.7.6"
  },
  "latex_envs": {
   "LaTeX_envs_menu_present": true,
   "autocomplete": false,
   "bibliofile": "biblio.bib",
   "cite_by": "apalike",
   "current_citInitial": 1,
   "eqLabelWithNumbers": true,
   "eqNumInitial": 1,
   "hotkeys": {
    "equation": "Ctrl-E",
    "itemize": "Ctrl-I"
   },
   "labels_anchors": false,
   "latex_user_defs": false,
   "report_style_numbering": false,
   "user_envs_cfg": false
  },
  "toc": {
   "colors": {
    "hover_highlight": "#DAA520",
    "navigate_num": "#000000",
    "navigate_text": "#333333",
    "running_highlight": "#FF0000",
    "selected_highlight": "#FFD700",
    "sidebar_border": "#EEEEEE",
    "wrapper_background": "#FFFFFF"
   },
   "moveMenuLeft": true,
   "nav_menu": {
    "height": "66px",
    "width": "252px"
   },
   "navigate_menu": true,
   "number_sections": false,
   "sideBar": true,
   "threshold": 4,
   "toc_cell": false,
   "toc_section_display": "block",
   "toc_window_display": false,
   "widenNotebook": false
  },
  "varInspector": {
   "cols": {
    "lenName": 16,
    "lenType": 16,
    "lenVar": 40
   },
   "kernels_config": {
    "python": {
     "delete_cmd_postfix": "",
     "delete_cmd_prefix": "del ",
     "library": "var_list.py",
     "varRefreshCmd": "print(var_dic_list())"
    },
    "r": {
     "delete_cmd_postfix": ") ",
     "delete_cmd_prefix": "rm(",
     "library": "var_list.r",
     "varRefreshCmd": "cat(var_dic_list()) "
    }
   },
   "types_to_exclude": [
    "module",
    "function",
    "builtin_function_or_method",
    "instance",
    "_Feature"
   ],
   "window_display": false
  }
 },
 "nbformat": 4,
 "nbformat_minor": 2
}
