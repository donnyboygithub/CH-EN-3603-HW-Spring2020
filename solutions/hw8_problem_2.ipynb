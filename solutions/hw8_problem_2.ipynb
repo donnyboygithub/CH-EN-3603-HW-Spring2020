{
 "cells": [
  {
   "cell_type": "markdown",
   "metadata": {},
   "source": [
    "<div style=\"text-align: center\">\n",
    "<b><font size=6>ChEn 3603 Homework 8 Problem 2\n",
    "    </font></b>\n",
    "</div>\n",
    "\n",
    "<div class=\"alert alert-block alert-danger\">\n",
    "\n",
    "&copy; 2020 This material is copyright protected. Distributing this material in any form without written permission from Professor Sutherland is prohibited and may result in academic discipline."
   ]
  },
  {
   "cell_type": "markdown",
   "metadata": {},
   "source": [
    "Here we want to calculate the bubble-point temperature and the composition of the first vapor bubble of an equimolar mixture of ethylene, n-butane, iso-pentane and n-hexane at 4 atm using a few different techniques.\n",
    "\n",
    "To determine the bubble point temperature, we solve the simplified Rachford-Rice equation, \n",
    "\\begin{equation}\n",
    "    \\label{eq:bubble-point-eqn}\n",
    "    r(T) = 1 - \\sum_{i=1}^{C} z_{i} K_{i}\n",
    "\\end{equation}\n",
    "where $z_{i}$ is the original liquid composition."
   ]
  },
  {
   "cell_type": "code",
   "execution_count": 1,
   "metadata": {},
   "outputs": [],
   "source": [
    "import numpy as np\n",
    "import matplotlib.pyplot as plt\n",
    "from scipy.optimize import fsolve\n",
    "\n",
    "# import thermo tools\n",
    "from redlich_kwong_kvalue import redlich_kwong_kvalue\n",
    "from raoult_law_kvalue import raoult_law_kvalue\n",
    "from depriester import depriester"
   ]
  },
  {
   "cell_type": "code",
   "execution_count": 2,
   "metadata": {},
   "outputs": [],
   "source": [
    "P_atm  = 4               # pressure in atm\n",
    "P_pa   = P_atm * 101325  # pressure in Pa\n",
    "P_psi  = P_atm * 14.7    # pressure in psia\n",
    "\n",
    "z = np.ones(4) / 4  # equimolar"
   ]
  },
  {
   "cell_type": "markdown",
   "metadata": {},
   "source": [
    "# Part 1 - DePriester Correlation\n",
    "\n",
    "The DePriester correlation is:\n",
    "$$\n",
    "    \\ln K = \\frac{ a_{1} }{ T^{2} } + \\frac{a_{2}}{T} + a_{3} + b_{1} \\ln p + \\frac{b_{2}}{p^{2}} + \\frac{b_{3}}{p}\n",
    "$$\n",
    "For the system here, the coefficients are summarized in the following table.\n",
    "\n",
    "|  &#xfeff; | $a_{1}$     | $a_{2}$ | $a_{3}$ | $b_{1}$  | $b_{2}$  | $b_{3}$ |\n",
    "|-----------|-------------|---------|---------|----------|----------|---------|\n",
    "| ethylene  | -600076.875 | 0       | 7.90595 | -0.84677 | 42.94594 | 0       |\n",
    "| n-butane  | -1280557    | 0       | 7.94986 | -0.96455 | 0        | 0       |\n",
    "| i-pentane | -1481583    | 0       | 7.58071 | -0.93159 | 0        | 0       |\n",
    "| n-hexane  | -1778901    | 0       | 6.96783 | -0.84634 | 0        | 0       |\n"
   ]
  },
  {
   "cell_type": "code",
   "execution_count": 4,
   "metadata": {},
   "outputs": [],
   "source": [
    "# Recall: use T in Rankine and P in psia for DePriester correlation!\n",
    "\n",
    "dpcoefs = np.array([\n",
    "  [ -600076.875, 0, 7.90595, -0.84677, 42.94594, 0 ],  # ethylene\n",
    "  [ -1280557,    0, 7.94986, -0.96455, 0,        0 ],  # n-butane\n",
    "  [ -1481583,    0, 7.58071, -0.93159, 0,        0 ],  # i-pentane\n",
    "  [ -1778901,    0, 6.96783, -0.84634, 0,        0 ]   # n-pentane\n",
    "  ])\n",
    "\n",
    "\n",
    "# for bubble point:\n",
    "def depreiester_residual(T,coefs,P):\n",
    "    return 1 - sum( z * depriester(coefs,T,P) )\n",
    "\n",
    "Tb = fsolve( depreiester_residual, 400, args=(dpcoefs,P_psi) )\n",
    "K_depriester = depriester( dpcoefs, Tb[0], P_psi )\n",
    "y_depriester = K_depriester * z\n",
    "\n",
    "# convert temperature to K for use later on\n",
    "T_depriester = Tb[0]*5/9\n",
    "\n",
    "# print('Bubble point temperature (K): {:.1f}\\n'.format(T_depriester) )"
   ]
  },
  {
   "cell_type": "markdown",
   "metadata": {},
   "source": [
    "# Part 2 - Raoult's Law"
   ]
  },
  {
   "cell_type": "markdown",
   "metadata": {},
   "source": [
    "For Raoult's law, we have \n",
    "\\begin{equation}\n",
    "    \\label{eq:Raoult's-law-K}\n",
    "    K_{i}=\\frac{P_{i}^{s}}{P}\n",
    "\\end{equation}\n",
    "where $P_{i}^{s}$ is the saturation pressure of species $i$ at the system temperature, which we approximate using the Antoine equation, \n",
    "\\begin{equation}\n",
    "    \\label{eq:antoine}\n",
    "    \\log_{10}P_{i}^{s} = A - \\frac{B}{C+T}.\n",
    "\\end{equation}\n",
    "The parameters for the Antoine equation are given in the following table.\n",
    "\n",
    "| Species   | A       | B        | C       | \n",
    "| --------- | ------- | -------- | ------- |\n",
    "| ethylene  | 6.74756 | 585.000  | 255.000 | \n",
    "| n-butane  | 6.80896 | 935.860  | 238.73  | \n",
    "| i-pentane | 6.83315 | 1040.730 | 235.445 | \n",
    "| n-hexane  | 6.87024 | 1168.720 | 224.210 | \n",
    "\n",
    "To obtain the bubble point, we solve \\eqref{eq:bubble-point-eqn} with $K_{i}$ given by \\eqref{eq:Raoult's-law-K} and $P_{i}^{s}$ given by [eq:antoine]."
   ]
  },
  {
   "cell_type": "code",
   "execution_count": 5,
   "metadata": {},
   "outputs": [],
   "source": [
    "antoineCoefs = np.array([\n",
    "    [6.74756, 585.000,  255.000 ],\n",
    "    [6.80896, 935.860,  238.73  ],\n",
    "    [6.83315, 1040.730, 235.445 ],\n",
    "    [6.87024, 1168.72,  224.210 ]\n",
    "    ])\n",
    "\n",
    "def raoult_residual(T,P,coefs):\n",
    "    K = raoult_law_kvalue(T,P,coefs)\n",
    "    return 1 - sum(z*K)\n",
    "\n",
    "\n",
    "# find the bubble point temperature in K\n",
    "T = fsolve( raoult_residual, T_depriester, args=(P_pa,antoineCoefs) )\n",
    "T_raoult = T[0]\n",
    "K_raoult = raoult_law_kvalue(T_raoult,P_pa,antoineCoefs)\n",
    "y_raoult = K_raoult * z\n",
    "\n",
    "# print('Bubble point temperature (K): {:.1f}\\n'.format(T_raoult) )"
   ]
  },
  {
   "cell_type": "markdown",
   "metadata": {},
   "source": [
    "# Part 3 - Redlich-Kwong Equation of State"
   ]
  },
  {
   "cell_type": "markdown",
   "metadata": {},
   "source": [
    "The Redlich-Kwong equation of state uses mixing rules for mixtures that are provided in SHR $\\S$2.5.1-2.5.2. \n",
    "The python file that I provided on the class web page calculates $K_{i}$ given the critical parameters of each species, the temperature, pressure and composition of the mixture, \n",
    "\\begin{equation}\n",
    "    \\label{eq:SRK-Kvalue}\n",
    "    K_{i} = K_{i} \\left(T_{c},P_{c},T,P,x_{j},y_{j} \\right).\n",
    "\\end{equation}\n",
    "\n",
    "Since \\eqref{eq:SRK-Kvalue} requires the composition, we must employ an iterative procedure to obtain the _K_-values:\n",
    " 1. Guess $K_{i}$ (e.g., from Raoult's law).\n",
    " 1. Guess $y_{i} = K_{i}x_{i}$\n",
    " 1. Solve \\eqref{eq:bubble-point-eqn} with \\eqref{eq:SRK-Kvalue} for $K_{i}$ to obtain $T$.\n",
    " 1. Given the new $T$, update $K_{i}$ from \\eqref{eq:SRK-Kvalue}\n",
    " 1. Update $y_{i} = K_i x_i$\n",
    " 1. If $T$ is changing still, return to step (3). Otherwise, we have the bubble point temperature\n",
    " \n",
    "The following table provides the relevant parameters for the RK (and SRK) equations of state:\n",
    "\n",
    "| Species   | $T_{c}$ (K) | $P_{c}$ (Pa) | $\\omega$ | \n",
    "| --------- | ----------- | ------------ | -------- |\n",
    "| ethylene  | 282.4 | 5.04$\\times10^{6}$ | 0.089 | \n",
    "| n-butane  | 425.2 | 3.80$\\times10^{6}$ | 0.199 | \n",
    "| i-pentane | 460.4 | 3.39$\\times10^{6}$ | 0.227 | \n",
    "| n-hexane  | 507.5 | 3.01$\\times10^{6}$ | 0.299 | \n"
   ]
  },
  {
   "cell_type": "code",
   "execution_count": 6,
   "metadata": {},
   "outputs": [],
   "source": [
    "def rk_residual(T,P,Tc,Pc,x,y):\n",
    "    K = redlich_kwong_kvalue(Tc,Pc,T,P,x,y)\n",
    "    return 1 - sum( z * K )\n",
    "\n",
    "Tc = np.array([ 282.4, 425.2, 460.4, 507.5 ])\n",
    "Pc = np.array([ 5.04,  3.80,  3.39,  3.01  ]) * 1e6\n",
    "\n",
    "K_rk = K_raoult\n",
    "y_rk = y_raoult\n",
    "T_rk = T_raoult\n",
    "err  = 1\n",
    "\n",
    "while err>0.01:\n",
    "    T = fsolve( rk_residual, T_rk, args=(P_pa,Tc,Pc,z,y_rk) )\n",
    "    err = abs(T[0] - T_rk)\n",
    "    # update temperature and composition\n",
    "    T_rk = T[0]\n",
    "    K_rk = redlich_kwong_kvalue(Tc,Pc,T_rk,P_pa,z,y_rk)\n",
    "    y_rk = K_rk * z\n",
    "    \n",
    "# print('Bubble point temperature (K): {:.1f}\\n'.format(T_rk) )"
   ]
  },
  {
   "cell_type": "code",
   "execution_count": 10,
   "metadata": {},
   "outputs": [
    {
     "name": "stdout",
     "output_type": "stream",
     "text": [
      "[282.4 425.2 460.4 507.5] [5040000. 3800000. 3390000. 3010000.] 405300\n",
      "[3.89109547 0.11336971 0.03992669 0.00954489]\n"
     ]
    }
   ],
   "source": [
    "print(Tc,Pc,P_pa)\n",
    "print(redlich_kwong_kvalue(Tc,Pc,240,P_pa,z,y_rk))"
   ]
  },
  {
   "cell_type": "markdown",
   "metadata": {},
   "source": [
    "# Part 4 - Soave-Redlich-Kwong\n",
    "\n",
    "The SRK equation of state follows the same approach as the RK equation of state, with incorporation of the acentric factor, $\\omega$, which is given in the table above."
   ]
  },
  {
   "cell_type": "code",
   "execution_count": 8,
   "metadata": {},
   "outputs": [],
   "source": [
    "def srk_residual(T,P,Tc,Pc,x,y,w):\n",
    "    K = redlich_kwong_kvalue(Tc,Pc,T,P,x,y,w)\n",
    "    return 1 - sum( z * K )\n",
    "\n",
    "# define the acentric factor for each species\n",
    "w = np.array([ 0.089, 0.199, 0.227, 0.299 ])\n",
    "\n",
    "T_srk = T_rk\n",
    "K_srk = K_rk\n",
    "y_srk = y_rk\n",
    "err   = 1\n",
    "\n",
    "while err>0.01:\n",
    "    T = fsolve( srk_residual, T_srk, args=(P_pa,Tc,Pc,z,y_srk,w) )\n",
    "    err = abs(T[0] - T_srk)\n",
    "    # update temperature and composition\n",
    "    T_srk = T[0]\n",
    "    K_srk = redlich_kwong_kvalue(Tc,Pc,T_srk,P_pa,z,y_srk,w)\n",
    "    y_srk = K_srk * z\n",
    "\n",
    "# print('Bubble point temperature (K): {:.1f}\\n'.format(T_srk) )"
   ]
  },
  {
   "cell_type": "markdown",
   "metadata": {},
   "source": [
    "# Summary of Results\n",
    "\n",
    "The results for the bubble point calculation showing the temperature and composition of the vapor are summarized in the table below."
   ]
  },
  {
   "cell_type": "code",
   "execution_count": 9,
   "metadata": {},
   "outputs": [
    {
     "name": "stdout",
     "output_type": "stream",
     "text": [
      "-----------------------------------------------------------\n",
      "Method      T (K)  Ethylene  n-Butane  i-Pentane  n-Pentane\n",
      "-----------------------------------------------------------\n",
      "DePriester  244.2     0.976     0.018      0.005      0.001\n",
      "Raoult      237.3     0.983     0.013      0.003      0.000\n",
      "RK          239.4     0.960     0.028      0.010      0.002\n",
      "SRK         240.3     0.977     0.017      0.005      0.001\n",
      "-----------------------------------------------------------\n"
     ]
    }
   ],
   "source": [
    "print('-----------------------------------------------------------')\n",
    "print('Method      T (K)  Ethylene  n-Butane  i-Pentane  n-Pentane')\n",
    "print('-----------------------------------------------------------')\n",
    "print('DePriester {:6.1f} {:9.3f} {:9.3f} {:10.3f} {:10.3f}'.format(T_depriester,y_depriester[0],y_depriester[1],y_depriester[2],y_depriester[3]))\n",
    "print('Raoult     {:6.1f} {:9.3f} {:9.3f} {:10.3f} {:10.3f}'.format(T_raoult,y_raoult[0],y_raoult[1],y_raoult[2],y_raoult[3]))\n",
    "print('RK         {:6.1f} {:9.3f} {:9.3f} {:10.3f} {:10.3f}'.format(T_rk,y_rk[0],y_rk[1],y_rk[2],y_rk[3]))\n",
    "print('SRK        {:6.1f} {:9.3f} {:9.3f} {:10.3f} {:10.3f}'.format(T_srk,y_srk[0],y_srk[1],y_srk[2],y_srk[3]))\n",
    "print('-----------------------------------------------------------')"
   ]
  },
  {
   "cell_type": "markdown",
   "metadata": {},
   "source": [
    "It is interesting to note that there is significant discrepancy between the various methods - particularly for temperature.  I'd be inclined to trust the RK/SRK results over the DePriester and Raoult's law results."
   ]
  }
 ],
 "metadata": {
  "hide_input": false,
  "kernelspec": {
   "display_name": "Python 3",
   "language": "python",
   "name": "python3"
  },
  "language_info": {
   "codemirror_mode": {
    "name": "ipython",
    "version": 3
   },
   "file_extension": ".py",
   "mimetype": "text/x-python",
   "name": "python",
   "nbconvert_exporter": "python",
   "pygments_lexer": "ipython3",
   "version": "3.7.6"
  },
  "latex_envs": {
   "LaTeX_envs_menu_present": true,
   "autocomplete": false,
   "bibliofile": "biblio.bib",
   "cite_by": "apalike",
   "current_citInitial": 1,
   "eqLabelWithNumbers": true,
   "eqNumInitial": 1,
   "hotkeys": {
    "equation": "Ctrl-E",
    "itemize": "Ctrl-I"
   },
   "labels_anchors": false,
   "latex_user_defs": false,
   "report_style_numbering": false,
   "user_envs_cfg": false
  },
  "toc": {
   "colors": {
    "hover_highlight": "#DAA520",
    "navigate_num": "#000000",
    "navigate_text": "#333333",
    "running_highlight": "#FF0000",
    "selected_highlight": "#FFD700",
    "sidebar_border": "#EEEEEE",
    "wrapper_background": "#FFFFFF"
   },
   "moveMenuLeft": true,
   "nav_menu": {
    "height": "102px",
    "width": "252px"
   },
   "navigate_menu": true,
   "number_sections": false,
   "sideBar": true,
   "threshold": 4,
   "toc_cell": false,
   "toc_section_display": "block",
   "toc_window_display": true,
   "widenNotebook": false
  },
  "varInspector": {
   "cols": {
    "lenName": 16,
    "lenType": 16,
    "lenVar": 40
   },
   "kernels_config": {
    "python": {
     "delete_cmd_postfix": "",
     "delete_cmd_prefix": "del ",
     "library": "var_list.py",
     "varRefreshCmd": "print(var_dic_list())"
    },
    "r": {
     "delete_cmd_postfix": ") ",
     "delete_cmd_prefix": "rm(",
     "library": "var_list.r",
     "varRefreshCmd": "cat(var_dic_list()) "
    }
   },
   "types_to_exclude": [
    "module",
    "function",
    "builtin_function_or_method",
    "instance",
    "_Feature"
   ],
   "window_display": false
  }
 },
 "nbformat": 4,
 "nbformat_minor": 2
}
