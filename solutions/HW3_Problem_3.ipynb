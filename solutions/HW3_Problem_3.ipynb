{
 "cells": [
  {
   "cell_type": "markdown",
   "metadata": {},
   "source": [
    "$\\def\\pder#1#2{\\frac{\\partial#1}{\\partial#2}}$\n",
    "$\\def\\d#1#2{\\frac{\\mathrm{d}#1}{\\mathrm{d}#2}}$\n",
    "$\\def\\VolInt#1{\\int_{\\mathsf{V}}#1\\,\\mathrm{d}\\mathsf{V}}$\n",
    "$\\def\\SurfInt#1{\\int_{\\mathsf{S}}#1\\cdot\\mathbf{a}\\,\\mathrm{d}\\mathsf{S}}$\n",
    "\n",
    "<div style=\"text-align: center\">\n",
    "<b><font size=6>ChEn 3603 Homework 3 Problem 3\n",
    "    </font></b>\n",
    "</div>\n",
    "\n",
    "<div class=\"alert alert-block alert-danger\">\n",
    "\n",
    "&copy; 2020 This material is copyright protected. Distributing this material in any form without written permission from Professor Sutherland is prohibited and may result in academic discipline including dismissal from the chemical engineering program and potentially from the university."
   ]
  },
  {
   "cell_type": "markdown",
   "metadata": {},
   "source": [
    "Given the cylindrical tank in the figure below where a chemical reaction \n",
    "$$\n",
    "    A\\stackrel{k}{\\longrightarrow}B \n",
    "$$\n",
    "is occurring with reaction rate given by $S_{A}=-kc_{A}^2$. \n",
    "![cylindrical tank](Tank.png)\n",
    "Assume that you are given $c_{A}^{in}$ (the inlet concentration of species $A$), $\\dot{V}_{in}$, $r$ (the radius of the hole in the bottom of the tank) and $u=\\sqrt{2gh}$ for the outlet velocity. \n",
    "You may assume that the concentration is uniform throughout the tank (perfect mixing). \n",
    "Also assume that the reaction does not result in a change in the molar volume of the mixture.\n",
    "\n",
    " 1. Show that $$\\d{c_{A}}t=\\frac{\\dot{V}_{in}}{A_{c}h}\\left(c_{A}^{in}-c_{A}\\right)-kc_{A}^2,$$ where $A_{c}$ is the cross-sectional area of the tank.\n",
    "\n",
    "    ___Hints:___\n",
    "\n",
    "     * Note that both $c_{A}$ and $V$ are changing in time. \n",
    "     * You will need to derive an equation for $\\d{V}{t}$ which you can substitute.\n",
    "\n",
    "    Note that you need to show work that demonstrates that you can derive this (working backward from the answer won't get you too far). Otherwise you won't receive credit.\n",
    " 1. Determine $c_{A}(t)$ and $h(t)$ given: a tank diameter of 0.5 m and height of $H=1$ m, $c_{A}(0)=0\\,\\mathrm{\\frac{mol}{m^{3}}}$, $c_{A}^{in}=1\\,\\mathrm{\\frac{mol}{m^{3}}}$, $k=10^{-2}\\,\\text{s}^{-1}$, a hole in the bottom with radius $r=1$ cm, an inlet flow rate tank such that at steady state the tank is 50% full, and an initial liquid level of 5% and 95% the tank height. Plot the concentration of $A$, the moles of $A$ and the height of the liquid in the tank over a 60-minute time period. \n",
    " 1. For the numbers in part 2, determine the steady-state concentration of $A$. Hint: at steady state, $\\d{c_{i}}{t}=0.$"
   ]
  },
  {
   "cell_type": "markdown",
   "metadata": {},
   "source": [
    "# Part 1\n",
    "We know that the volume of liquid in the tank changes according to the difference in the volumetric flow rates: \\begin{equation}\n",
    "    \\d{V}{t} = \\dot{V}_{in}-\\dot{V}_{out}\n",
    "    \\label{eq:dVdt-simple}\n",
    "\\end{equation}\n",
    "The molar balance on species $i$ is\n",
    "$$\n",
    "    \\d{}{t}\\VolInt{c_{i}}=-\\SurfInt{\\mathbf{N}_{i}}+\\VolInt{S_{i}}\n",
    "$$\n",
    "Assuming that the tank is well mixed, \n",
    "\\begin{align}\n",
    "    \\d{c_{i}V}{t}\t&=\tc_{i}^{in}\\dot{V}_{in}-c_{i}\\dot{V}_{out}+S_{i}V, \\nonumber \\\\\n",
    "    c_{i}\\d Vt+V\\d{c_{i}}t\t&=\t\\dot{V}_{in}c_{i}^{in}-c_{i}\\dot{V}_{out}-kc_{i}^2V. \\label{eq:dMidt-early} \n",
    "\\end{align}\n",
    "Substituting \\eqref{eq:dVdt-simple} into \\eqref{eq:dMidt-early} we find\n",
    "\\begin{align}\n",
    "    \\d{c_{i}}{t}\t&=\t\\frac{1}{V}\\left[-c_{i}\\left(\\dot{V}_{in}-\\dot{V}_{out}\\right)+\\dot{V}_{in}c_{i}^{in}-c_{i}\\dot{V}_{out}-kc_{i}^2 V \\right], \\nonumber \\\\\n",
    "        &=\t\\frac{\\dot{V}_{in}}{V}\\left(c_{i}^{in}-c_{i}\\right)-kc_{i}^2. \n",
    "\\end{align}\n",
    "Finally,\n",
    "$$\n",
    "    \\dot{V}_{out}=\\pi r^{2}\\sqrt{2gh} \n",
    "$$\n",
    "so that \n",
    "\\begin{equation}\n",
    "    \\d{c_{i}}t = \\frac{\\dot{V}_{in}}{A_{c}h}\\left(c_{i}^{in}-c_{i}\\right)-kc_{i}^2. \n",
    "    \\label{eq:dci-dt}\n",
    "\\end{equation}\n",
    "Since $h=h(t)$ then we must also solve its ODE, \n",
    "\\begin{equation}\n",
    "    \\d{h}{t} = \\frac{1}{A_{c}}\\left(\\dot{V}_{in}-\\pi r^{2}\\sqrt{2gh}\\right). \n",
    "    \\label{eq:dhdt-simple}\n",
    "\\end{equation}\n",
    "We must solve \\eqref{eq:dci-dt} and \\eqref{eq:dhdt-simple} simultaneously to determine $c_{i}(t)$."
   ]
  },
  {
   "cell_type": "markdown",
   "metadata": {},
   "source": [
    "# Part 2\n",
    "At steady state, $\\d{h}{t}=0$ so that \n",
    "\\begin{equation}\n",
    "    \\dot{V}_{in}=\\dot{V}_{out}=\\pi r^{2}\\sqrt{2gh} \n",
    "\\end{equation}\n",
    "Since we know $h=\\frac{H}{2}$ at steady state, we determine that the inlet flow rate is\n",
    "\\begin{equation}\n",
    "    \\dot{V}_{in}=\\pi r^{2}\\sqrt{gH}.\n",
    "\\end{equation}\n",
    "We can now solve equations \\eqref{eq:dci-dt} and \\eqref{eq:dhdt-simple} simultaneously using a numeric integration technique. \n",
    "Also note that the number of moles of A in the tank is simply $N_{A}=c_{A}A_{c}h$."
   ]
  },
  {
   "cell_type": "code",
   "execution_count": 1,
   "metadata": {},
   "outputs": [],
   "source": [
    "import numpy as np\n",
    "import matplotlib.pyplot as plt"
   ]
  },
  {
   "cell_type": "code",
   "execution_count": 2,
   "metadata": {},
   "outputs": [
    {
     "name": "stdout",
     "output_type": "stream",
     "text": [
      "0.0009834740623457015\n"
     ]
    }
   ],
   "source": [
    "cin = 1          # mol/m^3\n",
    "d   = 0.5        # tank diameter, m\n",
    "H   = 1          # tank height, m\n",
    "g   = 9.8        # m/s^2\n",
    "k   = 1e-2       # m^3/(mol-s)\n",
    "r   = 0.01       # outlet hole radius, m\n",
    "tend = 10*60     # end time (s)\n",
    "c0   = 0         # initial concentration, mol/m^3\n",
    "\n",
    "Ac = np.pi*(d/2)**2              # tank cross-sectional area, m^2\n",
    "Vin = np.pi*r**2 * np.sqrt(g*H)  # inlet flow rate, m^3/s\n",
    "print(Vin)"
   ]
  },
  {
   "cell_type": "code",
   "execution_count": 3,
   "metadata": {},
   "outputs": [],
   "source": [
    "# create a function to work with the time integrator.\n",
    "# The time integrator requires that the rhs\n",
    "# function take two arguments: the vector of dependent variables\n",
    "# (concentration and height) and the independent variable (time)\n",
    "def rhs(vars,t):\n",
    "    cA = vars[0]\n",
    "    h = vars[1]\n",
    "    Vout = np.pi * r**2 * np.sqrt(2*g*h)\n",
    "    # rhs[0] is for the concentration equation\n",
    "    # rhs[1] is the RHS for the volume equation\n",
    "    rhs = [ (cin-cA)*Vin/(h*Ac) - k*cA**2,\n",
    "            ( Vin - Vout )/Ac ]\n",
    "    return rhs"
   ]
  },
  {
   "cell_type": "code",
   "execution_count": 4,
   "metadata": {},
   "outputs": [],
   "source": [
    "from scipy.integrate import odeint\n",
    "nt = 400\n",
    "t = np.linspace(0,tend,nt)\n",
    "\n",
    "soln1 = odeint( rhs, [c0,0.05*H], t )\n",
    "soln2 = odeint( rhs, [c0,0.95*H], t )\n",
    "\n",
    "# unpack the solution into variables more convenient to work with.\n",
    "cA1 = soln1[:,0]\n",
    "h1  = soln1[:,1]\n",
    "cA2 = soln2[:,0]\n",
    "h2  = soln2[:,1]\n",
    "\n",
    "t = t/60  # convert time to minutes"
   ]
  },
  {
   "cell_type": "code",
   "execution_count": 5,
   "metadata": {
    "code_folding": []
   },
   "outputs": [],
   "source": [
    "from matplotlib import rcParams\n",
    "def plot_it(t,var1,var2,label):\n",
    "    rcParams.update({'font.size': 14})\n",
    "    plt.plot(t,var1)\n",
    "    plt.plot(t,var2)\n",
    "    plt.xlabel('t (min)')\n",
    "    plt.ylabel(label)\n",
    "    plt.grid()\n",
    "    plt.legend( ('$h_0=0.05H$','$h_0=0.99H$') )\n",
    "    plt.show()"
   ]
  },
  {
   "cell_type": "markdown",
   "metadata": {},
   "source": [
    "The figures below shows the profiles of $h(t)$, $c_{A}(t)$ and $N_{A}(t)$ for initial liquid levels of $0.1H$ and $0.9H$."
   ]
  },
  {
   "cell_type": "code",
   "execution_count": 6,
   "metadata": {},
   "outputs": [
    {
     "data": {
      "image/png": "[encoded data removed]",
      "text/plain": [
       "<Figure size 432x288 with 1 Axes>"
      ]
     },
     "metadata": {
      "needs_background": "light"
     },
     "output_type": "display_data"
    },
    {
     "data": {
      "image/png": "[encoded data removed]",
      "text/plain": [
       "<Figure size 432x288 with 1 Axes>"
      ]
     },
     "metadata": {
      "needs_background": "light"
     },
     "output_type": "display_data"
    },
    {
     "data": {
      "image/png": "[encoded data removed]",
      "text/plain": [
       "<Figure size 432x288 with 1 Axes>"
      ]
     },
     "metadata": {
      "needs_background": "light"
     },
     "output_type": "display_data"
    }
   ],
   "source": [
    "plot_it(t,h1,h2,'h (m)')\n",
    "plot_it(t,cA1,cA2,'$c_A$ (mol/m$^3$)')\n",
    "plot_it(t,cA1*Ac*h1,cA2*Ac*h2,'Moles A')"
   ]
  },
  {
   "cell_type": "markdown",
   "metadata": {},
   "source": [
    "# Part 3\n",
    "\n",
    "Steady state implies $\\d{c_{i}}{t}=0$ and $\\d{h}{t}=0$. \n",
    "From part 2, we know that at steady state the tank is 50% full. \n",
    "Since the tank is cylindrical, this translates directly to a relationship between $h$ and $H$:\n",
    "$$\n",
    "    h=\\frac{H}{2}.\n",
    "$$\n",
    "From \\eqref{eq:dci-dt}, \n",
    "\\begin{align*}\n",
    "    \\frac{\\dot{V}_{in}}{A_{c}h}\\left(c_{i}^{in}-c_{i}\\right)-kc_{i}^2 &= 0 \\\\\n",
    "    kc_i^2 + \\alpha c_i - \\alpha c_i^{in} &= 0\n",
    "\\end{align*}\n",
    "where $\\alpha\\equiv \\frac{\\dot{V}_{in}}{A_{c}h}$.\n",
    "Using the quadratic equation we find\n",
    "\\begin{equation}\n",
    "    c_i = \\frac{ - \\alpha \\pm \\sqrt{\\alpha^2 - 4 k \\alpha c_i^{in}}}{2k}\n",
    "\\end{equation}\n",
    "Substituting numbers,"
   ]
  },
  {
   "cell_type": "code",
   "execution_count": 7,
   "metadata": {},
   "outputs": [
    {
     "name": "stdout",
     "output_type": "stream",
     "text": [
      "\n",
      "\n",
      "Steady state concentration for h=0.50H, we find c=0.618 mol/m^3\n",
      "\n"
     ]
    }
   ],
   "source": [
    "# steady-state result\n",
    "h = 0.5*H\n",
    "α = Vin/(Ac*h)\n",
    "# css = Vin * cin / ( Ac*h*( k + Vin/(Ac*h) ) )\n",
    "css = ( -α + np.sqrt(α**2 + 4*α*k*cin) )/(2*k)\n",
    "print('\\n\\nSteady state concentration for h={:0.2f}H, we find c={:0.3f} mol/m^3\\n'.format(h,css))"
   ]
  }
 ],
 "metadata": {
  "hide_input": false,
  "kernelspec": {
   "display_name": "Python 3",
   "language": "python",
   "name": "python3"
  },
  "language_info": {
   "codemirror_mode": {
    "name": "ipython",
    "version": 3
   },
   "file_extension": ".py",
   "mimetype": "text/x-python",
   "name": "python",
   "nbconvert_exporter": "python",
   "pygments_lexer": "ipython3",
   "version": "3.7.6"
  },
  "latex_envs": {
   "LaTeX_envs_menu_present": true,
   "autoclose": false,
   "autocomplete": false,
   "bibliofile": "biblio.bib",
   "cite_by": "apalike",
   "current_citInitial": 1,
   "eqLabelWithNumbers": true,
   "eqNumInitial": 1,
   "hotkeys": {
    "equation": "Ctrl-E",
    "itemize": "Ctrl-I"
   },
   "labels_anchors": false,
   "latex_user_defs": false,
   "report_style_numbering": false,
   "user_envs_cfg": false
  },
  "toc": {
   "base_numbering": 1,
   "colors": {
    "hover_highlight": "#DAA520",
    "navigate_num": "#000000",
    "navigate_text": "#333333",
    "running_highlight": "#FF0000",
    "selected_highlight": "#FFD700",
    "sidebar_border": "#EEEEEE",
    "wrapper_background": "#FFFFFF"
   },
   "moveMenuLeft": true,
   "nav_menu": {},
   "navigate_menu": true,
   "number_sections": false,
   "sideBar": true,
   "skip_h1_title": false,
   "threshold": 4,
   "title_cell": "Table of Contents",
   "title_sidebar": "Contents",
   "toc_cell": false,
   "toc_position": {},
   "toc_section_display": true,
   "toc_window_display": false,
   "widenNotebook": false
  },
  "varInspector": {
   "cols": {
    "lenName": 16,
    "lenType": 16,
    "lenVar": 40
   },
   "kernels_config": {
    "python": {
     "delete_cmd_postfix": "",
     "delete_cmd_prefix": "del ",
     "library": "var_list.py",
     "varRefreshCmd": "print(var_dic_list())"
    },
    "r": {
     "delete_cmd_postfix": ") ",
     "delete_cmd_prefix": "rm(",
     "library": "var_list.r",
     "varRefreshCmd": "cat(var_dic_list()) "
    }
   },
   "types_to_exclude": [
    "module",
    "function",
    "builtin_function_or_method",
    "instance",
    "_Feature"
   ],
   "window_display": false
  }
 },
 "nbformat": 4,
 "nbformat_minor": 2
}
