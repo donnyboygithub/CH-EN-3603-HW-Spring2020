{
 "cells": [
  {
   "cell_type": "markdown",
   "metadata": {},
   "source": [
    "<div style=\"text-align: center\">\n",
    "<b><font size=6>ChEn 3603 Homework 9 Problem 4\n",
    "    </font></b>\n",
    "</div>\n",
    "\n",
    "<div class=\"alert alert-block alert-danger\">\n",
    "\n",
    "&copy; 2020 This material is copyright protected. Distributing this material in any form without written permission from Professor Sutherland is prohibited and may result in academic discipline."
   ]
  },
  {
   "cell_type": "code",
   "execution_count": 1,
   "metadata": {},
   "outputs": [],
   "source": [
    "import numpy as np\n",
    "from scipy.optimize import fsolve"
   ]
  },
  {
   "cell_type": "markdown",
   "metadata": {},
   "source": [
    "Solution to SHR 6.32 (fourth ed.)"
   ]
  },
  {
   "cell_type": "markdown",
   "metadata": {},
   "source": [
    "------\n",
    "# Part 1\n",
    "\n",
    "What percent (on a mole basis) of the SO$_{2}$ in the entering gases is absorbed in the tower?\n"
   ]
  },
  {
   "cell_type": "markdown",
   "metadata": {},
   "source": [
    "We know $L^{\\prime} = 1000 \\, \\mathrm{\\frac{lb}{h}} = 55.6 \\, \\mathrm{\\frac{lbmol}{hr}}$ and $X_{0} = 0.$ \n",
    "We also know that we have 0.006 lb SO$_{2}$ per lb water in the liquid exiting. \n",
    "We can convert this to a mole ratio as \n",
    "$$\n",
    "    X_{N} = \\frac{ 0.6 \\, \\mathrm{lb \\,SO_{2}} \\cdot \\frac{1 \\, \\mathrm{lbmol\\,SO_{2}}}{64 \\,\\mathrm{lb\\,SO_{2}} } }{ 100 \\,\\mathrm{lb} \\cdot \\mathrm{\\frac{1 lbmol}{18 lb}} }\n",
    "$$"
   ]
  },
  {
   "cell_type": "code",
   "execution_count": 2,
   "metadata": {},
   "outputs": [],
   "source": [
    "Lprime_mass  = 1000  # lb water / hr\n",
    "Lprime = Lprime_mass / 18   # lbmol/hr\n",
    "\n",
    "X0 = 0   # exit mole ratio of SO2\n",
    "\n",
    "P = 1  # nominal system pressure, atm\n",
    "\n",
    "XN = 0.6/100 * (1/64) / (1/18)"
   ]
  },
  {
   "cell_type": "markdown",
   "metadata": {},
   "source": [
    "We also know $p_{\\mathrm{SO}_2} = y_{\\mathrm{SO}_{2}} P = 23 \\,\\mathrm{torr}$ in the exit vapor stream, which can be rearranged to find \n",
    "$$\n",
    "    Y_{1} = \\frac{y_{\\mathrm{SO}_{2}} }{ 1 -y_{\\mathrm{SO}_{2}} } \n",
    "          = \\frac{\\frac{p_{\\mathrm{SO}_{2}}}{P} }{ 1 - \\frac{ p_{\\mathrm{SO}_{2}}}{P}}\n",
    "$$"
   ]
  },
  {
   "cell_type": "code",
   "execution_count": 3,
   "metadata": {},
   "outputs": [
    {
     "name": "stdout",
     "output_type": "stream",
     "text": [
      "Y1 = 0.0312\n"
     ]
    }
   ],
   "source": [
    "p1 = 23/760  # partial pressure of SO2 in exit (atm)\n",
    "y1 = p1/P\n",
    "Y1 = y1/(1-y1)\n",
    "print('Y1 = {:.4f}'.format(Y1))"
   ]
  },
  {
   "cell_type": "markdown",
   "metadata": {},
   "source": [
    "Finally, we know that the mole ratio of water to air: $\\frac{L^{\\prime}}{V^{\\prime}} = 25$."
   ]
  },
  {
   "cell_type": "code",
   "execution_count": 4,
   "metadata": {},
   "outputs": [],
   "source": [
    "LpVp = 25.0"
   ]
  },
  {
   "cell_type": "markdown",
   "metadata": {},
   "source": [
    "The mole balance over the tower is \n",
    "$$\n",
    "    X_{0} L^{\\prime} + Y_{N+1} V^{\\prime} = X_{N} L^{\\prime} + Y_{1} V^{\\prime}\n",
    "$$\n",
    "which can be solved for $Y_{N+1}$ to find \n",
    "$$\n",
    "    Y_{N+1} = X_{N}\\frac{L^{\\prime}}{V^{\\prime}} + Y_{1}\n",
    "$$"
   ]
  },
  {
   "cell_type": "code",
   "execution_count": 5,
   "metadata": {},
   "outputs": [
    {
     "name": "stdout",
     "output_type": "stream",
     "text": [
      "YNp1 = 0.0734\n"
     ]
    }
   ],
   "source": [
    "YNp1 = XN * LpVp + Y1\n",
    "print('YNp1 = {:.4f}'.format(YNp1))"
   ]
  },
  {
   "cell_type": "markdown",
   "metadata": {},
   "source": [
    "The percent of the SO$_{2}$ from the entering gas that is absorbed is \n",
    "$$\n",
    "    100 \\times \\frac{\\left( X_{N} - X_{0} \\right) L^{\\prime}}{Y_{N+1} V^{\\prime}} \n",
    "$$"
   ]
  },
  {
   "cell_type": "code",
   "execution_count": 6,
   "metadata": {},
   "outputs": [
    {
     "name": "stdout",
     "output_type": "stream",
     "text": [
      "Percent of SO2 absorbed is: 57%\n"
     ]
    }
   ],
   "source": [
    "print('Percent of SO2 absorbed is: {:.0f}%'.format( 100 * (XN-X0)/YNp1 * LpVp) )"
   ]
  },
  {
   "cell_type": "markdown",
   "metadata": {},
   "source": [
    "Note that because the SO$_{2}$ is so dilute, $x\\approx X$, $y\\approx Y$, $L\\approx L^{\\prime}$ and $V\\approx V^{\\prime}$. \n",
    "So it is fine to work this problem in either set of variables."
   ]
  },
  {
   "cell_type": "markdown",
   "metadata": {},
   "source": [
    "------\n",
    "\n",
    "# Part 2\n",
    "During operation, it was found that rate coefficients $k_{p}$ and $k_{p}$ remained substantially constant throughout the tower at \n",
    "\\begin{align}\n",
    "    k_{L} &= 1.3 \\,\\mathrm{\\frac{ft}{hr}}, \\\\\n",
    "    k_{p} &= 0.195\\,\\mathrm{\\frac{lbmol}{h \\cdot ft^{2} \\cdot atm}}\n",
    "\\end{align}\n",
    "At a point in the tower where the liquid concentration is 0.001 lbmol SO$_{2}$ per lbmol of water, what is the liquid concentration at the gas−liquid interface (in $\\mathrm{\\frac{lbmol}{ft^3}}$) and SO$_{2}$ vapor partial pressure at the interface (in atm)? \n",
    "The solution density is 1 $\\mathrm{\\frac{g}{cm^{3}}}$."
   ]
  },
  {
   "cell_type": "markdown",
   "metadata": {},
   "source": [
    "\n",
    "We know $X \\approx x = 0.001$ and we want to find the interface SO$_{2}$ concentration, $c_{I}$.\n",
    "We also know $\\rho=1\\,\\mathrm{\\frac{g}{cm^{3}}}$. \n",
    "\n",
    "The interface concentration is only obtained through two-film theory. \n",
    "From two-film theory, we know that \n",
    "\\begin{equation}\n",
    "    \\label{eq:cI}\n",
    "    J = k_{p} \\left( p_{b} - p_{I} \\right) = k_{L} \\left( c_{I} - c_{b} \\right)\n",
    "\\end{equation}\n",
    "Solving for $c_{I}$ we find \n",
    "$$\n",
    "    c_{I} = c_{b}+\\frac{k_{p}}{k_{L}} \\left( p_{b} - p_{I} \\right)\n",
    "$$\n",
    "Thus far, we only know $k_{p}$ and $k_{L}$ in \\eqref{eq:cI}; we still must find the other terms."
   ]
  },
  {
   "cell_type": "markdown",
   "metadata": {},
   "source": [
    "The liquid concentration is\n",
    "\\begin{equation}\n",
    "    c = \\frac{\\rho}{M} = \\frac{ 1 \\, \\mathrm{\\frac{g}{cm^3}} }{ 18 \\, \\mathrm{\\frac{g}{mol}} }\n",
    "\\end{equation}"
   ]
  },
  {
   "cell_type": "code",
   "execution_count": 7,
   "metadata": {},
   "outputs": [
    {
     "name": "stdout",
     "output_type": "stream",
     "text": [
      "Liquid molar concentration is 0.0556 mol/cm^3\n"
     ]
    }
   ],
   "source": [
    "c = 1/18     # liquid concentration, mol/cm^3\n",
    "print('Liquid molar concentration is {:.4f} mol/cm^3'.format(c))"
   ]
  },
  {
   "cell_type": "markdown",
   "metadata": {},
   "source": [
    "Therefore, the bulk SO$_{2}$ concentration is \n",
    "\\begin{equation}\n",
    "    c_{b} = x_{b} c \n",
    "\\end{equation}"
   ]
  },
  {
   "cell_type": "code",
   "execution_count": 8,
   "metadata": {},
   "outputs": [
    {
     "name": "stdout",
     "output_type": "stream",
     "text": [
      "Bulk SO2 concentration is 5.556e-05 mol/cm^3\n"
     ]
    }
   ],
   "source": [
    "xb = 0.001\n",
    "cb = xb * c\n",
    "print('Bulk SO2 concentration is {:.3e} mol/cm^3'.format(cb) )"
   ]
  },
  {
   "cell_type": "markdown",
   "metadata": {},
   "source": [
    "Next, consider $p_{b}$ - the partial pressure of SO$_{2}$ in the bulk. \n",
    "This can be found by a mole balance. \n",
    "Working in terms of mole fractions and making the dilute assumption (see part 1 above), we have"
   ]
  },
  {
   "cell_type": "markdown",
   "metadata": {},
   "source": [
    "\\begin{align}\n",
    "    x_{\\mathrm{in}} L + y V &= x L + y_{\\mathrm{out}} V \\\\\n",
    "        y &= y_{\\mathrm{out}} + \\left( x - x_{\\mathrm{in}} \\right) \\frac{L}{V} \\\\\n",
    "    p_{b} &= y P = p_{\\mathrm{out}} + P \\left( x - x_{\\mathrm{in}} \\right) \\frac{L}{V}\n",
    "\\end{align}"
   ]
  },
  {
   "cell_type": "code",
   "execution_count": 9,
   "metadata": {},
   "outputs": [
    {
     "name": "stdout",
     "output_type": "stream",
     "text": [
      "Bulk SO2 partial pressure: 0.0553 atm\n"
     ]
    }
   ],
   "source": [
    "xin = 0\n",
    "pb = p1 + P * ( xb - xin ) * LpVp\n",
    "print('Bulk SO2 partial pressure: {:.4f} atm'.format(pb))"
   ]
  },
  {
   "cell_type": "markdown",
   "metadata": {},
   "source": [
    "We now have everything we need in \\eqref{eq:cI} except $p_{I}$ - the partial pressure of SO$_{2}$ at the interface. \n",
    "However, we have a relationship between $p_{I}$ and $c_{I}$ through equilibrium (and the data provides this specifically relating $X$ to $p_{\\mathrm{SO}_{2}}$). Therefore, we do the following: \n",
    " 1. guess $c_{I}$\n",
    " 1. calculate $p_{I}$ by interpolating the data see if \\eqref{eq:cI} is satisfied. If not, go back to step 1. \n",
    "\n",
    "Performing this procedure gives the interface conditions reported below."
   ]
  },
  {
   "cell_type": "code",
   "execution_count": 12,
   "metadata": {},
   "outputs": [],
   "source": [
    "# the equilibrium data from the problem:\n",
    "eqdata = np.array([\n",
    "    [ 0.02, 0.5  ],\n",
    "    [ 0.05, 1.2  ],\n",
    "    [ 0.10, 3.2  ],\n",
    "    [ 0.15, 5.8  ],\n",
    "    [ 0.20, 8.5  ],\n",
    "    [ 0.30, 14.1 ],\n",
    "    [ 0.50, 26.0 ],\n",
    "    [ 0.70, 39.0 ],\n",
    "    [ 1.0,  59   ]\n",
    "  ])\n",
    "\n",
    "Xeq = eqdata[:,0] / 64 / 100 * 18  # mole ratio, (convert lb to lbmole)\n",
    "\n",
    "c_lb = c * 28316.8 / 453.59237  # convert to lbmol/ft^3\n",
    "\n",
    "xeq = Xeq / ( 1 + Xeq )  # mole fraction of SO2 at equilibrium:\n",
    "ceq = xeq * c_lb         # concentration of SO2 at equilibrium:\n",
    "\n",
    "peq = eqdata[:,1] / 760  # partial pressure of SO2 at equilibrium (atm)"
   ]
  },
  {
   "cell_type": "code",
   "execution_count": 13,
   "metadata": {},
   "outputs": [
    {
     "name": "stdout",
     "output_type": "stream",
     "text": [
      "The interface concentration of SO2 is 5.63e-03 lbmol/ft^3\n",
      "The interface partial pressure of SO2 is 4.09e-02 atm\n",
      "\n"
     ]
    }
   ],
   "source": [
    "cb_lb = cb * 28316.8 / 453.59237 # convert to lbmol/ft^3\n",
    "\n",
    "kL = 1.3     # liquid mass transfer coefficient (ft/h)\n",
    "kp = 0.195   # gas mass transfer coefficient (lbmol/h-ft^2)\n",
    "\n",
    "res = lambda ci:  ci - cb_lb - kp/kL * ( pb - np.interp(ci,ceq,peq) )\n",
    "\n",
    "ci = fsolve( res, cb_lb )\n",
    "\n",
    "print('The interface concentration of SO2 is {:.2e} lbmol/ft^3'.format(ci[0]))\n",
    "print('The interface partial pressure of SO2 is {:.2e} atm\\n'.format(np.interp(ci[0],ceq,peq)))"
   ]
  }
 ],
 "metadata": {
  "hide_input": false,
  "kernelspec": {
   "display_name": "Python 3",
   "language": "python",
   "name": "python3"
  },
  "language_info": {
   "codemirror_mode": {
    "name": "ipython",
    "version": 3
   },
   "file_extension": ".py",
   "mimetype": "text/x-python",
   "name": "python",
   "nbconvert_exporter": "python",
   "pygments_lexer": "ipython3",
   "version": "3.7.6"
  },
  "latex_envs": {
   "LaTeX_envs_menu_present": true,
   "autocomplete": false,
   "bibliofile": "biblio.bib",
   "cite_by": "apalike",
   "current_citInitial": 1,
   "eqLabelWithNumbers": true,
   "eqNumInitial": 1,
   "hotkeys": {
    "equation": "Ctrl-E",
    "itemize": "Ctrl-I"
   },
   "labels_anchors": false,
   "latex_user_defs": false,
   "report_style_numbering": false,
   "user_envs_cfg": false
  },
  "toc": {
   "colors": {
    "hover_highlight": "#DAA520",
    "navigate_num": "#000000",
    "navigate_text": "#333333",
    "running_highlight": "#FF0000",
    "selected_highlight": "#FFD700",
    "sidebar_border": "#EEEEEE",
    "wrapper_background": "#FFFFFF"
   },
   "moveMenuLeft": true,
   "nav_menu": {
    "height": "48px",
    "width": "252px"
   },
   "navigate_menu": true,
   "number_sections": false,
   "sideBar": true,
   "threshold": 4,
   "toc_cell": false,
   "toc_section_display": "block",
   "toc_window_display": false,
   "widenNotebook": false
  },
  "varInspector": {
   "cols": {
    "lenName": 16,
    "lenType": 16,
    "lenVar": 40
   },
   "kernels_config": {
    "python": {
     "delete_cmd_postfix": "",
     "delete_cmd_prefix": "del ",
     "library": "var_list.py",
     "varRefreshCmd": "print(var_dic_list())"
    },
    "r": {
     "delete_cmd_postfix": ") ",
     "delete_cmd_prefix": "rm(",
     "library": "var_list.r",
     "varRefreshCmd": "cat(var_dic_list()) "
    }
   },
   "types_to_exclude": [
    "module",
    "function",
    "builtin_function_or_method",
    "instance",
    "_Feature"
   ],
   "window_display": false
  }
 },
 "nbformat": 4,
 "nbformat_minor": 2
}
