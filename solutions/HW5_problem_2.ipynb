{
 "cells": [
  {
   "cell_type": "markdown",
   "metadata": {},
   "source": [
    "$\\def\\del#1#2{\\frac{\\partial#1}{\\partial#2}}$\n",
    "$\\def\\d#1#2{\\frac{\\mathrm{d}#1}{\\mathrm{d}#2}}$\n",
    "$\\def\\VolInt#1{\\int_{\\mathsf{V}}#1\\,\\mathrm{d}\\mathsf{V}}$\n",
    "$\\def\\SurfInt#1{\\int_{\\mathsf{S}}#1\\cdot\\mathbf{a}\\,\\mathrm{d}\\mathsf{S}}$\n",
    "\n",
    "<div style=\"text-align: center\">\n",
    "<b><font size=6>ChEn 6703 Homework 5 Problem 2\n",
    "    </font></b>\n",
    "</div>\n",
    "\n",
    "<div class=\"alert alert-block alert-danger\">\n",
    "\n",
    "&copy; 2020 This material is copyright protected. Distributing this material in any form without written permission from Professor Sutherland is prohibited and may result in academic discipline."
   ]
  },
  {
   "cell_type": "markdown",
   "metadata": {},
   "source": [
    "We have CO$_{2}$ (A) and water (B) in the liquid phase. \n",
    "We know $P_{A_{i}}=150$ psia, $x_{A_{b}}=0$, $N_{A}=0.017\\,\\mathrm{\\frac{lbmol}{ft^{2}\\cdot h}} = 2.3\\times10^{-6}\\,\\mathrm{\\frac{mol}{cm^{2}\\cdot s}}$, $D_{AB}=2.0\\times10^{-5}\\,\\mathrm{\\frac{cm^{2}}{s}}$, $p=Hx$ with $H=9,000$ psia. "
   ]
  },
  {
   "cell_type": "markdown",
   "metadata": {},
   "source": [
    "# Part 1 - Calculate $k_{c}$ and $\\delta$ for the liquid-phase.\n",
    "\n",
    "We know that $$N_{A} = k_{c} \\left( c_{A_{i}} - c_{A_{b}} \\right) = k_{c} c \\left( x_{A_{i}} - x_{A_{b}} \\right).$$ \n",
    "The molar concentration of water is \n",
    "$$\n",
    "    c_{B} = \\frac{\\rho_{B}}{M_{B}}\n",
    "$$"
   ]
  },
  {
   "cell_type": "code",
   "execution_count": 1,
   "metadata": {},
   "outputs": [],
   "source": [
    "import numpy as np\n",
    "\n",
    "rho = 1  # water density, g/cm^3\n",
    "M   = 18 # water molecular weight, g/mol\n",
    "c   = rho/M  # molar concentration (mol/cm^3)"
   ]
  },
  {
   "cell_type": "markdown",
   "metadata": {},
   "source": [
    "# Part (a) - $k_c$ and $\\delta$\n",
    "\n",
    "We will assume that the CO$_{2}$ does not affect the molar concentration since it is present in such small amounts (e.g., $c_{B} = c$). \n",
    "Therefore, \n",
    "\\begin{equation}\n",
    "    k_{c} = \\frac{N_{A}}{c \\left(x_{A_{i}} - x_{A_{b}} \\right)}\n",
    "\\end{equation}\n",
    "and \n",
    "\\begin{equation}\n",
    "    \\delta = \\frac{D_{AB}}{k_{c}}\n",
    "\\end{equation}"
   ]
  },
  {
   "cell_type": "code",
   "execution_count": 2,
   "metadata": {},
   "outputs": [
    {
     "name": "stdout",
     "output_type": "stream",
     "text": [
      "\n",
      "\n",
      "\n",
      "Mass trans. coeff: 2.49e-03 cm/s\n",
      "Film thickness   : 8.03e-03 cm\n",
      "\n",
      "\n"
     ]
    }
   ],
   "source": [
    "Na = 0.017  # lbmol/ft^2/hr\n",
    "\n",
    "# convert flux to CGS\n",
    "Na = Na * 453.59237 / 30.48**2 / 3600  # mol/cm^2/s\n",
    "\n",
    "Dab = 2e-5  # diffusivity, cm^2/s\n",
    "Pai = 150   # interface partial pressure, psia\n",
    "H   = 9000  # henry's law constant, psia\n",
    "\n",
    "xai = Pai/H\n",
    "xab = 0\n",
    "\n",
    "kc = Na / (c * (xai - xab) )\n",
    "delta = Dab/kc\n",
    "\n",
    "print('\\n\\n')\n",
    "print('Mass trans. coeff: {:.2e} cm/s'.format(kc))\n",
    "print('Film thickness   : {:.2e} cm\\n\\n'.format(delta))"
   ]
  },
  {
   "cell_type": "markdown",
   "metadata": {},
   "source": [
    "# Part (b) - $t_c$ for penetration theory\n",
    "\n",
    "For penetration theory, \n",
    "$$\n",
    "    k_{c} = 2 \\sqrt{\\frac{D_{AB}}{\\pi t_{c}}}\n",
    "$$\n",
    "which can be rearranged to find\n",
    "$$\n",
    "    t_{c} = \\frac{4D_{AB}}{\\pi k_{c}^{2}}\n",
    "$$"
   ]
  },
  {
   "cell_type": "code",
   "execution_count": 3,
   "metadata": {},
   "outputs": [
    {
     "name": "stdout",
     "output_type": "stream",
     "text": [
      "\n",
      "\n",
      "The contact time is = 4.11 s\n",
      "\n",
      "\n"
     ]
    }
   ],
   "source": [
    "tc = 4*Dab / (np.pi * kc**2);\n",
    "print('\\n\\nThe contact time is = {:.2f} s\\n\\n'.format(tc))"
   ]
  },
  {
   "cell_type": "markdown",
   "metadata": {},
   "source": [
    "# Part (c) - Calculate the surface renewal rate.\n",
    "We know that\n",
    "$$\n",
    "k_{c} = \\sqrt{ D_{AB} s}\n",
    "$$\n",
    "which we can rearrange to find\n",
    "$$\n",
    "    s = \\frac{k_{c}^{2}}{D_{AB}}\n",
    "$$"
   ]
  },
  {
   "cell_type": "code",
   "execution_count": 4,
   "metadata": {},
   "outputs": [
    {
     "name": "stdout",
     "output_type": "stream",
     "text": [
      "\n",
      "\n",
      "Surface renewal rate: 0.31 hz\n",
      "\n",
      "\n"
     ]
    }
   ],
   "source": [
    "s = kc**2/Dab\n",
    "print('\\n\\nSurface renewal rate: {:.2f} hz\\n\\n'.format(s))"
   ]
  }
 ],
 "metadata": {
  "hide_input": false,
  "kernelspec": {
   "display_name": "Python 3",
   "language": "python",
   "name": "python3"
  },
  "language_info": {
   "codemirror_mode": {
    "name": "ipython",
    "version": 3
   },
   "file_extension": ".py",
   "mimetype": "text/x-python",
   "name": "python",
   "nbconvert_exporter": "python",
   "pygments_lexer": "ipython3",
   "version": "3.7.6"
  },
  "latex_envs": {
   "LaTeX_envs_menu_present": true,
   "autocomplete": false,
   "bibliofile": "biblio.bib",
   "cite_by": "apalike",
   "current_citInitial": 1,
   "eqLabelWithNumbers": true,
   "eqNumInitial": 1,
   "hotkeys": {
    "equation": "Ctrl-E",
    "itemize": "Ctrl-I"
   },
   "labels_anchors": false,
   "latex_user_defs": false,
   "report_style_numbering": false,
   "user_envs_cfg": false
  },
  "toc": {
   "colors": {
    "hover_highlight": "#DAA520",
    "navigate_num": "#000000",
    "navigate_text": "#333333",
    "running_highlight": "#FF0000",
    "selected_highlight": "#FFD700",
    "sidebar_border": "#EEEEEE",
    "wrapper_background": "#FFFFFF"
   },
   "moveMenuLeft": true,
   "nav_menu": {
    "height": "90.4688px",
    "width": "252px"
   },
   "navigate_menu": true,
   "number_sections": true,
   "sideBar": true,
   "threshold": 4,
   "toc_cell": false,
   "toc_section_display": "block",
   "toc_window_display": false,
   "widenNotebook": false
  },
  "varInspector": {
   "cols": {
    "lenName": 16,
    "lenType": 16,
    "lenVar": 40
   },
   "kernels_config": {
    "python": {
     "delete_cmd_postfix": "",
     "delete_cmd_prefix": "del ",
     "library": "var_list.py",
     "varRefreshCmd": "print(var_dic_list())"
    },
    "r": {
     "delete_cmd_postfix": ") ",
     "delete_cmd_prefix": "rm(",
     "library": "var_list.r",
     "varRefreshCmd": "cat(var_dic_list()) "
    }
   },
   "types_to_exclude": [
    "module",
    "function",
    "builtin_function_or_method",
    "instance",
    "_Feature"
   ],
   "window_display": false
  }
 },
 "nbformat": 4,
 "nbformat_minor": 2
}
