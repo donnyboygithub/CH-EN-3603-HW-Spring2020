{
 "cells": [
  {
   "cell_type": "markdown",
   "metadata": {},
   "source": [
    "$\\def\\pder#1#2{\\frac{\\partial#1}{\\partial#2}}$\n",
    "\n",
    "<div style=\"text-align: center\">\n",
    "<b><font size=6>ChEn 6703 Homework 2 Problem 4\n",
    "    </font></b>\n",
    "</div>\n",
    "\n",
    "<div class=\"alert alert-block alert-danger\">\n",
    "\n",
    "&copy; 2020 This material is copyright protected. Distributing this material in any form without written permission from Professor Sutherland is prohibited and may result in academic discipline including dismissal from the chemical engineering program and potentially from the university."
   ]
  },
  {
   "cell_type": "markdown",
   "metadata": {},
   "source": [
    "Consider a tank of length $L$ with a parabolic cross-section such that the tank's width is related to its height as \n",
    "\\begin{equation}\n",
    "    h=aw^{2}+bw+c.\n",
    "    \\label{eq:tank-h-w-general}\n",
    "\\end{equation}\n",
    "The width of the tank at its top is $W$, and that the width of the tank at $\\frac{H}{4}$ is $\\frac{W}{2}$.\n",
    "The length of the tank varies linearly with its height. At h=0 (the bottom of the tank), $\\ell=0$ whereas at the top of the tank, $\\ell=L$.\n",
    "\n",
    "Find the volume of the tank.\n",
    "Express your answer in terms of $L$, $W$ and $H$."
   ]
  },
  {
   "cell_type": "markdown",
   "metadata": {},
   "source": [
    "![tank](parabolic_incline_tank.png)"
   ]
  },
  {
   "cell_type": "markdown",
   "metadata": {},
   "source": [
    "# Solution"
   ]
  },
  {
   "cell_type": "markdown",
   "metadata": {},
   "source": [
    "## Relationship between $w$ and $h$\n",
    "Let's first find the relationship between the height and width of the tank, $h(w)$. \n",
    "We know that at $h(w=0)=0$ which implies that $c=0$ in \\eqref{eq:tank-h-w-general}. \n",
    "We also know\n",
    "\\begin{align*}\n",
    "    h(W) &= H \\\\\n",
    "    h\\left(\\frac{W}{2}\\right) &= \\frac{H}{4}.\n",
    "\\end{align*}\n",
    "Therefore, from \\eqref{eq:tank-h-w-general} we now have two equations for two unknowns: \n",
    "\\begin{align}\n",
    "    H &= aW^{2}+bW \\label{eq:parabolic-tank-quad1} \\\\\n",
    "    \\frac{H}{4}\t&= a\\left(\\frac{W}{2}\\right)^{2}+b\\frac{W}{2}.  \\label{eq:parabolic-tank-quad2} \n",
    "\\end{align}\n",
    "Multiplying the second by 4 and substituting into the first, we find \n",
    "\\begin{align*}\n",
    "    aW^{2}+bW &= aW^{2}+2bW \\\\\n",
    "    b &= 0.\n",
    "\\end{align*}\n",
    "Substituting $b=0$ into \\eqref{eq:parabolic-tank-quad1} or \\eqref{eq:parabolic-tank-quad2}, we find $a=\\frac{H}{W^{2}}$.\n",
    "Therefore, \\eqref{eq:tank-h-w-general} becomes\n",
    "\\begin{equation}\n",
    "    h = \\frac{H}{W^{2}}w^{2}. \\label{eq:parabolic-tank-h-w-relationship}\n",
    "\\end{equation}\n",
    "Equation \\eqref{eq:parabolic-tank-h-w-relationship} provides a relationship between $w$ and $h$."
   ]
  },
  {
   "cell_type": "markdown",
   "metadata": {},
   "source": [
    "## Relationship between $\\ell$ and $h$\n",
    "Let's now look for a relationship between $\\ell$ and $h$.\n",
    "We know that at $h=H$, $\\ell=0$ and at $h=H$, $\\ell=L$.\n",
    "Therefore, we find:\n",
    "\\begin{equation}\n",
    "    \\ell = L \\frac{h}{H}. \\label{l vs h}\n",
    "\\end{equation}"
   ]
  },
  {
   "cell_type": "markdown",
   "metadata": {},
   "source": [
    "## A Differential Volume\n",
    "A differential volume of the tank can be written as \n",
    "$$\n",
    "    dV = \\ell w dh\n",
    "$$\n",
    "Substituting \\eqref{eq:parabolic-tank-h-w-relationship} and \\eqref{l vs h}, we find\n",
    "\\begin{equation}\n",
    "    dV = \\frac{L W}{H^\\frac{3}{2}} h^\\frac{3}{2} dh \\label{dV}\n",
    "\\end{equation}"
   ]
  },
  {
   "cell_type": "markdown",
   "metadata": {},
   "source": [
    "## Integrating to find the Volume\n",
    "Equation \\eqref{dV} can now be integrated.\n",
    "\\begin{align}\n",
    "    \\int dV &= \\frac{LW}{H^\\frac{3}{2}} \\int_{0}^{H} h^\\frac{3}{2} dh \\nonumber \\\\\n",
    "    V &= \\frac{LW}{H^\\frac{3}{2}} \\frac{2}{5} H^\\frac{5}{2} \\nonumber \\\\\n",
    "      &= \\boxed{\\frac{2}{5} L W H} \\label{tank volume}\n",
    "\\end{align}\n",
    "\n",
    "Equation \\eqref{tank volume} gives the total volume of the tank."
   ]
  }
 ],
 "metadata": {
  "hide_input": false,
  "kernelspec": {
   "display_name": "Python 3",
   "language": "python",
   "name": "python3"
  },
  "language_info": {
   "codemirror_mode": {
    "name": "ipython",
    "version": 3
   },
   "file_extension": ".py",
   "mimetype": "text/x-python",
   "name": "python",
   "nbconvert_exporter": "python",
   "pygments_lexer": "ipython3",
   "version": "3.6.7"
  },
  "latex_envs": {
   "LaTeX_envs_menu_present": true,
   "autoclose": false,
   "autocomplete": false,
   "bibliofile": "biblio.bib",
   "cite_by": "apalike",
   "current_citInitial": 1,
   "eqLabelWithNumbers": true,
   "eqNumInitial": 1,
   "hotkeys": {
    "equation": "Ctrl-E",
    "itemize": "Ctrl-I"
   },
   "labels_anchors": false,
   "latex_user_defs": false,
   "report_style_numbering": false,
   "user_envs_cfg": false
  },
  "toc": {
   "base_numbering": 1,
   "nav_menu": {
    "height": "102px",
    "width": "252px"
   },
   "number_sections": false,
   "sideBar": true,
   "skip_h1_title": false,
   "title_cell": "Table of Contents",
   "title_sidebar": "Contents",
   "toc_cell": false,
   "toc_position": {},
   "toc_section_display": "block",
   "toc_window_display": true
  },
  "varInspector": {
   "cols": {
    "lenName": 16,
    "lenType": 16,
    "lenVar": 40
   },
   "kernels_config": {
    "python": {
     "delete_cmd_postfix": "",
     "delete_cmd_prefix": "del ",
     "library": "var_list.py",
     "varRefreshCmd": "print(var_dic_list())"
    },
    "r": {
     "delete_cmd_postfix": ") ",
     "delete_cmd_prefix": "rm(",
     "library": "var_list.r",
     "varRefreshCmd": "cat(var_dic_list()) "
    }
   },
   "types_to_exclude": [
    "module",
    "function",
    "builtin_function_or_method",
    "instance",
    "_Feature"
   ],
   "window_display": false
  }
 },
 "nbformat": 4,
 "nbformat_minor": 4
}
