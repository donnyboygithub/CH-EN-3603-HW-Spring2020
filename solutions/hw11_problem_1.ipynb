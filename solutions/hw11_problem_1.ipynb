{
 "cells": [
  {
   "cell_type": "markdown",
   "metadata": {},
   "source": [
    "<div style=\"text-align: center\">\n",
    "<b><font size=6>ChEn 3603 Homework 11 Problem 1\n",
    "    </font></b>\n",
    "</div>\n",
    "\n",
    "<div class=\"alert alert-block alert-danger\">\n",
    "\n",
    "&copy; 2020 This material is copyright protected. Distributing this material in any form without written permission from Professor Sutherland is prohibited and may result in academic discipline."
   ]
  },
  {
   "cell_type": "code",
   "execution_count": 1,
   "metadata": {},
   "outputs": [],
   "source": [
    "import pandas as pd\n",
    "import matplotlib.pyplot as plt\n",
    "import numpy as np\n",
    "from scipy.optimize import fsolve"
   ]
  },
  {
   "cell_type": "code",
   "execution_count": 2,
   "metadata": {},
   "outputs": [],
   "source": [
    "# Load the Txy data\n",
    "data = pd.read_csv('Txy.csv')\n",
    "Teq = data['T'].values\n",
    "xeq = data['x'].values\n",
    "yeq = data['y'].values"
   ]
  },
  {
   "cell_type": "code",
   "execution_count": 3,
   "metadata": {},
   "outputs": [],
   "source": [
    "x0 = 0.7   # initial charge composition\n",
    "W0 = 10    # initial charge (kmol)\n",
    "D = 10*1e-3*60   # boilup rate, (kmol/hr)"
   ]
  },
  {
   "cell_type": "markdown",
   "metadata": {},
   "source": [
    "# Part 1 - determine $\\bar{K}$ and $\\bar{\\alpha}$"
   ]
  },
  {
   "cell_type": "code",
   "execution_count": 4,
   "metadata": {},
   "outputs": [
    {
     "data": {
      "image/png": "[encoded data removed]",
      "text/plain": [
       "<Figure size 432x288 with 1 Axes>"
      ]
     },
     "metadata": {
      "needs_background": "light"
     },
     "output_type": "display_data"
    },
    {
     "name": "stdout",
     "output_type": "stream",
     "text": [
      "Kavg = 1.48\n",
      "alpha_avg = 2.41\n"
     ]
    }
   ],
   "source": [
    "# don't include the 0 and 1 values since those blow up the K-values.\n",
    "i = np.where( (xeq>0) & (xeq<1.0) )\n",
    "\n",
    "K1 = yeq[i]/xeq[i]\n",
    "\n",
    "K_avg = np.mean(K1)\n",
    "\n",
    "K2 = ( 1 - yeq[i] ) / ( 1 - xeq[i] )\n",
    "\n",
    "alpha = K1 / K2\n",
    "alpha_avg = np.mean(alpha)\n",
    "\n",
    "plt.plot(Teq[i],K1,'r-',label='K$_1$')\n",
    "# plt.plot(Teq[i],K2,label='K$_2$')\n",
    "plt.plot(Teq[i],alpha,'b-',label=r'$\\alpha$')\n",
    "plt.plot(Teq[i],alpha_avg*np.ones_like(alpha),'b--')\n",
    "plt.plot(Teq[i],K_avg*np.ones_like(K1),'r--')\n",
    "plt.xlabel('Temperature (K)')\n",
    "plt.ylabel(r'K and $\\alpha$')\n",
    "plt.legend()\n",
    "plt.grid()\n",
    "plt.show()\n",
    "\n",
    "print('Kavg = {:.2f}'.format(K_avg))\n",
    "print('alpha_avg = {:.2f}'.format(alpha_avg))"
   ]
  },
  {
   "cell_type": "markdown",
   "metadata": {},
   "source": [
    "----\n",
    "# Part 2\n",
    "\n",
    "We are asked to find several quantities. \n",
    "\n",
    " 1. The residue composition will be different for each of the solution approaches, so we'll cover that separately below.\n",
    " 1. The average vapor composition is:\n",
    "   \\begin{align}\n",
    "      y^\\mathrm{avg} &= \\frac{x_0W_0 - xW}{W_0 -W} \\\\\n",
    "          &= \\frac{x_0 - x\\frac{W}{W_0}}{1-\\frac{W}{W_0}}        \\label{eq:yavg}\n",
    "    \\end{align}\n",
    " 1. To determine the temperature of the still, we can interpolate the _Txy_ data given the composition of the residue.\n",
    " 1. Since $D$ is constant, the time required is $$t = \\frac{W_0 - W}{D}$$"
   ]
  },
  {
   "cell_type": "code",
   "execution_count": 11,
   "metadata": {},
   "outputs": [],
   "source": [
    "W_W0_end = 0.5  # fraction remaining in the still"
   ]
  },
  {
   "cell_type": "markdown",
   "metadata": {},
   "source": [
    "## Part 2a: constant $K$\n",
    "\n",
    "If $K$ is constant, then from the class notes we have\n",
    "\\begin{equation}\n",
    "    \\frac{1}{K-1} \\ln\\frac{x}{x_0} = \\ln\\frac{W}{W_0}\n",
    "\\end{equation}\n",
    "Solving for $x$, we find:\n",
    "\\begin{equation}\n",
    "    x = x_0 \\exp\\left[ (K-1) \\ln\\frac{W}{W_0} \\right]\n",
    "\\end{equation}"
   ]
  },
  {
   "cell_type": "code",
   "execution_count": 12,
   "metadata": {},
   "outputs": [
    {
     "name": "stdout",
     "output_type": "stream",
     "text": [
      "\n",
      "\n",
      "Light key mole fractions:\n",
      "\tResidue      : 0.501\n",
      "\tAverage vapor: 0.899\n",
      "\n",
      "Residue temperature: 366 K\n",
      "\n",
      "Time required: 8.33 hours\n",
      "\n",
      "\n"
     ]
    }
   ],
   "source": [
    "def y_avg( x0, x, W_W0 ):\n",
    "    return ( x0 - x*W_W0 ) / ( 1 - W_W0 )\n",
    "\n",
    "def print_results(x,y):\n",
    "    print('\\n\\nLight key mole fractions:')\n",
    "    print('\\tResidue      : {:.3f}'.format(x))\n",
    "    print('\\tAverage vapor: {:.3f}\\n'.format(y))\n",
    "    print('Residue temperature: {:.0f} K\\n'.format(np.interp(x,xeq,Teq)) )\n",
    "    print('Time required: {:.2f} hours\\n\\n'.format((W0 - W_W0_end*W0)/D) )\n",
    "    \n",
    "x_end = x0 * np.exp( (K_avg - 1.0)*np.log(W_W0_end) )\n",
    "\n",
    "print_results( x_end, y_avg(x0,x_end,W_W0_end) )"
   ]
  },
  {
   "cell_type": "markdown",
   "metadata": {},
   "source": [
    "# Part 2b: constant-$\\alpha$\n",
    "\n",
    "If relative volatility is constant, we know\n",
    "\\begin{equation}\n",
    "    \\ln \\left( \\frac{W_0}{W} \\right) = \\frac{1}{\\alpha-1} \\left[ \\ln\\frac{x_0}{x} + \\alpha\\ln\\frac{1-x}{1-x_0} \\right]\n",
    "\\end{equation}\n",
    "This equation isn't easily inverted to find $x$ so we will solve it numerically."
   ]
  },
  {
   "cell_type": "code",
   "execution_count": 6,
   "metadata": {},
   "outputs": [
    {
     "name": "stdout",
     "output_type": "stream",
     "text": [
      "\n",
      "\n",
      "Light key mole fractions:\n",
      "\tResidue      : 0.583\n",
      "\tAverage vapor: 0.817\n",
      "\n",
      "Residue temperature: 363 K\n",
      "\n",
      "Time required: 8.33 hours\n",
      "\n",
      "\n"
     ]
    }
   ],
   "source": [
    "res = lambda x: np.log(1/W_W0_end) - 1/(alpha_avg-1) * ( np.log(x0/x) + alpha_avg * np.log( (1-x)/(1-x0) ) )\n",
    "\n",
    "x_end = fsolve( res, x_end )\n",
    "x_end = x_end[0]\n",
    "\n",
    "print_results(x_end,y_avg(x0,x_end,W_W0_end))"
   ]
  },
  {
   "cell_type": "markdown",
   "metadata": {},
   "source": [
    "# Part 2c: _Txy_ data\n",
    "\n",
    "We know that \n",
    "$$\n",
    "    \\int_{x_{0}}^{x_{F}}\\frac{dx}{y-x}=\\ln\\frac{W}{W_{0}} \n",
    "$$\n",
    "and we can use the data given to obtain $y(x)$. \n",
    "Here, we know $\\frac{W}{W_{0}}$ but we don't know the final composition in the still (the lower limit on the integral). \n",
    "We can formulate this as a nonlinear equation:\n",
    "\\begin{equation}\n",
    "    r(x_{F}) = \\ln \\frac{W}{W_{0}} - \\int_{x_{0}}^{x_{F}} \\frac{dx}{y-x} \n",
    "\\end{equation}\n",
    "which we want to solve for $x$ such that $r(x_{F})=0$. We can use an initial guess of $0<x_{F}\\le x_{0}$ and use `scipy.fsolve` function to solve the problem."
   ]
  },
  {
   "cell_type": "code",
   "execution_count": 7,
   "metadata": {},
   "outputs": [],
   "source": [
    "# build functions to interpolate the equilibrium data\n",
    "eval_y = lambda x: np.interp(x,xeq,yeq)\n",
    "eval_T = lambda x: np.interp(x,xeq,Teq)\n",
    "\n",
    "# function to calculate the integrand\n",
    "integrand_fun = lambda x: 1 / ( eval_y(x) - x ) \n",
    "\n",
    "# function to populate x values on the interval [x0,lo]\n",
    "xvals  = lambda xlo: np.linspace(x0,xlo,10)\n",
    "\n",
    "# the residual function that we want to solve\n",
    "def resfun(xlovals):\n",
    "    scalar_input = False\n",
    "    \n",
    "    # make this function work for scalar or array inputs.\n",
    "    # For scalars, we detect that and then convert them to arrays\n",
    "    xlovals = np.asarray(xlovals)\n",
    "    if xlovals.ndim==0:\n",
    "        scalar_input = True\n",
    "        xlovals = xlovals[None] # make into a 1D array\n",
    "\n",
    "    results = np.zeros_like(xlovals)\n",
    "    for i in range(len(xlovals)):\n",
    "        x = xvals( xlovals[i] )\n",
    "        results[i] = np.log(W_W0_end) - np.trapz( integrand_fun(x), x )\n",
    "    \n",
    "    if scalar_input:\n",
    "        return np.squeeze(results)  # turn back into a scalar\n",
    "    return results"
   ]
  },
  {
   "cell_type": "code",
   "execution_count": 8,
   "metadata": {},
   "outputs": [
    {
     "name": "stdout",
     "output_type": "stream",
     "text": [
      "\n",
      "\n",
      "Light key mole fractions:\n",
      "\tResidue      : 0.581\n",
      "\tAverage vapor: 0.819\n",
      "\n",
      "Residue temperature: 363 K\n",
      "\n",
      "Time required: 8.33 hours\n",
      "\n",
      "\n"
     ]
    }
   ],
   "source": [
    "# we need to determine the lower bound on the integral such that we obtain the desired W/W0.\n",
    "result = fsolve( resfun, 0.1 )\n",
    "x_end = result[0]\n",
    "\n",
    "print_results(x_end,y_avg(x0,x_end,W_W0_end))"
   ]
  },
  {
   "cell_type": "markdown",
   "metadata": {},
   "source": [
    "----\n",
    "# Part 3\n",
    "Here we want to produce plots of $x(t)$ and $y^\\mathrm{avg}(t)$ for the constant $K$ and constant $\\alpha$ models for $\\frac{W}{W_0} = 0.05$."
   ]
  },
  {
   "cell_type": "code",
   "execution_count": 9,
   "metadata": {},
   "outputs": [],
   "source": [
    "def time_plotter(W_W0_end):\n",
    "\n",
    "    W_W0 = np.linspace(0.99,W_W0_end)  # leave out (W/W0=1) to avoid divide-by-zero\n",
    "\n",
    "    x_K = x0 * np.exp( (K_avg - 1.0)*np.log(W_W0) )\n",
    "\n",
    "    x_alpha = np.zeros_like(W_W0)\n",
    "\n",
    "    for i in range(0,len(W_W0)):\n",
    "        res = lambda x: np.log(1/W_W0[i]) - 1/(alpha_avg-1) * ( np.log(x0/x) + alpha_avg * np.log( (1-x)/(1-x0) ) )\n",
    "        x_alpha[i] = fsolve( res, x0 )\n",
    "\n",
    "    t = ( W0 - W_W0*W0 ) / D\n",
    "\n",
    "    plt.plot(t,x_K,    'r-',label='x - constant K')\n",
    "    plt.plot(t,x_alpha,'k-',label=r'x - constant $\\alpha$')\n",
    "    plt.plot(t,y_avg(x0,x_K,    W_W0),'r--',label=r'$y^{avg}$ - constant K')\n",
    "    plt.plot(t,y_avg(x0,x_alpha,W_W0),'k--',label=r'$y^{avg}$ - constant $\\alpha$')\n",
    "    plt.plot(t,W_W0,label=r'$\\frac{W}{W_0}$')\n",
    "    \n",
    "    plt.xlabel('t (hr)')\n",
    "    plt.legend()\n",
    "    plt.ylabel('Mole fractions')\n",
    "    plt.grid()\n",
    "    plt.show()"
   ]
  },
  {
   "cell_type": "code",
   "execution_count": 10,
   "metadata": {},
   "outputs": [
    {
     "data": {
      "image/png": "[encoded data removed]",
      "text/plain": [
       "<Figure size 432x288 with 1 Axes>"
      ]
     },
     "metadata": {
      "needs_background": "light"
     },
     "output_type": "display_data"
    }
   ],
   "source": [
    "time_plotter( 0.05 )"
   ]
  },
  {
   "cell_type": "markdown",
   "metadata": {},
   "source": [
    "A few observations:\n",
    "  * The differences in $y^\\mathbf{avg}$ become less pronounced over time.  This is expected since once we boil everything off, $y^\\mathbf{avg} = x_0$.\n",
    "  * The two models produce different shapes for the $x(t)$ curve.  Constant $K$ predicts lower $x$ than constant $\\alpha$ early on, but this then switches around 13 hours."
   ]
  }
 ],
 "metadata": {
  "hide_input": false,
  "kernelspec": {
   "display_name": "Python 3",
   "language": "python",
   "name": "python3"
  },
  "language_info": {
   "codemirror_mode": {
    "name": "ipython",
    "version": 3
   },
   "file_extension": ".py",
   "mimetype": "text/x-python",
   "name": "python",
   "nbconvert_exporter": "python",
   "pygments_lexer": "ipython3",
   "version": "3.7.6"
  },
  "latex_envs": {
   "LaTeX_envs_menu_present": true,
   "autocomplete": false,
   "bibliofile": "biblio.bib",
   "cite_by": "apalike",
   "current_citInitial": 1,
   "eqLabelWithNumbers": true,
   "eqNumInitial": 1,
   "hotkeys": {
    "equation": "Ctrl-E",
    "itemize": "Ctrl-I"
   },
   "labels_anchors": false,
   "latex_user_defs": false,
   "report_style_numbering": false,
   "user_envs_cfg": false
  },
  "toc": {
   "colors": {
    "hover_highlight": "#DAA520",
    "navigate_num": "#000000",
    "navigate_text": "#333333",
    "running_highlight": "#FF0000",
    "selected_highlight": "#FFD700",
    "sidebar_border": "#EEEEEE",
    "wrapper_background": "#FFFFFF"
   },
   "moveMenuLeft": true,
   "nav_menu": {
    "height": "158.109px",
    "width": "252px"
   },
   "navigate_menu": true,
   "number_sections": false,
   "sideBar": true,
   "threshold": 4,
   "toc_cell": false,
   "toc_section_display": "block",
   "toc_window_display": false,
   "widenNotebook": false
  },
  "varInspector": {
   "cols": {
    "lenName": 16,
    "lenType": 16,
    "lenVar": 40
   },
   "kernels_config": {
    "python": {
     "delete_cmd_postfix": "",
     "delete_cmd_prefix": "del ",
     "library": "var_list.py",
     "varRefreshCmd": "print(var_dic_list())"
    },
    "r": {
     "delete_cmd_postfix": ") ",
     "delete_cmd_prefix": "rm(",
     "library": "var_list.r",
     "varRefreshCmd": "cat(var_dic_list()) "
    }
   },
   "types_to_exclude": [
    "module",
    "function",
    "builtin_function_or_method",
    "instance",
    "_Feature"
   ],
   "window_display": false
  }
 },
 "nbformat": 4,
 "nbformat_minor": 2
}
