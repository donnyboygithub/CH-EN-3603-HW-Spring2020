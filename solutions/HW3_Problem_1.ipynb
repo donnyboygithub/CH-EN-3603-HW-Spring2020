{
 "cells": [
  {
   "cell_type": "markdown",
   "metadata": {},
   "source": [
    "$\\def\\d#1#2{\\frac{\\mathrm{d}#1}{\\mathrm{d}#2}}$"
   ]
  },
  {
   "cell_type": "markdown",
   "metadata": {},
   "source": [
    "<div style=\"text-align: center\">\n",
    "<b><font size=6>ChEn 6703 Homework 3 Problem 1\n",
    "    </font></b>\n",
    "</div>\n",
    "\n",
    "<div class=\"alert alert-block alert-danger\">\n",
    "\n",
    "&copy; 2020 This material is copyright protected. Distributing this material in any form without written permission from Professor Sutherland is prohibited and may result in academic discipline including dismissal from the chemical engineering program and potentially from the university."
   ]
  },
  {
   "cell_type": "markdown",
   "metadata": {},
   "source": [
    "Consider flow in a pipe as depicted below where the axial velocity profile varies radially as\n",
    "\\begin{equation}\n",
    "    v_{z} = \\frac{\\Delta pR^{2}}{4\\mu L}\\left[1-\\left(\\frac{r}{R}\\right)^{2}\\right]=v_{z}^{\\mathrm{max}}\\left[1-\\left(\\frac{r}{R}\\right)^{2}\\right].\n",
    "\\end{equation}\n",
    "![pipe flow](Pipe.png)\n",
    "Assuming that the molar concentration of species $A$ varies as \n",
    "\\begin{equation}\n",
    "    c_{A} = c_{A_{0}} \\frac{r}{R},\n",
    "\\end{equation}\n",
    "with $c_{A_{0}}$ 25% of the total concentration, $c$, answer the questions below.\n"
   ]
  },
  {
   "cell_type": "markdown",
   "metadata": {},
   "source": [
    "# Part 1\n",
    "\n",
    "Plot the mole fraction of species $A$ and the normalized molar flux of species $A$, $\\tilde{N}_A = \\frac{N_A}{c_{A_{0}} v_z^\\mathrm{max}}$ as a function of the normalized radial position, $\\tilde{r}=\\frac{r}{R}$. You also need to show how you obtain these quantities."
   ]
  },
  {
   "cell_type": "markdown",
   "metadata": {},
   "source": [
    "## Solution\n",
    "The mole fraction is given as \n",
    "\\begin{align}\n",
    "  x_{A} &= \\frac{c_{A}}{c}=\\frac{c_{A_{0}}}{c} \\frac{r}{R} \\nonumber \\\\\n",
    "  &= 0.25 \\tilde{r} \\\\\n",
    "\\end{align}\n",
    "\n",
    "The molar flux of species $A$ is \n",
    "\\begin{align}\n",
    "    N_{A} &= c_{A}v_{z} = c_{A_0} \\frac{r}{R} v_{z}^{\\mathrm{max}}\\left[1-\\left(\\frac{r}{R}\\right)^{2}\\right], \\label{molar flux} \\\\\n",
    "    \\tilde{N}_A = \\frac{N_{A}}{c_{A_{0}} v_z^\\mathrm{max}} &= \\frac{r}{R} \\left[1-\\left(\\frac{r}{R}\\right)^{2}\\right].\n",
    "\\end{align}\n",
    "In terms of the normalized radius, we find\n",
    "\\begin{equation}\n",
    "    \\tilde{N}_A = \\tilde{r} \\left(1-\\tilde{r}^{2}\\right).\n",
    "\\end{equation}\n",
    "\n",
    "The figures below show the mole fraction as a function of $\\tilde{r}$ as well as $\\tilde{N}_A$ as a function of $\\tilde{r}$."
   ]
  },
  {
   "cell_type": "code",
   "execution_count": 5,
   "metadata": {
    "hide_input": true
   },
   "outputs": [
    {
     "data": {
      "image/png": "[encoded data removed]",
      "text/plain": [
       "<Figure size 432x288 with 1 Axes>"
      ]
     },
     "metadata": {
      "needs_background": "light"
     },
     "output_type": "display_data"
    },
    {
     "data": {
      "image/png": "[encoded data removed]",
      "text/plain": [
       "<Figure size 432x288 with 1 Axes>"
      ]
     },
     "metadata": {
      "needs_background": "light"
     },
     "output_type": "display_data"
    }
   ],
   "source": [
    "%matplotlib inline\n",
    "\n",
    "import numpy as np\n",
    "import matplotlib.pyplot as plt\n",
    "\n",
    "rtilde = np.linspace(0,1)\n",
    "\n",
    "xa = 0.25*rtilde\n",
    "\n",
    "plt.plot(rtilde,xa)\n",
    "plt.xlabel(r'$\\tilde{r}$')\n",
    "plt.ylabel(r'$x_A$')\n",
    "plt.grid(True)\n",
    "plt.show()\n",
    "\n",
    "Na_norm = rtilde * (1-rtilde**2)\n",
    "plt.plot(rtilde,Na_norm)\n",
    "plt.xlabel(r'$\\tilde{r}$')\n",
    "plt.ylabel(r'$\\tilde{N}_A$')\n",
    "plt.grid(True)\n",
    "plt.show()\n"
   ]
  },
  {
   "cell_type": "markdown",
   "metadata": {},
   "source": [
    "# Part 2\n",
    "\n",
    "Derive the expression for the radial location of the _maximum_ molar flux of species $A$. Express your answer in terms of the normalized radius, $\\tilde{r}=\\frac{r}{R}$."
   ]
  },
  {
   "cell_type": "markdown",
   "metadata": {},
   "source": [
    "## Solution\n",
    "\n",
    "To determine the maximum location of $N_{A}$, we differentiate with respect to r and set to zero. Note that since $r=\\tilde{r}R$ then $dr=Rd\\tilde{r}$ so \n",
    "$\\d{N_{A}}r=\\d{N_{A}}{\\tilde{r}}\\d{\\tilde{r}}r=\\frac{1}{R}\\d{N_{A}}{\\tilde{r}}$\n",
    "or\n",
    "\\begin{align}\n",
    "    \\d{N_{A}}r &= \\frac{v_{Z}^{max}}{Rc_{A_{0}}}\\d{}{\\tilde{r}}\\left(\\tilde{r}-\\tilde{r}^{3}\\right) \\nonumber \\\\\n",
    "    &= \\frac{v_{Z}^{max}}{c_{A_{0}}}\\left(1-3\\tilde{r}^{2}\\right).\n",
    "\\end{align}    \n",
    "Setting to zero and solving for $\\tilde{r}$ we find\n",
    "\\begin{equation}\n",
    "    \\tilde{r} = \\sqrt{\\frac{1}{3}} = \\boxed{ \\frac{\\sqrt{3}}{3}}\n",
    "\\end{equation}"
   ]
  },
  {
   "cell_type": "markdown",
   "metadata": {},
   "source": [
    "# Part 3\n",
    "Determine the total molar flow rate of species $A$. Express your answer in terms of $v_{z}^{\\mathrm{max}}$, $c_{A_{0}}$ and $R$."
   ]
  },
  {
   "cell_type": "markdown",
   "metadata": {},
   "source": [
    "## Solution\n",
    "The molar flow rate is obtained by integrating the flux over the pipe cross-section:\n",
    "$$\n",
    "    \\int_\\mathsf{S} \\mathbf{N}_{A} \\cdot \\mathbf{a} d\\mathsf{S}.\n",
    "$$\n",
    "Since the molar flux is in the axial direction and is aligned with $\\mathrm{a}$, $\\mathbf{N}_A\\cdot\\mathrm{a} = N_A$.\n",
    "Substituting \\eqref{molar flux} for $N_A$ and noting that $d\\mathsf{S} = 2\\pi r dr$ we have\n",
    "\\begin{align}\n",
    "    \\int_{0}^{R}N_{A}2\\pi r\\,dr\t&=\t\\frac{ 2\\pi v_{z}^\\mathrm{max} c_{A_{0}}}{R} \\int_{0}^{R} r^2 \\left[1-\\left(\\frac{r}{R}\\right)^{2}\\right] dr \\nonumber \\\\\n",
    "\t&=\t\\frac{2\\pi v_{z}^{\\mathrm{max}}c_{A_{0}}}{R} \\left[\\frac{R^{3}}{3}-\\frac{R^{5}}{5R^2}\\right] \\nonumber \\\\\n",
    "\t&=\t\\boxed{\\frac{4\\pi v_{z}^{\\mathrm{max}}c_{A_{0}} R^2}{15}}.\n",
    "\\end{align}\n",
    "\n",
    "The volumetric flow rate is obtained by integrating the velocity over the pipe cross-section:\n",
    "\\begin{align}\n",
    "    \\dot{V} &= \\int_\\mathsf{S} \\mathbf{v}\\cdot\\mathbf{a} d\\mathsf{S} \\nonumber \\\\\n",
    "            &= 2\\pi v_z^\\mathrm{max} \\int_0^R r\\left[1-\\frac{r^2}{R^2}\\right] dR \\nonumber \\\\\n",
    "            &= 2\\pi v_z^\\mathrm{max} \\left[ \\frac{R^2}{2} - \\frac{R^4}{4R^2} \\right] \\nonumber \\\\\n",
    "            &= \\boxed{ \\frac{\\pi v_z^\\mathrm{max} R^2}{2} }\n",
    "\\end{align}"
   ]
  }
 ],
 "metadata": {
  "hide_input": false,
  "kernelspec": {
   "display_name": "Python 3",
   "language": "python",
   "name": "python3"
  },
  "language_info": {
   "codemirror_mode": {
    "name": "ipython",
    "version": 3
   },
   "file_extension": ".py",
   "mimetype": "text/x-python",
   "name": "python",
   "nbconvert_exporter": "python",
   "pygments_lexer": "ipython3",
   "version": "3.6.7"
  },
  "latex_envs": {
   "LaTeX_envs_menu_present": true,
   "autoclose": false,
   "autocomplete": false,
   "bibliofile": "biblio.bib",
   "cite_by": "apalike",
   "current_citInitial": 1,
   "eqLabelWithNumbers": true,
   "eqNumInitial": 1,
   "hotkeys": {
    "equation": "Ctrl-E",
    "itemize": "Ctrl-I"
   },
   "labels_anchors": false,
   "latex_user_defs": false,
   "report_style_numbering": false,
   "user_envs_cfg": false
  },
  "toc": {
   "base_numbering": 1,
   "nav_menu": {
    "height": "84px",
    "width": "252px"
   },
   "number_sections": false,
   "sideBar": true,
   "skip_h1_title": false,
   "title_cell": "Table of Contents",
   "title_sidebar": "Contents",
   "toc_cell": false,
   "toc_position": {},
   "toc_section_display": "block",
   "toc_window_display": false
  },
  "varInspector": {
   "cols": {
    "lenName": 16,
    "lenType": 16,
    "lenVar": 40
   },
   "kernels_config": {
    "python": {
     "delete_cmd_postfix": "",
     "delete_cmd_prefix": "del ",
     "library": "var_list.py",
     "varRefreshCmd": "print(var_dic_list())"
    },
    "r": {
     "delete_cmd_postfix": ") ",
     "delete_cmd_prefix": "rm(",
     "library": "var_list.r",
     "varRefreshCmd": "cat(var_dic_list()) "
    }
   },
   "types_to_exclude": [
    "module",
    "function",
    "builtin_function_or_method",
    "instance",
    "_Feature"
   ],
   "window_display": false
  }
 },
 "nbformat": 4,
 "nbformat_minor": 4
}
