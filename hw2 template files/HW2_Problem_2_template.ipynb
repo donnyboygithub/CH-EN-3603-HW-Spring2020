{
 "cells": [
  {
   "cell_type": "markdown",
   "metadata": {},
   "source": [
    "$\\def\\pder#1#2{\\frac{\\partial#1}{\\partial#2}}$\n",
    "\n",
    "<div style=\"text-align: center\">\n",
    "<b><font size=6>ChEn 6703 Homework 2 Problem 2\n",
    "    </font></b>\n",
    "</div>"
   ]
  },
  {
   "cell_type": "markdown",
   "metadata": {},
   "source": [
    "\n",
    "From heat transfer, you should recall that Fourier's law of conduction states \n",
    "\\begin{equation}\n",
    " \\mathbf{q} = -\\lambda \\nabla T\n",
    "\\end{equation}\n",
    "where $\\lambda$ is the thermal conductivity and $\\mathbf{q}$ is the heat flux (a vector).  \n",
    "Recall that $\\nabla$ is the gradient operator, which can be written in Cartesian coordinates as $\\nabla = \\pder{}{x} \\hat{i} + \\pder{}{y} \\hat{j} + \\pder{}{z} \\hat{k}$.\n",
    "\n",
    "In addition, for constant $\\lambda$,\n",
    "$$\n",
    "    \\pder{T}{t} = \\alpha \\nabla^2 T\n",
    "$$\n",
    "where $\\alpha = \\frac{\\lambda}{\\rho c_p}$ is the thermal diffusivity and $\\nabla^2$ is the Laplacian, which in Cartesian coordinates is $\\nabla^2 = \\pder{^2}{x^2} + \\pder{^2}{y^2} + \\pder{^2}{z^2}$.\n",
    "\n",
    "Recall that $\\nabla$ represents the _slope_ while $\\nabla^2$ represents _curvature_."
   ]
  },
  {
   "cell_type": "markdown",
   "metadata": {},
   "source": [
    "# Part 1"
   ]
  },
  {
   "cell_type": "markdown",
   "metadata": {},
   "source": [
    "Complete the following table, assuming a one-dimensional temperature profile:"
   ]
  },
  {
   "cell_type": "markdown",
   "metadata": {},
   "source": [
    "| Profile         | Heat Flux     | $\\pder{T}{t}$ |\n",
    "|:----------------|:--------------|:--------------|\n",
    "| Constant        | 0              | ? |\n",
    "| Linear, slope>0 | Constant, $<0$| ? |\n",
    "| Linear, slope<0 | Constant, $>0$| ? |\n",
    "| Concave Up, centered at origin   | Toward origin    | ? |\n",
    "| Concave Down, centered at origin | Away from origin | ? |\n"
   ]
  },
  {
   "cell_type": "markdown",
   "metadata": {},
   "source": [
    "# Part 2\n",
    "\n",
    "For each of the following profiles, plot the corresponding flux ($q$) and time-rate-of change, $\\pder{T}{t}$.  Put $T(x)$ on the left axis and $\\nabla T$ (or $\\frac{1}{\\alpha}\\pder{T}{t}$) on the right axis.\n",
    "\n",
    " 1. $T(x) = x^2$\n",
    " 1. $T(x) = \\sin(2\\pi x)$\n",
    " \n",
    "Consider the range $x=[0,1]$."
   ]
  },
  {
   "cell_type": "markdown",
   "metadata": {},
   "source": [
    "## Profile 1"
   ]
  },
  {
   "cell_type": "code",
   "execution_count": null,
   "metadata": {},
   "outputs": [],
   "source": []
  },
  {
   "cell_type": "markdown",
   "metadata": {},
   "source": [
    "## Profile 2"
   ]
  },
  {
   "cell_type": "code",
   "execution_count": null,
   "metadata": {},
   "outputs": [],
   "source": []
  }
 ],
 "metadata": {
  "hide_input": false,
  "kernelspec": {
   "display_name": "Python 3",
   "language": "python",
   "name": "python3"
  },
  "language_info": {
   "codemirror_mode": {
    "name": "ipython",
    "version": 3
   },
   "file_extension": ".py",
   "mimetype": "text/x-python",
   "name": "python",
   "nbconvert_exporter": "python",
   "pygments_lexer": "ipython3",
   "version": "3.7.1"
  },
  "latex_envs": {
   "LaTeX_envs_menu_present": true,
   "autoclose": false,
   "autocomplete": false,
   "bibliofile": "biblio.bib",
   "cite_by": "apalike",
   "current_citInitial": 1,
   "eqLabelWithNumbers": true,
   "eqNumInitial": 1,
   "hotkeys": {
    "equation": "Ctrl-E",
    "itemize": "Ctrl-I"
   },
   "labels_anchors": false,
   "latex_user_defs": false,
   "report_style_numbering": false,
   "user_envs_cfg": false
  },
  "toc": {
   "base_numbering": 1,
   "colors": {
    "hover_highlight": "#DAA520",
    "navigate_num": "#000000",
    "navigate_text": "#333333",
    "running_highlight": "#FF0000",
    "selected_highlight": "#FFD700",
    "sidebar_border": "#EEEEEE",
    "wrapper_background": "#FFFFFF"
   },
   "moveMenuLeft": true,
   "nav_menu": {},
   "navigate_menu": true,
   "number_sections": false,
   "sideBar": true,
   "skip_h1_title": false,
   "threshold": 4,
   "title_cell": "Table of Contents",
   "title_sidebar": "Contents",
   "toc_cell": true,
   "toc_position": {
    "height": "calc(100% - 180px)",
    "left": "10px",
    "top": "150px",
    "width": "223px"
   },
   "toc_section_display": true,
   "toc_window_display": false,
   "widenNotebook": false
  },
  "varInspector": {
   "cols": {
    "lenName": 16,
    "lenType": 16,
    "lenVar": 40
   },
   "kernels_config": {
    "python": {
     "delete_cmd_postfix": "",
     "delete_cmd_prefix": "del ",
     "library": "var_list.py",
     "varRefreshCmd": "print(var_dic_list())"
    },
    "r": {
     "delete_cmd_postfix": ") ",
     "delete_cmd_prefix": "rm(",
     "library": "var_list.r",
     "varRefreshCmd": "cat(var_dic_list()) "
    }
   },
   "types_to_exclude": [
    "module",
    "function",
    "builtin_function_or_method",
    "instance",
    "_Feature"
   ],
   "window_display": false
  }
 },
 "nbformat": 4,
 "nbformat_minor": 2
}
